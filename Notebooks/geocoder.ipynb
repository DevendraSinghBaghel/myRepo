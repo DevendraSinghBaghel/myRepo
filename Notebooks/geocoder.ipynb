{
 "cells": [
  {
   "cell_type": "code",
   "execution_count": 1,
   "metadata": {
    "collapsed": true
   },
   "outputs": [],
   "source": [
    "import pandas as pd"
   ]
  },
  {
   "cell_type": "code",
   "execution_count": 3,
   "metadata": {
    "collapsed": false
   },
   "outputs": [
    {
     "name": "stderr",
     "output_type": "stream",
     "text": [
      "C:\\Anaconda2\\envs\\py35\\lib\\site-packages\\IPython\\core\\interactiveshell.py:2705: DtypeWarning: Columns (24) have mixed types. Specify dtype option on import or set low_memory=False.\n",
      "  interactivity=interactivity, compiler=compiler, result=result)\n"
     ]
    }
   ],
   "source": [
    "geo_data=pd.read_csv('Townlands__OSi_National_Placenames_Gazetteer.csv')"
   ]
  },
  {
   "cell_type": "code",
   "execution_count": 4,
   "metadata": {
    "collapsed": false
   },
   "outputs": [
    {
     "data": {
      "text/html": [
       "<div>\n",
       "<table border=\"1\" class=\"dataframe\">\n",
       "  <thead>\n",
       "    <tr style=\"text-align: right;\">\n",
       "      <th></th>\n",
       "      <th>X</th>\n",
       "      <th>Y</th>\n",
       "      <th>OBJECTID</th>\n",
       "      <th>County</th>\n",
       "      <th>Contae</th>\n",
       "      <th>Local_Government_Area</th>\n",
       "      <th>Limistéar_Rialtas_Áitiúil</th>\n",
       "      <th>Classification</th>\n",
       "      <th>Cineál</th>\n",
       "      <th>Gaeltacht</th>\n",
       "      <th>...</th>\n",
       "      <th>Alternative_Name</th>\n",
       "      <th>IG_E</th>\n",
       "      <th>IG_N</th>\n",
       "      <th>ITM_E</th>\n",
       "      <th>ITM_N</th>\n",
       "      <th>Irish_Validation</th>\n",
       "      <th>Legislation</th>\n",
       "      <th>Validated_By</th>\n",
       "      <th>Date_</th>\n",
       "      <th>Comment_</th>\n",
       "    </tr>\n",
       "  </thead>\n",
       "  <tbody>\n",
       "    <tr>\n",
       "      <th>0</th>\n",
       "      <td>-8.154702</td>\n",
       "      <td>51.812504</td>\n",
       "      <td>10001</td>\n",
       "      <td>CORK</td>\n",
       "      <td>Corcaigh</td>\n",
       "      <td>CORK</td>\n",
       "      <td>NaN</td>\n",
       "      <td>Td</td>\n",
       "      <td>Bf</td>\n",
       "      <td>N</td>\n",
       "      <td>...</td>\n",
       "      <td>NaN</td>\n",
       "      <td>189380</td>\n",
       "      <td>62197</td>\n",
       "      <td>589333</td>\n",
       "      <td>562261</td>\n",
       "      <td>NaN</td>\n",
       "      <td>NaN</td>\n",
       "      <td>Fiontar</td>\n",
       "      <td>NaN</td>\n",
       "      <td>NaN</td>\n",
       "    </tr>\n",
       "    <tr>\n",
       "      <th>1</th>\n",
       "      <td>-8.988414</td>\n",
       "      <td>51.890985</td>\n",
       "      <td>10002</td>\n",
       "      <td>CORK</td>\n",
       "      <td>Corcaigh</td>\n",
       "      <td>CORK</td>\n",
       "      <td>NaN</td>\n",
       "      <td>Td</td>\n",
       "      <td>Bf</td>\n",
       "      <td>N</td>\n",
       "      <td>...</td>\n",
       "      <td>NaN</td>\n",
       "      <td>132001</td>\n",
       "      <td>71380</td>\n",
       "      <td>531966</td>\n",
       "      <td>571442</td>\n",
       "      <td>NaN</td>\n",
       "      <td>NaN</td>\n",
       "      <td>Fiontar</td>\n",
       "      <td>NaN</td>\n",
       "      <td>NaN</td>\n",
       "    </tr>\n",
       "    <tr>\n",
       "      <th>2</th>\n",
       "      <td>-8.869571</td>\n",
       "      <td>51.678448</td>\n",
       "      <td>10003</td>\n",
       "      <td>CORK</td>\n",
       "      <td>Corcaigh</td>\n",
       "      <td>CORK</td>\n",
       "      <td>NaN</td>\n",
       "      <td>Td</td>\n",
       "      <td>Bf</td>\n",
       "      <td>N</td>\n",
       "      <td>...</td>\n",
       "      <td>NaN</td>\n",
       "      <td>139901</td>\n",
       "      <td>47627</td>\n",
       "      <td>539864</td>\n",
       "      <td>547695</td>\n",
       "      <td>NaN</td>\n",
       "      <td>NaN</td>\n",
       "      <td>Fiontar</td>\n",
       "      <td>NaN</td>\n",
       "      <td>NaN</td>\n",
       "    </tr>\n",
       "    <tr>\n",
       "      <th>3</th>\n",
       "      <td>-8.560456</td>\n",
       "      <td>51.990597</td>\n",
       "      <td>10004</td>\n",
       "      <td>CORK</td>\n",
       "      <td>Corcaigh</td>\n",
       "      <td>CORK</td>\n",
       "      <td>NaN</td>\n",
       "      <td>Td</td>\n",
       "      <td>Bf</td>\n",
       "      <td>N</td>\n",
       "      <td>...</td>\n",
       "      <td>NaN</td>\n",
       "      <td>161549</td>\n",
       "      <td>82150</td>\n",
       "      <td>561508</td>\n",
       "      <td>582210</td>\n",
       "      <td>NaN</td>\n",
       "      <td>NaN</td>\n",
       "      <td>Fiontar</td>\n",
       "      <td>NaN</td>\n",
       "      <td>NaN</td>\n",
       "    </tr>\n",
       "    <tr>\n",
       "      <th>4</th>\n",
       "      <td>-9.612001</td>\n",
       "      <td>51.612860</td>\n",
       "      <td>10005</td>\n",
       "      <td>CORK</td>\n",
       "      <td>Corcaigh</td>\n",
       "      <td>CORK</td>\n",
       "      <td>NaN</td>\n",
       "      <td>Td</td>\n",
       "      <td>Bf</td>\n",
       "      <td>N</td>\n",
       "      <td>...</td>\n",
       "      <td>NaN</td>\n",
       "      <td>88388</td>\n",
       "      <td>41203</td>\n",
       "      <td>488362</td>\n",
       "      <td>541272</td>\n",
       "      <td>NaN</td>\n",
       "      <td>NaN</td>\n",
       "      <td>Fiontar</td>\n",
       "      <td>NaN</td>\n",
       "      <td>NaN</td>\n",
       "    </tr>\n",
       "  </tbody>\n",
       "</table>\n",
       "<p>5 rows × 25 columns</p>\n",
       "</div>"
      ],
      "text/plain": [
       "          X          Y  OBJECTID County    Contae Local_Government_Area  \\\n",
       "0 -8.154702  51.812504     10001   CORK  Corcaigh                  CORK   \n",
       "1 -8.988414  51.890985     10002   CORK  Corcaigh                  CORK   \n",
       "2 -8.869571  51.678448     10003   CORK  Corcaigh                  CORK   \n",
       "3 -8.560456  51.990597     10004   CORK  Corcaigh                  CORK   \n",
       "4 -9.612001  51.612860     10005   CORK  Corcaigh                  CORK   \n",
       "\n",
       "   Limistéar_Rialtas_Áitiúil Classification Cineál Gaeltacht    ...     \\\n",
       "0                        NaN             Td     Bf         N    ...      \n",
       "1                        NaN             Td     Bf         N    ...      \n",
       "2                        NaN             Td     Bf         N    ...      \n",
       "3                        NaN             Td     Bf         N    ...      \n",
       "4                        NaN             Td     Bf         N    ...      \n",
       "\n",
       "   Alternative_Name    IG_E   IG_N   ITM_E   ITM_N  Irish_Validation  \\\n",
       "0               NaN  189380  62197  589333  562261               NaN   \n",
       "1               NaN  132001  71380  531966  571442               NaN   \n",
       "2               NaN  139901  47627  539864  547695               NaN   \n",
       "3               NaN  161549  82150  561508  582210               NaN   \n",
       "4               NaN   88388  41203  488362  541272               NaN   \n",
       "\n",
       "   Legislation  Validated_By  Date_  Comment_  \n",
       "0          NaN       Fiontar    NaN       NaN  \n",
       "1          NaN       Fiontar    NaN       NaN  \n",
       "2          NaN       Fiontar    NaN       NaN  \n",
       "3          NaN       Fiontar    NaN       NaN  \n",
       "4          NaN       Fiontar    NaN       NaN  \n",
       "\n",
       "[5 rows x 25 columns]"
      ]
     },
     "execution_count": 4,
     "metadata": {},
     "output_type": "execute_result"
    }
   ],
   "source": [
    "geo_data.head()"
   ]
  },
  {
   "cell_type": "code",
   "execution_count": 26,
   "metadata": {
    "collapsed": false
   },
   "outputs": [],
   "source": [
    "passage_west_df = geo_data[(geo_data.English_Name == 'PASSAGE WEST') ]"
   ]
  },
  {
   "cell_type": "code",
   "execution_count": 27,
   "metadata": {
    "collapsed": false
   },
   "outputs": [
    {
     "data": {
      "text/html": [
       "<div>\n",
       "<table border=\"1\" class=\"dataframe\">\n",
       "  <thead>\n",
       "    <tr style=\"text-align: right;\">\n",
       "      <th></th>\n",
       "      <th>X</th>\n",
       "      <th>Y</th>\n",
       "    </tr>\n",
       "  </thead>\n",
       "  <tbody>\n",
       "    <tr>\n",
       "      <th>46515</th>\n",
       "      <td>-6.973717</td>\n",
       "      <td>52.239353</td>\n",
       "    </tr>\n",
       "  </tbody>\n",
       "</table>\n",
       "</div>"
      ],
      "text/plain": [
       "              X          Y\n",
       "46515 -6.973717  52.239353"
      ]
     },
     "execution_count": 27,
     "metadata": {},
     "output_type": "execute_result"
    }
   ],
   "source": [
    "passage_west_df[['X','Y']]"
   ]
  },
  {
   "cell_type": "code",
   "execution_count": 28,
   "metadata": {
    "collapsed": true
   },
   "outputs": [],
   "source": [
    "passage_west_df = geo_data[(geo_data.English_Name == 'PASSAGE WEST')  & (geo_data.Local_Government_Area == 'WATERFORD') ]"
   ]
  },
  {
   "cell_type": "code",
   "execution_count": 29,
   "metadata": {
    "collapsed": false
   },
   "outputs": [
    {
     "data": {
      "text/html": [
       "<div>\n",
       "<table border=\"1\" class=\"dataframe\">\n",
       "  <thead>\n",
       "    <tr style=\"text-align: right;\">\n",
       "      <th></th>\n",
       "      <th>X</th>\n",
       "      <th>Y</th>\n",
       "    </tr>\n",
       "  </thead>\n",
       "  <tbody>\n",
       "    <tr>\n",
       "      <th>46515</th>\n",
       "      <td>-6.973717</td>\n",
       "      <td>52.239353</td>\n",
       "    </tr>\n",
       "  </tbody>\n",
       "</table>\n",
       "</div>"
      ],
      "text/plain": [
       "              X          Y\n",
       "46515 -6.973717  52.239353"
      ]
     },
     "execution_count": 29,
     "metadata": {},
     "output_type": "execute_result"
    }
   ],
   "source": [
    "passage_west_df[['X','Y']]"
   ]
  },
  {
   "cell_type": "code",
   "execution_count": 34,
   "metadata": {
    "collapsed": true
   },
   "outputs": [],
   "source": [
    "s = 'dad'"
   ]
  },
  {
   "cell_type": "code",
   "execution_count": 37,
   "metadata": {
    "collapsed": false
   },
   "outputs": [
    {
     "data": {
      "text/plain": [
       "'d'"
      ]
     },
     "execution_count": 37,
     "metadata": {},
     "output_type": "execute_result"
    }
   ],
   "source": [
    " s[-1]"
   ]
  },
  {
   "cell_type": "code",
   "execution_count": 38,
   "metadata": {
    "collapsed": true
   },
   "outputs": [],
   "source": []
  },
  {
   "cell_type": "code",
   "execution_count": 39,
   "metadata": {
    "collapsed": true
   },
   "outputs": [],
   "source": [
    "pairs=[(one,two) for one in x for two in y]"
   ]
  },
  {
   "cell_type": "code",
   "execution_count": 40,
   "metadata": {
    "collapsed": false
   },
   "outputs": [
    {
     "data": {
      "text/plain": [
       "[(0, 0), (0, 1), (1, 0), (1, 1), (2, 0), (2, 1)]"
      ]
     },
     "execution_count": 40,
     "metadata": {},
     "output_type": "execute_result"
    }
   ],
   "source": [
    "pairs"
   ]
  },
  {
   "cell_type": "code",
   "execution_count": null,
   "metadata": {
    "collapsed": true
   },
   "outputs": [],
   "source": []
  }
 ],
 "metadata": {
  "kernelspec": {
   "display_name": "Python 3",
   "language": "python",
   "name": "python3"
  },
  "language_info": {
   "codemirror_mode": {
    "name": "ipython",
    "version": 3
   },
   "file_extension": ".py",
   "mimetype": "text/x-python",
   "name": "python",
   "nbconvert_exporter": "python",
   "pygments_lexer": "ipython3",
   "version": "3.5.2"
  }
 },
 "nbformat": 4,
 "nbformat_minor": 0
}
