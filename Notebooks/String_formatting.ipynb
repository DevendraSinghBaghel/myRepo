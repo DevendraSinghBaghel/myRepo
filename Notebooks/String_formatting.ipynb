{
 "cells": [
  {
   "cell_type": "code",
   "execution_count": 29,
   "metadata": {
    "collapsed": true
   },
   "outputs": [],
   "source": [
    "n=6\n"
   ]
  },
  {
   "cell_type": "code",
   "execution_count": 30,
   "metadata": {
    "collapsed": false
   },
   "outputs": [
    {
     "name": "stdout",
     "output_type": "stream",
     "text": [
      "                   #\n",
      "                  ##\n",
      "                 ###\n",
      "                ####\n",
      "               #####\n",
      "              ######\n"
     ]
    }
   ],
   "source": [
    "for i in range(n):\n",
    "    times = i+1\n",
    "    out = '#' * times\n",
    "    #print '#' * times\n",
    "    print '{:>20}'.format( out )"
   ]
  },
  {
   "cell_type": "code",
   "execution_count": 39,
   "metadata": {
    "collapsed": false
   },
   "outputs": [
    {
     "name": "stdout",
     "output_type": "stream",
     "text": [
      "breakfast\n",
      "beach\n",
      "citycenter\n",
      "location\n",
      "metro\n",
      "view\n",
      "staff\n",
      "price\n"
     ]
    }
   ],
   "source": [
    "patterns='breakfast beach citycenter location metro view staff price'\n",
    "pattern_arr=patterns.split(' ')\n",
    "\n",
    "for word in pattern_arr:\n",
    "    print word\n"
   ]
  },
  {
   "cell_type": "code",
   "execution_count": null,
   "metadata": {
    "collapsed": true
   },
   "outputs": [],
   "source": []
  }
 ],
 "metadata": {
  "kernelspec": {
   "display_name": "Python 2",
   "language": "python",
   "name": "python2"
  },
  "language_info": {
   "codemirror_mode": {
    "name": "ipython",
    "version": 2
   },
   "file_extension": ".py",
   "mimetype": "text/x-python",
   "name": "python",
   "nbconvert_exporter": "python",
   "pygments_lexer": "ipython2",
   "version": "2.7.11"
  }
 },
 "nbformat": 4,
 "nbformat_minor": 0
}
