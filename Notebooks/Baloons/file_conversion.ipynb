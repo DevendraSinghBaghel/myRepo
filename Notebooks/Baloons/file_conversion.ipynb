{
 "cells": [
  {
   "cell_type": "code",
   "execution_count": 6,
   "metadata": {
    "collapsed": false
   },
   "outputs": [
    {
     "data": {
      "text/plain": [
       "<open file 'adult-stretch.data', mode 'r' at 0x7f1b7c067ed0>"
      ]
     },
     "execution_count": 6,
     "metadata": {},
     "output_type": "execute_result"
    }
   ],
   "source": [
    "file_obj = open('adult-stretch.data')\n",
    "file_obj"
   ]
  },
  {
   "cell_type": "code",
   "execution_count": 7,
   "metadata": {
    "collapsed": false
   },
   "outputs": [
    {
     "name": "stdout",
     "output_type": "stream",
     "text": [
      "YELLOW,SMALL,STRETCH,ADULT,T\n",
      "\n",
      "YELLOW,SMALL,STRETCH,CHILD,T\n",
      "\n",
      "YELLOW,SMALL,DIP,ADULT,T\n",
      "\n",
      "YELLOW,SMALL,DIP,CHILD,F\n",
      "\n",
      "YELLOW,SMALL,DIP,CHILD,F\n",
      "\n",
      "YELLOW,LARGE,STRETCH,ADULT,T\n",
      "\n",
      "YELLOW,LARGE,STRETCH,CHILD,T\n",
      "\n",
      "YELLOW,LARGE,DIP,ADULT,T\n",
      "\n",
      "YELLOW,LARGE,DIP,CHILD,F\n",
      "\n",
      "YELLOW,LARGE,DIP,CHILD,F\n",
      "\n",
      "PURPLE,SMALL,STRETCH,ADULT,T\n",
      "\n",
      "PURPLE,SMALL,STRETCH,CHILD,T\n",
      "\n",
      "PURPLE,SMALL,DIP,ADULT,T\n",
      "\n",
      "PURPLE,SMALL,DIP,CHILD,F\n",
      "\n",
      "PURPLE,SMALL,DIP,CHILD,F\n",
      "\n",
      "PURPLE,LARGE,STRETCH,ADULT,T\n",
      "\n",
      "PURPLE,LARGE,STRETCH,CHILD,T\n",
      "\n",
      "PURPLE,LARGE,DIP,ADULT,T\n",
      "\n",
      "PURPLE,LARGE,DIP,CHILD,F\n",
      "\n",
      "PURPLE,LARGE,DIP,CHILD,F\n",
      "\n"
     ]
    }
   ],
   "source": [
    "for line in file_obj:\n",
    "    print line"
   ]
  },
  {
   "cell_type": "code",
   "execution_count": null,
   "metadata": {
    "collapsed": true
   },
   "outputs": [],
   "source": []
  },
  {
   "cell_type": "code",
   "execution_count": null,
   "metadata": {
    "collapsed": true
   },
   "outputs": [],
   "source": []
  }
 ],
 "metadata": {
  "kernelspec": {
   "display_name": "Python 2",
   "language": "python",
   "name": "python2"
  },
  "language_info": {
   "codemirror_mode": {
    "name": "ipython",
    "version": 2
   },
   "file_extension": ".py",
   "mimetype": "text/x-python",
   "name": "python",
   "nbconvert_exporter": "python",
   "pygments_lexer": "ipython2",
   "version": "2.7.11"
  }
 },
 "nbformat": 4,
 "nbformat_minor": 0
}
