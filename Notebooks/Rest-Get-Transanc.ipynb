{
 "cells": [
  {
   "cell_type": "code",
   "execution_count": 70,
   "metadata": {
    "collapsed": true
   },
   "outputs": [],
   "source": [
    "import requests\n",
    "import json\n",
    "import re\n",
    "\n",
    "ezee_limit=50\n",
    "res={}\n"
   ]
  },
  {
   "cell_type": "code",
   "execution_count": 71,
   "metadata": {
    "collapsed": true
   },
   "outputs": [],
   "source": [
    "url = 'https://ulsterbank.openbankproject.com/obp/v1.2.1/banks/ub-ni/accounts/4950fe13-343d-4934-8eab-b4bdeda97e48/owner/transactions'\n",
    "headers = {'Content-Type': 'application/json','Authorization':'DirectLogin dl_token=eyJhbGciOiJIUzI1NiIsInR5cCI6IkpXVCJ9.eyIiOiIifQ.E7FF9cR13WMo6pKCf9JqM52rCZ5Oeq6ymHoJJxnytwA'}\n"
   ]
  },
  {
   "cell_type": "code",
   "execution_count": 72,
   "metadata": {
    "collapsed": false
   },
   "outputs": [],
   "source": [
    "response = requests.get(url,headers=headers)\n",
    "#response.content\n",
    "json_data = json.loads(response.content)\n",
    "#json_data\n",
    "json_data = json.loads(response.content)['transactions']"
   ]
  },
  {
   "cell_type": "code",
   "execution_count": 78,
   "metadata": {
    "collapsed": false
   },
   "outputs": [],
   "source": [
    "count=1\n",
    "for trans_details in json_data:\n",
    "    temp={}\n",
    "    trans_detail=trans_details['details']\n",
    "    \n",
    "    if ( re.search(('^Debit|^Credit'), trans_detail['type'], flags=0) ) :\n",
    "        \n",
    "        temp['type'] = trans_detail['type']\n",
    "        temp['date_of_trans'] = str(trans_detail['completed'])\n",
    "        temp['amt']    = abs(float(trans_detail['value']['amount']))\n",
    "        if  temp['amt'] > ezee_limit:\n",
    "            temp['ezee_eligibility'] = 'T' \n",
    "        else:\n",
    "            temp['ezee_eligibility'] = 'F' \n",
    "        res[count]=temp\n",
    "        count += 1\n"
   ]
  },
  {
   "cell_type": "code",
   "execution_count": 80,
   "metadata": {
    "collapsed": false
   },
   "outputs": [
    {
     "data": {
      "text/plain": [
       "'{\"1\": {\"date_of_trans\": \"2015-09-21T22:00:00Z\", \"type\": \"Debit Card\", \"amt\": 65.98, \"ezee_eligibility\": \"T\"}, \"2\": {\"date_of_trans\": \"2015-09-17T22:00:00Z\", \"type\": \"Debit Card\", \"amt\": 37.62, \"ezee_eligibility\": \"F\"}, \"3\": {\"date_of_trans\": \"2015-09-17T22:00:00Z\", \"type\": \"Debit Card\", \"amt\": 37.57, \"ezee_eligibility\": \"F\"}, \"4\": {\"date_of_trans\": \"2015-09-17T22:00:00Z\", \"type\": \"Debit Card\", \"amt\": 83.82, \"ezee_eligibility\": \"T\"}, \"5\": {\"date_of_trans\": \"2015-09-17T22:00:00Z\", \"type\": \"Debit Card\", \"amt\": 6.39, \"ezee_eligibility\": \"F\"}, \"6\": {\"date_of_trans\": \"2015-09-16T22:00:00Z\", \"type\": \"Debit Card\", \"amt\": 90.27, \"ezee_eligibility\": \"T\"}, \"7\": {\"date_of_trans\": \"2015-09-08T22:00:00Z\", \"type\": \"Debit Card\", \"amt\": 53.33, \"ezee_eligibility\": \"T\"}, \"8\": {\"date_of_trans\": \"2015-09-08T22:00:00Z\", \"type\": \"Debit Card\", \"amt\": 53.8, \"ezee_eligibility\": \"T\"}, \"9\": {\"date_of_trans\": \"2015-08-25T22:00:00Z\", \"type\": \"Debit Card\", \"amt\": 74.59, \"ezee_eligibility\": \"T\"}, \"10\": {\"date_of_trans\": \"2015-08-21T22:00:00Z\", \"type\": \"Debit Card\", \"amt\": 73.25, \"ezee_eligibility\": \"T\"}, \"11\": {\"date_of_trans\": \"2015-08-18T22:00:00Z\", \"type\": \"Debit Card\", \"amt\": 6.7, \"ezee_eligibility\": \"F\"}, \"12\": {\"date_of_trans\": \"2015-08-14T22:00:00Z\", \"type\": \"Debit Card\", \"amt\": 33.05, \"ezee_eligibility\": \"F\"}, \"13\": {\"date_of_trans\": \"2015-08-13T22:00:00Z\", \"type\": \"Debit Card\", \"amt\": 20.19, \"ezee_eligibility\": \"F\"}, \"14\": {\"date_of_trans\": \"2015-08-08T22:00:00Z\", \"type\": \"Debit Card\", \"amt\": 36.76, \"ezee_eligibility\": \"F\"}, \"15\": {\"date_of_trans\": \"2015-08-07T22:00:00Z\", \"type\": \"Debit Card\", \"amt\": 83.06, \"ezee_eligibility\": \"T\"}, \"16\": {\"date_of_trans\": \"2015-08-07T22:00:00Z\", \"type\": \"Debit Card\", \"amt\": 112.07, \"ezee_eligibility\": \"T\"}, \"17\": {\"date_of_trans\": \"2015-08-07T22:00:00Z\", \"type\": \"Debit Card\", \"amt\": 41.7, \"ezee_eligibility\": \"F\"}, \"18\": {\"date_of_trans\": \"2015-08-07T22:00:00Z\", \"type\": \"Debit Card\", \"amt\": 13.17, \"ezee_eligibility\": \"F\"}, \"19\": {\"date_of_trans\": \"2015-08-03T22:00:00Z\", \"type\": \"Debit Card\", \"amt\": 74.59, \"ezee_eligibility\": \"T\"}, \"20\": {\"date_of_trans\": \"2015-08-02T22:00:00Z\", \"type\": \"Debit Card\", \"amt\": 5.35, \"ezee_eligibility\": \"F\"}, \"21\": {\"date_of_trans\": \"2015-07-23T22:00:00Z\", \"type\": \"Debit Card\", \"amt\": 34.65, \"ezee_eligibility\": \"F\"}, \"22\": {\"date_of_trans\": \"2015-07-19T22:00:00Z\", \"type\": \"Debit Card\", \"amt\": 74.59, \"ezee_eligibility\": \"T\"}, \"23\": {\"date_of_trans\": \"2015-07-19T22:00:00Z\", \"type\": \"Debit Card\", \"amt\": 77.91, \"ezee_eligibility\": \"T\"}, \"24\": {\"date_of_trans\": \"2015-07-17T22:00:00Z\", \"type\": \"Debit Card\", \"amt\": 66.57, \"ezee_eligibility\": \"T\"}, \"25\": {\"date_of_trans\": \"2015-07-12T22:00:00Z\", \"type\": \"Debit Card\", \"amt\": 5.55, \"ezee_eligibility\": \"F\"}, \"26\": {\"date_of_trans\": \"2015-07-12T22:00:00Z\", \"type\": \"Debit Card\", \"amt\": 6.01, \"ezee_eligibility\": \"F\"}, \"27\": {\"date_of_trans\": \"2015-07-11T22:00:00Z\", \"type\": \"Debit Card\", \"amt\": 27.17, \"ezee_eligibility\": \"F\"}, \"28\": {\"date_of_trans\": \"2015-07-11T22:00:00Z\", \"type\": \"Debit Card\", \"amt\": 64.49, \"ezee_eligibility\": \"T\"}, \"29\": {\"date_of_trans\": \"2015-07-09T22:00:00Z\", \"type\": \"Debit Card\", \"amt\": 37.16, \"ezee_eligibility\": \"F\"}, \"30\": {\"date_of_trans\": \"2015-07-07T22:00:00Z\", \"type\": \"Debit Card\", \"amt\": 13.55, \"ezee_eligibility\": \"F\"}, \"31\": {\"date_of_trans\": \"2015-07-04T22:00:00Z\", \"type\": \"Debit Card\", \"amt\": 74.59, \"ezee_eligibility\": \"T\"}, \"32\": {\"date_of_trans\": \"2015-07-04T22:00:00Z\", \"type\": \"Debit Card\", \"amt\": 98.18, \"ezee_eligibility\": \"T\"}, \"33\": {}, \"34\": {}, \"35\": {}, \"36\": {\"date_of_trans\": \"2015-07-23T22:00:00Z\", \"type\": \"Debit Card\", \"amt\": 34.65, \"ezee_eligibility\": \"F\"}, \"37\": {\"date_of_trans\": \"2015-07-19T22:00:00Z\", \"type\": \"Debit Card\", \"amt\": 74.59, \"ezee_eligibility\": \"T\"}, \"38\": {\"date_of_trans\": \"2015-07-19T22:00:00Z\", \"type\": \"Debit Card\", \"amt\": 77.91, \"ezee_eligibility\": \"T\"}, \"39\": {\"date_of_trans\": \"2015-07-17T22:00:00Z\", \"type\": \"Debit Card\", \"amt\": 66.57, \"ezee_eligibility\": \"T\"}, \"40\": {\"date_of_trans\": \"2015-07-12T22:00:00Z\", \"type\": \"Debit Card\", \"amt\": 5.55, \"ezee_eligibility\": \"F\"}, \"41\": {\"date_of_trans\": \"2015-07-12T22:00:00Z\", \"type\": \"Debit Card\", \"amt\": 6.01, \"ezee_eligibility\": \"F\"}, \"42\": {\"date_of_trans\": \"2015-07-11T22:00:00Z\", \"type\": \"Debit Card\", \"amt\": 27.17, \"ezee_eligibility\": \"F\"}, \"43\": {\"date_of_trans\": \"2015-07-11T22:00:00Z\", \"type\": \"Debit Card\", \"amt\": 64.49, \"ezee_eligibility\": \"T\"}, \"44\": {\"date_of_trans\": \"2015-07-09T22:00:00Z\", \"type\": \"Debit Card\", \"amt\": 37.16, \"ezee_eligibility\": \"F\"}, \"45\": {\"date_of_trans\": \"2015-07-07T22:00:00Z\", \"type\": \"Debit Card\", \"amt\": 13.55, \"ezee_eligibility\": \"F\"}, \"46\": {\"date_of_trans\": \"2015-07-04T22:00:00Z\", \"type\": \"Debit Card\", \"amt\": 74.59, \"ezee_eligibility\": \"T\"}, \"47\": {\"date_of_trans\": \"2015-07-04T22:00:00Z\", \"type\": \"Debit Card\", \"amt\": 98.18, \"ezee_eligibility\": \"T\"}, \"48\": {}, \"49\": {}, \"50\": {}, \"date_of_trans\": \"2015-07-04T22:00:00Z\", \"type\": \"Debit Card\", \"amt\": 98.18, \"ezee_eligibility\": \"T\"}'"
      ]
     },
     "execution_count": 80,
     "metadata": {},
     "output_type": "execute_result"
    }
   ],
   "source": [
    "json.dumps(res)"
   ]
  },
  {
   "cell_type": "code",
   "execution_count": 65,
   "metadata": {
    "collapsed": false
   },
   "outputs": [
    {
     "data": {
      "text/plain": [
       "98.18"
      ]
     },
     "execution_count": 65,
     "metadata": {},
     "output_type": "execute_result"
    }
   ],
   "source": [
    "abs(-98.18)"
   ]
  },
  {
   "cell_type": "code",
   "execution_count": null,
   "metadata": {
    "collapsed": true
   },
   "outputs": [],
   "source": []
  }
 ],
 "metadata": {
  "kernelspec": {
   "display_name": "Python 2",
   "language": "python",
   "name": "python2"
  },
  "language_info": {
   "codemirror_mode": {
    "name": "ipython",
    "version": 2
   },
   "file_extension": ".py",
   "mimetype": "text/x-python",
   "name": "python",
   "nbconvert_exporter": "python",
   "pygments_lexer": "ipython2",
   "version": "2.7.11"
  }
 },
 "nbformat": 4,
 "nbformat_minor": 0
}
