{
 "cells": [
  {
   "cell_type": "code",
   "execution_count": 24,
   "metadata": {
    "collapsed": true
   },
   "outputs": [],
   "source": [
    "import collections"
   ]
  },
  {
   "cell_type": "markdown",
   "metadata": {},
   "source": [
    "namedtuple is actually returning a class , Card with two attributes rank and suit"
   ]
  },
  {
   "cell_type": "code",
   "execution_count": 25,
   "metadata": {
    "collapsed": true
   },
   "outputs": [],
   "source": [
    "Card = collections.namedtuple('Card',['rank','suit']) "
   ]
  },
  {
   "cell_type": "code",
   "execution_count": 26,
   "metadata": {
    "collapsed": false
   },
   "outputs": [
    {
     "data": {
      "text/plain": [
       "Card(rank='7', suit='Daimonds')"
      ]
     },
     "execution_count": 26,
     "metadata": {},
     "output_type": "execute_result"
    }
   ],
   "source": [
    "beer_card=Card('7','Daimonds')\n",
    "beer_card"
   ]
  },
  {
   "cell_type": "code",
   "execution_count": 27,
   "metadata": {
    "collapsed": false
   },
   "outputs": [
    {
     "data": {
      "text/plain": [
       "['__add__',\n",
       " '__class__',\n",
       " '__contains__',\n",
       " '__delattr__',\n",
       " '__dict__',\n",
       " '__doc__',\n",
       " '__eq__',\n",
       " '__format__',\n",
       " '__ge__',\n",
       " '__getattribute__',\n",
       " '__getitem__',\n",
       " '__getnewargs__',\n",
       " '__getslice__',\n",
       " '__getstate__',\n",
       " '__gt__',\n",
       " '__hash__',\n",
       " '__init__',\n",
       " '__iter__',\n",
       " '__le__',\n",
       " '__len__',\n",
       " '__lt__',\n",
       " '__module__',\n",
       " '__mul__',\n",
       " '__ne__',\n",
       " '__new__',\n",
       " '__reduce__',\n",
       " '__reduce_ex__',\n",
       " '__repr__',\n",
       " '__rmul__',\n",
       " '__setattr__',\n",
       " '__sizeof__',\n",
       " '__slots__',\n",
       " '__str__',\n",
       " '__subclasshook__',\n",
       " '_asdict',\n",
       " '_fields',\n",
       " '_make',\n",
       " '_replace',\n",
       " 'count',\n",
       " 'index',\n",
       " 'rank',\n",
       " 'suit']"
      ]
     },
     "execution_count": 27,
     "metadata": {},
     "output_type": "execute_result"
    }
   ],
   "source": [
    "dir(Card)"
   ]
  },
  {
   "cell_type": "markdown",
   "metadata": {},
   "source": [
    "Function to watch out here is __repr__\n",
    "The __repr__ method is invoked implicitly by the console and debugger, or explicitly by the repr() built-in function.\n",
    "\n",
    "The output of repr() for a Card instance is so explicit that you can clone a card by applying eval() to its repr()"
   ]
  },
  {
   "cell_type": "code",
   "execution_count": 28,
   "metadata": {
    "collapsed": false
   },
   "outputs": [
    {
     "data": {
      "text/plain": [
       "Card(rank='7', suit='Daimonds')"
      ]
     },
     "execution_count": 28,
     "metadata": {},
     "output_type": "execute_result"
    }
   ],
   "source": [
    "my_card = eval(repr(beer_card))\n",
    "my_card"
   ]
  },
  {
   "cell_type": "markdown",
   "metadata": {},
   "source": [
    "TestBed"
   ]
  },
  {
   "cell_type": "code",
   "execution_count": 29,
   "metadata": {
    "collapsed": false
   },
   "outputs": [
    {
     "data": {
      "text/plain": [
       "['2', '3', '4', '5', '6', '7', '8', '9', '10', 'J', 'Q', 'K', 'A']"
      ]
     },
     "execution_count": 29,
     "metadata": {},
     "output_type": "execute_result"
    }
   ],
   "source": [
    "ranks = [str(n) for n in range(2,11)+list('JQKA')]\n",
    "ranks\n"
   ]
  },
  {
   "cell_type": "code",
   "execution_count": 30,
   "metadata": {
    "collapsed": false
   },
   "outputs": [
    {
     "data": {
      "text/plain": [
       "['spades', 'diamonds', 'clubs', 'hearts']"
      ]
     },
     "execution_count": 30,
     "metadata": {},
     "output_type": "execute_result"
    }
   ],
   "source": [
    "suits = 'spades diamonds clubs hearts'.split()\n",
    "suits"
   ]
  },
  {
   "cell_type": "markdown",
   "metadata": {},
   "source": [
    "FrenchDeck Start Point"
   ]
  },
  {
   "cell_type": "code",
   "execution_count": 42,
   "metadata": {
    "collapsed": true
   },
   "outputs": [],
   "source": [
    "class FrenchDeck:\n",
    "    ranks = [str(n) for n in range(2,11)+list('JQKA')]\n",
    "    suits = 'spades diamonds clubs hearts'.split()\n",
    "    \n",
    "    def __init__(self):\n",
    "        self._cards = [Card(rank,suits) for suit in self.suits\n",
    "                                        for rank in self.ranks]\n",
    "    def __len__(self):\n",
    "        return len(self._cards)\n",
    "    \n",
    "        \n",
    "    def __getitem__(self, position):\n",
    "        return self._cards[position]"
   ]
  },
  {
   "cell_type": "code",
   "execution_count": 43,
   "metadata": {
    "collapsed": true
   },
   "outputs": [],
   "source": [
    "deck = FrenchDeck()"
   ]
  },
  {
   "cell_type": "code",
   "execution_count": 44,
   "metadata": {
    "collapsed": false
   },
   "outputs": [
    {
     "data": {
      "text/plain": [
       "52"
      ]
     },
     "execution_count": 44,
     "metadata": {},
     "output_type": "execute_result"
    }
   ],
   "source": [
    "len(deck)"
   ]
  },
  {
   "cell_type": "code",
   "execution_count": 45,
   "metadata": {
    "collapsed": false
   },
   "outputs": [
    {
     "data": {
      "text/plain": [
       "Card(rank='2', suit=['spades', 'diamonds', 'clubs', 'hearts'])"
      ]
     },
     "execution_count": 45,
     "metadata": {},
     "output_type": "execute_result"
    }
   ],
   "source": [
    "deck[0]"
   ]
  },
  {
   "cell_type": "code",
   "execution_count": 46,
   "metadata": {
    "collapsed": false
   },
   "outputs": [
    {
     "data": {
      "text/plain": [
       "[Card(rank='5', suit=['spades', 'diamonds', 'clubs', 'hearts']),\n",
       " Card(rank='6', suit=['spades', 'diamonds', 'clubs', 'hearts']),\n",
       " Card(rank='7', suit=['spades', 'diamonds', 'clubs', 'hearts'])]"
      ]
     },
     "execution_count": 46,
     "metadata": {},
     "output_type": "execute_result"
    }
   ],
   "source": [
    "deck[3:6]"
   ]
  },
  {
   "cell_type": "code",
   "execution_count": 47,
   "metadata": {
    "collapsed": false
   },
   "outputs": [
    {
     "data": {
      "text/plain": [
       "[Card(rank='A', suit=['spades', 'diamonds', 'clubs', 'hearts']),\n",
       " Card(rank='A', suit=['spades', 'diamonds', 'clubs', 'hearts']),\n",
       " Card(rank='A', suit=['spades', 'diamonds', 'clubs', 'hearts']),\n",
       " Card(rank='A', suit=['spades', 'diamonds', 'clubs', 'hearts'])]"
      ]
     },
     "execution_count": 47,
     "metadata": {},
     "output_type": "execute_result"
    }
   ],
   "source": [
    "deck[12::13]"
   ]
  },
  {
   "cell_type": "code",
   "execution_count": 48,
   "metadata": {
    "collapsed": false
   },
   "outputs": [
    {
     "data": {
      "text/plain": [
       "[Card(rank='2', suit=['spades', 'diamonds', 'clubs', 'hearts']),\n",
       " Card(rank='3', suit=['spades', 'diamonds', 'clubs', 'hearts']),\n",
       " Card(rank='4', suit=['spades', 'diamonds', 'clubs', 'hearts']),\n",
       " Card(rank='5', suit=['spades', 'diamonds', 'clubs', 'hearts']),\n",
       " Card(rank='6', suit=['spades', 'diamonds', 'clubs', 'hearts']),\n",
       " Card(rank='7', suit=['spades', 'diamonds', 'clubs', 'hearts']),\n",
       " Card(rank='8', suit=['spades', 'diamonds', 'clubs', 'hearts']),\n",
       " Card(rank='9', suit=['spades', 'diamonds', 'clubs', 'hearts']),\n",
       " Card(rank='10', suit=['spades', 'diamonds', 'clubs', 'hearts']),\n",
       " Card(rank='J', suit=['spades', 'diamonds', 'clubs', 'hearts']),\n",
       " Card(rank='Q', suit=['spades', 'diamonds', 'clubs', 'hearts']),\n",
       " Card(rank='K', suit=['spades', 'diamonds', 'clubs', 'hearts']),\n",
       " Card(rank='A', suit=['spades', 'diamonds', 'clubs', 'hearts']),\n",
       " Card(rank='2', suit=['spades', 'diamonds', 'clubs', 'hearts']),\n",
       " Card(rank='3', suit=['spades', 'diamonds', 'clubs', 'hearts']),\n",
       " Card(rank='4', suit=['spades', 'diamonds', 'clubs', 'hearts']),\n",
       " Card(rank='5', suit=['spades', 'diamonds', 'clubs', 'hearts']),\n",
       " Card(rank='6', suit=['spades', 'diamonds', 'clubs', 'hearts']),\n",
       " Card(rank='7', suit=['spades', 'diamonds', 'clubs', 'hearts']),\n",
       " Card(rank='8', suit=['spades', 'diamonds', 'clubs', 'hearts']),\n",
       " Card(rank='9', suit=['spades', 'diamonds', 'clubs', 'hearts']),\n",
       " Card(rank='10', suit=['spades', 'diamonds', 'clubs', 'hearts']),\n",
       " Card(rank='J', suit=['spades', 'diamonds', 'clubs', 'hearts']),\n",
       " Card(rank='Q', suit=['spades', 'diamonds', 'clubs', 'hearts']),\n",
       " Card(rank='K', suit=['spades', 'diamonds', 'clubs', 'hearts']),\n",
       " Card(rank='A', suit=['spades', 'diamonds', 'clubs', 'hearts']),\n",
       " Card(rank='2', suit=['spades', 'diamonds', 'clubs', 'hearts']),\n",
       " Card(rank='3', suit=['spades', 'diamonds', 'clubs', 'hearts']),\n",
       " Card(rank='4', suit=['spades', 'diamonds', 'clubs', 'hearts']),\n",
       " Card(rank='5', suit=['spades', 'diamonds', 'clubs', 'hearts']),\n",
       " Card(rank='6', suit=['spades', 'diamonds', 'clubs', 'hearts']),\n",
       " Card(rank='7', suit=['spades', 'diamonds', 'clubs', 'hearts']),\n",
       " Card(rank='8', suit=['spades', 'diamonds', 'clubs', 'hearts']),\n",
       " Card(rank='9', suit=['spades', 'diamonds', 'clubs', 'hearts']),\n",
       " Card(rank='10', suit=['spades', 'diamonds', 'clubs', 'hearts']),\n",
       " Card(rank='J', suit=['spades', 'diamonds', 'clubs', 'hearts']),\n",
       " Card(rank='Q', suit=['spades', 'diamonds', 'clubs', 'hearts']),\n",
       " Card(rank='K', suit=['spades', 'diamonds', 'clubs', 'hearts']),\n",
       " Card(rank='A', suit=['spades', 'diamonds', 'clubs', 'hearts']),\n",
       " Card(rank='2', suit=['spades', 'diamonds', 'clubs', 'hearts']),\n",
       " Card(rank='3', suit=['spades', 'diamonds', 'clubs', 'hearts']),\n",
       " Card(rank='4', suit=['spades', 'diamonds', 'clubs', 'hearts']),\n",
       " Card(rank='5', suit=['spades', 'diamonds', 'clubs', 'hearts']),\n",
       " Card(rank='6', suit=['spades', 'diamonds', 'clubs', 'hearts']),\n",
       " Card(rank='7', suit=['spades', 'diamonds', 'clubs', 'hearts']),\n",
       " Card(rank='8', suit=['spades', 'diamonds', 'clubs', 'hearts']),\n",
       " Card(rank='9', suit=['spades', 'diamonds', 'clubs', 'hearts']),\n",
       " Card(rank='10', suit=['spades', 'diamonds', 'clubs', 'hearts']),\n",
       " Card(rank='J', suit=['spades', 'diamonds', 'clubs', 'hearts']),\n",
       " Card(rank='Q', suit=['spades', 'diamonds', 'clubs', 'hearts']),\n",
       " Card(rank='K', suit=['spades', 'diamonds', 'clubs', 'hearts']),\n",
       " Card(rank='A', suit=['spades', 'diamonds', 'clubs', 'hearts'])]"
      ]
     },
     "execution_count": 48,
     "metadata": {},
     "output_type": "execute_result"
    }
   ],
   "source": [
    "deck[:]"
   ]
  },
  {
   "cell_type": "markdown",
   "metadata": {},
   "source": [
    "Checking the __getItem__ method"
   ]
  },
  {
   "cell_type": "code",
   "execution_count": 49,
   "metadata": {
    "collapsed": false
   },
   "outputs": [
    {
     "data": {
      "text/plain": [
       "False"
      ]
     },
     "execution_count": 49,
     "metadata": {},
     "output_type": "execute_result"
    }
   ],
   "source": [
    "Card('Q','hearts') in deck"
   ]
  },
  {
   "cell_type": "code",
   "execution_count": null,
   "metadata": {
    "collapsed": true
   },
   "outputs": [],
   "source": []
  }
 ],
 "metadata": {
  "kernelspec": {
   "display_name": "Python 2",
   "language": "python",
   "name": "python2"
  },
  "language_info": {
   "codemirror_mode": {
    "name": "ipython",
    "version": 2
   },
   "file_extension": ".py",
   "mimetype": "text/x-python",
   "name": "python",
   "nbconvert_exporter": "python",
   "pygments_lexer": "ipython2",
   "version": "2.7.11"
  }
 },
 "nbformat": 4,
 "nbformat_minor": 0
}
