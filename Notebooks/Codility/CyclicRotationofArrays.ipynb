{
 "cells": [
  {
   "cell_type": "code",
   "execution_count": 54,
   "metadata": {
    "collapsed": false
   },
   "outputs": [
    {
     "name": "stdout",
     "output_type": "stream",
     "text": [
      "[3, 8, 9, 7, 6]\n",
      "6\n",
      "4\n",
      "[6, 3, 8, 9, 7]\n",
      "7\n",
      "4\n",
      "[7, 6, 3, 8, 9]\n",
      "9\n",
      "4\n",
      "[9, 7, 6, 3, 8]\n"
     ]
    }
   ],
   "source": [
    "a = [3, 8, 9, 7, 6] \n",
    "n=3\n",
    "print a\n",
    "if ( len(a) )\n",
    "for i in range(n):\n",
    "    last_ele=a.pop()\n",
    "    print last_ele\n",
    "    print len(a)\n",
    "    a.insert(0,last_ele)\n",
    "    print a"
   ]
  },
  {
   "cell_type": "code",
   "execution_count": 32,
   "metadata": {
    "collapsed": false
   },
   "outputs": [
    {
     "name": "stdout",
     "output_type": "stream",
     "text": [
      "4\n",
      "3\n",
      "2\n",
      "1\n",
      "0\n"
     ]
    }
   ],
   "source": []
  },
  {
   "cell_type": "code",
   "execution_count": null,
   "metadata": {
    "collapsed": true
   },
   "outputs": [],
   "source": []
  }
 ],
 "metadata": {
  "kernelspec": {
   "display_name": "Python 2",
   "language": "python",
   "name": "python2"
  },
  "language_info": {
   "codemirror_mode": {
    "name": "ipython",
    "version": 2
   },
   "file_extension": ".py",
   "mimetype": "text/x-python",
   "name": "python",
   "nbconvert_exporter": "python",
   "pygments_lexer": "ipython2",
   "version": "2.7.11"
  }
 },
 "nbformat": 4,
 "nbformat_minor": 0
}
