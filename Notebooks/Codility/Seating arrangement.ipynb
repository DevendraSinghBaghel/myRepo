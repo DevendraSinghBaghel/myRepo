{
 "cells": [
  {
   "cell_type": "code",
   "execution_count": 22,
   "metadata": {
    "collapsed": false
   },
   "outputs": [],
   "source": [
    "first_seat_combo = ['A','B','C']\n",
    "second_seat_combo_1 =['D','E','F']\n",
    "second_seat_combo_2=['E','F','G']\n",
    "third_seat_combo = ['H','J','K']\n",
    "\n",
    "N=2\n",
    "grouping_number = 3\n",
    "prev_seat=''\n",
    "curr_seat=''\n",
    "available_seats=[]\n",
    "temp_seats=[]\n",
    "S=\"1A 2F 1C\"\n",
    "reserver_seat=[]\n",
    "if (len(S) > 0):\n",
    "    reserved_seat=S.split(' ')\n"
   ]
  },
  {
   "cell_type": "code",
   "execution_count": 23,
   "metadata": {
    "collapsed": true
   },
   "outputs": [],
   "source": [
    "def get_combos(seat_lists):\n",
    "     seats = [ str(row)+x for x in seat_lists  if  str(row)+x not in reserved_seat ]\n",
    "     if ( len(seats) == grouping_number ):\n",
    "        available_seats.append(seats)"
   ]
  },
  {
   "cell_type": "code",
   "execution_count": 24,
   "metadata": {
    "collapsed": false
   },
   "outputs": [
    {
     "name": "stdout",
     "output_type": "stream",
     "text": [
      "[['1D', '1E', '1F'], ['1E', '1F', '1G'], ['1H', '1J', '1K'], ['2A', '2B', '2C'], ['2H', '2J', '2K']]\n"
     ]
    }
   ],
   "source": [
    "for row in range(1,N+1):\n",
    "    get_combos(first_seat_combo)\n",
    "    get_combos(second_seat_combo_1)\n",
    "    get_combos(second_seat_combo_2)\n",
    "    get_combos(third_seat_combo)\n",
    "print available_seats"
   ]
  },
  {
   "cell_type": "code",
   "execution_count": null,
   "metadata": {
    "collapsed": true
   },
   "outputs": [],
   "source": []
  }
 ],
 "metadata": {
  "kernelspec": {
   "display_name": "Python 2",
   "language": "python",
   "name": "python2"
  },
  "language_info": {
   "codemirror_mode": {
    "name": "ipython",
    "version": 2
   },
   "file_extension": ".py",
   "mimetype": "text/x-python",
   "name": "python",
   "nbconvert_exporter": "python",
   "pygments_lexer": "ipython2",
   "version": "2.7.12"
  }
 },
 "nbformat": 4,
 "nbformat_minor": 0
}
