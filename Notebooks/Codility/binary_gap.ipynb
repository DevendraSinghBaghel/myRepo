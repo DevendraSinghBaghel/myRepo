{
 "cells": [
  {
   "cell_type": "code",
   "execution_count": 120,
   "metadata": {
    "collapsed": false
   },
   "outputs": [
    {
     "name": "stdout",
     "output_type": "stream",
     "text": [
      "0b10000010001\n",
      "10000010001\n"
     ]
    }
   ],
   "source": [
    "import re\n",
    "num=1041\n",
    "num=bin(num)\n",
    "print num\n",
    "num=re.sub(r'0b','',num)\n",
    "print num\n",
    "binary_gap_flg=0\n",
    "binary_gap_result=[]\n",
    "temp_str=''\n",
    "prev_num=''"
   ]
  },
  {
   "cell_type": "code",
   "execution_count": 121,
   "metadata": {
    "collapsed": false
   },
   "outputs": [
    {
     "name": "stdout",
     "output_type": "stream",
     "text": [
      "flg:0\n",
      "prev:\n",
      "digit:1\n",
      "temp:\n",
      "=====================\n",
      "match1\n",
      "flg:0\n",
      "prev:1\n",
      "digit:0\n",
      "temp:\n",
      "=====================\n",
      "match2\n",
      "flg:1\n",
      "prev:0\n",
      "digit:0\n",
      "temp:0\n",
      "=====================\n",
      "match3\n",
      "flg:1\n",
      "prev:0\n",
      "digit:0\n",
      "temp:00\n",
      "=====================\n",
      "match3\n",
      "flg:1\n",
      "prev:0\n",
      "digit:0\n",
      "temp:000\n",
      "=====================\n",
      "match3\n",
      "flg:1\n",
      "prev:0\n",
      "digit:0\n",
      "temp:0000\n",
      "=====================\n",
      "match3\n",
      "flg:1\n",
      "prev:0\n",
      "digit:1\n",
      "temp:00000\n",
      "=====================\n",
      "match4\n",
      "flg:0\n",
      "prev:1\n",
      "digit:0\n",
      "temp:\n",
      "=====================\n",
      "match2\n",
      "flg:1\n",
      "prev:0\n",
      "digit:0\n",
      "temp:0\n",
      "=====================\n",
      "match3\n",
      "flg:1\n",
      "prev:0\n",
      "digit:0\n",
      "temp:00\n",
      "=====================\n",
      "match3\n",
      "flg:1\n",
      "prev:0\n",
      "digit:1\n",
      "temp:000\n",
      "=====================\n",
      "match4\n",
      "[5, 3]\n",
      "5\n"
     ]
    }
   ],
   "source": [
    "for digit in str(num):\n",
    "    print 'flg:'+str(binary_gap_flg)\n",
    "    print \"prev:\"+prev_num\n",
    "    print \"digit:\"+digit\n",
    "    print 'temp:'+temp_str\n",
    "    print \"=====================\"\n",
    "  \n",
    "    if len(prev_num) == 0 :\n",
    "        print \"match1\"\n",
    "        prev_num=digit\n",
    "    elif ( ( prev_num == '1') and (digit == '0') ) :\n",
    "        print \"match2\"\n",
    "        temp_str= temp_str+digit\n",
    "        #print len(temp_list)\n",
    "        binary_gap_flg=1\n",
    "        prev_num=digit\n",
    "    elif ( (prev_num == '0') and (digit =='1') ):\n",
    "        print \"match4\"\n",
    "        binary_gap_result.append(len(temp_str))\n",
    "        temp_str= ''\n",
    "        binary_gap_flg=0      \n",
    "        prev_num=digit\n",
    "    elif((prev_num == '0') and (binary_gap_flg ==1)):\n",
    "        print \"match3\"\n",
    "        temp_str= temp_str+digit\n",
    "        #print len(temp_list)\n",
    "        prev_num=digit\n",
    "   \n",
    "\n",
    "print binary_gap_result\n",
    "        \n",
    "if ( len(binary_gap_result) > 0):\n",
    "    print max(binary_gap_result)\n",
    "else:\n",
    "   print 0"
   ]
  },
  {
   "cell_type": "code",
   "execution_count": 34,
   "metadata": {
    "collapsed": false
   },
   "outputs": [],
   "source": []
  },
  {
   "cell_type": "code",
   "execution_count": null,
   "metadata": {
    "collapsed": false
   },
   "outputs": [],
   "source": []
  },
  {
   "cell_type": "code",
   "execution_count": null,
   "metadata": {
    "collapsed": true
   },
   "outputs": [],
   "source": []
  }
 ],
 "metadata": {
  "kernelspec": {
   "display_name": "Python 2",
   "language": "python",
   "name": "python2"
  },
  "language_info": {
   "codemirror_mode": {
    "name": "ipython",
    "version": 2
   },
   "file_extension": ".py",
   "mimetype": "text/x-python",
   "name": "python",
   "nbconvert_exporter": "python",
   "pygments_lexer": "ipython2",
   "version": "2.7.11"
  }
 },
 "nbformat": 4,
 "nbformat_minor": 0
}
