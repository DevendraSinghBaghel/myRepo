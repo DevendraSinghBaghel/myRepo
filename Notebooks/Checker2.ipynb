{
 "cells": [
  {
   "cell_type": "code",
   "execution_count": 1,
   "metadata": {
    "collapsed": false
   },
   "outputs": [
    {
     "name": "stdout",
     "output_type": "stream",
     "text": [
      "['backports-abc==0.4', 'backports.shutil-get-terminal-size==1.0.0', 'backports.ssl-match-hostname==3.4.0.2', 'colorama==0.3.7', 'configparser==3.5.0', 'decorator==4.0.10', 'functools32==3.2.3.post2', 'ipykernel==4.3.1', 'ipython-genutils==0.1.0', 'ipython==5.0.0', 'jinja2==2.8', 'jsonschema==2.5.1', 'jupyter-client==4.3.0', 'jupyter-core==4.1.1', 'markupsafe==0.23', 'mistune==0.7.2', 'nbconvert==4.2.0', 'nbformat==4.0.1', 'notebook==4.2.2', 'path.py==0.0.0', 'pathlib2==2.1.0', 'pickleshare==0.7.3', 'pip==8.1.2', 'prompt-toolkit==1.0.3', 'pygments==2.1.3', 'pyzmq==15.4.0', 'setuptools==25.1.6', 'simplegeneric==0.8.1', 'singledispatch==3.4.0.3', 'six==1.10.0', 'tornado==4.4.1', 'traitlets==4.2.2', 'wcwidth==0.1.7', 'wheel==0.29.0', 'win-unicode-console==0.5']\n"
     ]
    }
   ],
   "source": [
    "import pip\n",
    "installed_packages = pip.get_installed_distributions()\n",
    "installed_packages_list = sorted([\"%s==%s\" % (i.key, i.version)\n",
    "     for i in installed_packages])\n",
    "print (installed_packages_list)"
   ]
  },
  {
   "cell_type": "code",
   "execution_count": 3,
   "metadata": {
    "collapsed": false
   },
   "outputs": [
    {
     "ename": "ImportError",
     "evalue": "No module named ipython",
     "output_type": "error",
     "traceback": [
      "\u001b[0;31m---------------------------------------------------------------------------\u001b[0m",
      "\u001b[0;31mImportError\u001b[0m                               Traceback (most recent call last)",
      "\u001b[0;32m<ipython-input-3-68a5f6bbf1ac>\u001b[0m in \u001b[0;36m<module>\u001b[0;34m()\u001b[0m\n\u001b[0;32m----> 1\u001b[0;31m \u001b[0;32mimport\u001b[0m \u001b[0mipython\u001b[0m\u001b[0;34m\u001b[0m\u001b[0m\n\u001b[0m",
      "\u001b[0;31mImportError\u001b[0m: No module named ipython"
     ]
    }
   ],
   "source": []
  },
  {
   "cell_type": "code",
   "execution_count": null,
   "metadata": {
    "collapsed": true
   },
   "outputs": [],
   "source": [
    "my_path='C:\\Anaconda2\\envs\\py27\\lib\\site-packages'"
   ]
  }
 ],
 "metadata": {
  "kernelspec": {
   "display_name": "Python 2",
   "language": "python",
   "name": "python2"
  },
  "language_info": {
   "codemirror_mode": {
    "name": "ipython",
    "version": 2
   },
   "file_extension": ".py",
   "mimetype": "text/x-python",
   "name": "python",
   "nbconvert_exporter": "python",
   "pygments_lexer": "ipython2",
   "version": "2.7.12"
  }
 },
 "nbformat": 4,
 "nbformat_minor": 0
}
