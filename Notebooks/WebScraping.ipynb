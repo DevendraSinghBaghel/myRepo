{
 "metadata": {
  "name": "",
  "signature": "sha256:b110ac479d8f011ee7badb7955e853a50ae794e09f0b6fba531a00c8deba2562"
 },
 "nbformat": 3,
 "nbformat_minor": 0,
 "worksheets": [
  {
   "cells": [
    {
     "cell_type": "code",
     "collapsed": false,
     "input": [
      "import urllib2\n",
      "import shutil\n",
      "import os.path"
     ],
     "language": "python",
     "metadata": {},
     "outputs": []
    },
    {
     "cell_type": "code",
     "collapsed": true,
     "input": [
      "file=usagov_data.json\n",
      "if (os.path.isfile(file)):\n",
      "    print 'file',file, 'already exists'\n",
      "else:\n",
      "    url=\"http://files.figshare.com/1114090/usagov_bitly_data2012_11_06_total.json\""
     ],
     "language": "python",
     "metadata": {},
     "outputs": []
    },
    {
     "cell_type": "code",
     "collapsed": false,
     "input": [
      "request=urllib2.urlopen(url)"
     ],
     "language": "python",
     "metadata": {},
     "outputs": []
    },
    {
     "cell_type": "code",
     "collapsed": false,
     "input": [
      "data=request.read()"
     ],
     "language": "python",
     "metadata": {},
     "outputs": []
    },
    {
     "cell_type": "code",
     "collapsed": false,
     "input": [],
     "language": "python",
     "metadata": {},
     "outputs": []
    }
   ],
   "metadata": {}
  }
 ]
}