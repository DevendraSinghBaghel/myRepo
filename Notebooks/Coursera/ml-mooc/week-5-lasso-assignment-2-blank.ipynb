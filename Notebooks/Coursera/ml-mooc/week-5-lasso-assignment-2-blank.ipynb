{
 "cells": [
  {
   "cell_type": "code",
   "execution_count": 35,
   "metadata": {
    "collapsed": true
   },
   "outputs": [],
   "source": [
    "import sys\n",
    "sys.path.append('C:\\Anaconda2\\envs\\gl-env\\Lib\\site-packages')"
   ]
  },
  {
   "cell_type": "markdown",
   "metadata": {},
   "source": [
    "# Regression Week 5: LASSO (coordinate descent)"
   ]
  },
  {
   "cell_type": "markdown",
   "metadata": {},
   "source": [
    "In this notebook, you will implement your very own LASSO solver via coordinate descent. You will:\n",
    "* Write a function to normalize features\n",
    "* Implement coordinate descent for LASSO\n",
    "* Explore effects of L1 penalty"
   ]
  },
  {
   "cell_type": "markdown",
   "metadata": {},
   "source": [
    "# Fire up graphlab create"
   ]
  },
  {
   "cell_type": "markdown",
   "metadata": {},
   "source": [
    "\n",
    "Make sure you have the latest version of graphlab (>= 1.7)"
   ]
  },
  {
   "cell_type": "code",
   "execution_count": 36,
   "metadata": {
    "collapsed": false
   },
   "outputs": [],
   "source": [
    "import graphlab"
   ]
  },
  {
   "cell_type": "markdown",
   "metadata": {},
   "source": [
    "# Load in house sales data\n",
    "\n",
    "Dataset is from house sales in King County, the region where the city of Seattle, WA is located."
   ]
  },
  {
   "cell_type": "code",
   "execution_count": 37,
   "metadata": {
    "collapsed": false
   },
   "outputs": [],
   "source": [
    "sales = graphlab.SFrame('kc_house_data.gl/')\n",
    "# In the dataset, 'floors' was defined with type string, \n",
    "# so we'll convert them to int, before using it below\n",
    "sales['floors'] = sales['floors'].astype(int) "
   ]
  },
  {
   "cell_type": "markdown",
   "metadata": {},
   "source": [
    "If we want to do any \"feature engineering\" like creating new features or adjusting existing ones we should do this directly using the SFrames as seen in the first notebook of Week 2. For this notebook, however, we will work with the existing features."
   ]
  },
  {
   "cell_type": "markdown",
   "metadata": {},
   "source": [
    "# Import useful functions from previous notebook"
   ]
  },
  {
   "cell_type": "markdown",
   "metadata": {},
   "source": [
    "As in Week 2, we convert the SFrame into a 2D Numpy array. Copy and paste `get_num_data()` from the second notebook of Week 2."
   ]
  },
  {
   "cell_type": "code",
   "execution_count": 38,
   "metadata": {
    "collapsed": true
   },
   "outputs": [],
   "source": [
    "import numpy as np # note this allows us to refer to numpy as np instead "
   ]
  },
  {
   "cell_type": "code",
   "execution_count": 39,
   "metadata": {
    "collapsed": true
   },
   "outputs": [],
   "source": [
    "def get_numpy_data(data_sframe, features, output):\n",
    "    data_sframe['constant'] = 1 # this is how you add a constant column to an SFrame\n",
    "    # add the column 'constant' to the front of the features list so that we can extract it along with the others:\n",
    "    features = ['constant'] + features # this is how you combine two lists\n",
    "    # select the columns of data_SFrame given by the features list into the SFrame features_sframe (now including constant):\n",
    "    \n",
    "    features_sframe = data_sframe[features]\n",
    "    \n",
    "    # the following line will convert the features_SFrame into a numpy matrix:\n",
    "    feature_matrix = features_sframe.to_numpy()\n",
    "    # assign the column of data_sframe associated with the output to the SArray output_sarray\n",
    "    output_sarray=data_sframe[output]\n",
    "    # the following will convert the SArray into a numpy array by first converting it to a list\n",
    "    output_array = output_sarray.to_numpy()\n",
    "    return(feature_matrix, output_array)"
   ]
  },
  {
   "cell_type": "markdown",
   "metadata": {},
   "source": [
    "Also, copy and paste the `predict_output()` function to compute the predictions for an entire matrix of features given the matrix and the weights:"
   ]
  },
  {
   "cell_type": "code",
   "execution_count": 40,
   "metadata": {
    "collapsed": true
   },
   "outputs": [],
   "source": [
    "def predict_output(feature_matrix, weights):\n",
    "    # assume feature_matrix is a numpy matrix containing the features as columns and weights is a corresponding numpy array\n",
    "    # create the predictions vector by using np.dot()\n",
    "    #print(\"weights\",weights)\n",
    "    predictions = np.dot(feature_matrix,weights)\n",
    "    return(predictions)"
   ]
  },
  {
   "cell_type": "markdown",
   "metadata": {},
   "source": [
    "# Normalize features\n",
    "In the house dataset, features vary wildly in their relative magnitude: `sqft_living` is very large overall compared to `bedrooms`, for instance. As a result, weight for `sqft_living` would be much smaller than weight for `bedrooms`. This is problematic because \"small\" weights are dropped first as `l1_penalty` goes up. \n",
    "\n",
    "To give equal considerations for all features, we need to **normalize features** as discussed in the lectures: we divide each feature by its 2-norm so that the transformed feature has norm 1.\n",
    "\n",
    "Let's see how we can do this normalization easily with Numpy: let us first consider a small matrix."
   ]
  },
  {
   "cell_type": "code",
   "execution_count": 41,
   "metadata": {
    "collapsed": false
   },
   "outputs": [
    {
     "name": "stdout",
     "output_type": "stream",
     "text": [
      "[[  3.   5.   8.]\n",
      " [  4.  12.  15.]]\n"
     ]
    }
   ],
   "source": [
    "X = np.array([[3.,5.,8.],[4.,12.,15.]])\n",
    "print X"
   ]
  },
  {
   "cell_type": "markdown",
   "metadata": {},
   "source": [
    "Numpy provides a shorthand for computing 2-norms of each column:"
   ]
  },
  {
   "cell_type": "code",
   "execution_count": 42,
   "metadata": {
    "collapsed": false
   },
   "outputs": [
    {
     "name": "stdout",
     "output_type": "stream",
     "text": [
      "[  5.  13.  17.]\n"
     ]
    }
   ],
   "source": [
    "norms = np.linalg.norm(X, axis=0) # gives [norm(X[:,0]), norm(X[:,1]), norm(X[:,2])]\n",
    "print norms"
   ]
  },
  {
   "cell_type": "markdown",
   "metadata": {},
   "source": [
    "To normalize, apply element-wise division:"
   ]
  },
  {
   "cell_type": "code",
   "execution_count": 43,
   "metadata": {
    "collapsed": false
   },
   "outputs": [
    {
     "name": "stdout",
     "output_type": "stream",
     "text": [
      "[[ 0.6         0.38461538  0.47058824]\n",
      " [ 0.8         0.92307692  0.88235294]]\n"
     ]
    }
   ],
   "source": [
    "print X / norms # gives [X[:,0]/norm(X[:,0]), X[:,1]/norm(X[:,1]), X[:,2]/norm(X[:,2])]"
   ]
  },
  {
   "cell_type": "markdown",
   "metadata": {},
   "source": [
    "Using the shorthand we just covered, write a short function called `normalize_features(feature_matrix)`, which normalizes columns of a given feature matrix. The function should return a pair `(normalized_features, norms)`, where the second item contains the norms of original features. As discussed in the lectures, we will use these norms to normalize the test data in the same way as we normalized the training data. "
   ]
  },
  {
   "cell_type": "code",
   "execution_count": 1,
   "metadata": {
    "collapsed": true
   },
   "outputs": [],
   "source": [
    "def normalize_features(feature_matrix):\n",
    "    norms = np.linalg.norm(feature_matrix,axis=0)\n",
    "    normalized_features = feature_matrix / norms\n",
    "    return normalized_features, norms"
   ]
  },
  {
   "cell_type": "markdown",
   "metadata": {},
   "source": [
    "To test the function, run the following:"
   ]
  },
  {
   "cell_type": "code",
   "execution_count": 45,
   "metadata": {
    "collapsed": false
   },
   "outputs": [
    {
     "name": "stdout",
     "output_type": "stream",
     "text": [
      "[[ 0.6  0.6  0.6]\n",
      " [ 0.8  0.8  0.8]]\n",
      "======================\n",
      "[  5.  10.  15.]\n"
     ]
    }
   ],
   "source": [
    "features, norms = normalize_features(np.array([[3.,6.,9.],[4.,8.,12.]]))\n",
    "print features\n",
    "# should print\n",
    "# [[ 0.6  0.6  0.6]\n",
    "#  [ 0.8  0.8  0.8]]\n",
    "print \"======================\"\n",
    "print norms\n",
    "# should print\n",
    "# [5.  10.  15.]"
   ]
  },
  {
   "cell_type": "markdown",
   "metadata": {},
   "source": [
    "# Implementing Coordinate Descent with normalized features"
   ]
  },
  {
   "cell_type": "markdown",
   "metadata": {},
   "source": [
    "We seek to obtain a sparse set of weights by minimizing the LASSO cost function\n",
    "```\n",
    "SUM[ (prediction - output)^2 ] + lambda*( |w[1]| + ... + |w[k]|).\n",
    "```\n",
    "(By convention, we do not include `w[0]` in the L1 penalty term. We never want to push the intercept to zero.)\n",
    "\n",
    "The absolute value sign makes the cost function non-differentiable, so simple gradient descent is not viable (you would need to implement a method called subgradient descent). Instead, we will use **coordinate descent**: at each iteration, we will fix all weights but weight `i` and find the value of weight `i` that minimizes the objective. That is, we look for\n",
    "```\n",
    "argmin_{w[i]} [ SUM[ (prediction - output)^2 ] + lambda*( |w[1]| + ... + |w[k]|) ]\n",
    "```\n",
    "where all weights other than `w[i]` are held to be constant. We will optimize one `w[i]` at a time, circling through the weights multiple times.  \n",
    "  1. Pick a coordinate `i`\n",
    "  2. Compute `w[i]` that minimizes the cost function `SUM[ (prediction - output)^2 ] + lambda*( |w[1]| + ... + |w[k]|)`\n",
    "  3. Repeat Steps 1 and 2 for all coordinates, multiple times"
   ]
  },
  {
   "cell_type": "markdown",
   "metadata": {},
   "source": [
    "For this notebook, we use **cyclical coordinate descent with normalized features**, where we cycle through coordinates 0 to (d-1) in order, and assume the features were normalized as discussed above. The formula for optimizing each coordinate is as follows:\n",
    "```\n",
    "       ┌ (ro[i] + lambda/2)     if ro[i] < -lambda/2\n",
    "w[i] = ├ 0                      if -lambda/2 <= ro[i] <= lambda/2\n",
    "       └ (ro[i] - lambda/2)     if ro[i] > lambda/2\n",
    "```\n",
    "where\n",
    "```\n",
    "ro[i] = SUM[ [feature_i]*(output - prediction + w[i]*[feature_i]) ].\n",
    "```\n",
    "\n",
    "Note that we do not regularize the weight of the constant feature (intercept) `w[0]`, so, for this weight, the update is simply:\n",
    "```\n",
    "w[0] = ro[i]\n",
    "```"
   ]
  },
  {
   "cell_type": "markdown",
   "metadata": {},
   "source": [
    "## Effect of L1 penalty"
   ]
  },
  {
   "cell_type": "markdown",
   "metadata": {},
   "source": [
    "Let us consider a simple model with 2 features:"
   ]
  },
  {
   "cell_type": "code",
   "execution_count": 46,
   "metadata": {
    "collapsed": true
   },
   "outputs": [],
   "source": [
    "simple_features = ['sqft_living', 'bedrooms']\n",
    "my_output = 'price'\n",
    "(simple_feature_matrix, output) = get_numpy_data(sales, simple_features, my_output)"
   ]
  },
  {
   "cell_type": "markdown",
   "metadata": {},
   "source": [
    "Don't forget to normalize features:"
   ]
  },
  {
   "cell_type": "code",
   "execution_count": 47,
   "metadata": {
    "collapsed": true
   },
   "outputs": [],
   "source": [
    "simple_feature_matrix, norms = normalize_features(simple_feature_matrix)"
   ]
  },
  {
   "cell_type": "markdown",
   "metadata": {},
   "source": [
    "We assign some random set of initial weights and inspect the values of `ro[i]`:"
   ]
  },
  {
   "cell_type": "code",
   "execution_count": 48,
   "metadata": {
    "collapsed": false
   },
   "outputs": [],
   "source": [
    "weights = np.array([1., 4., 1.])"
   ]
  },
  {
   "cell_type": "markdown",
   "metadata": {},
   "source": [
    "Use `predict_output()` to make predictions on this data."
   ]
  },
  {
   "cell_type": "code",
   "execution_count": 49,
   "metadata": {
    "collapsed": false
   },
   "outputs": [],
   "source": [
    "prediction = predict_output(simple_feature_matrix,weights)"
   ]
  },
  {
   "cell_type": "markdown",
   "metadata": {},
   "source": [
    "Compute the values of `ro[i]` for each feature in this simple model, using the formula given above, using the formula:\n",
    "```\n",
    "ro[i] = SUM[ [feature_i]*(output - prediction + w[i]*[feature_i]) ]\n",
    "```\n",
    "\n",
    "*Hint: You can get a Numpy vector for feature_i using:*\n",
    "```\n",
    "simple_feature_matrix[:,i]\n",
    "```"
   ]
  },
  {
   "cell_type": "code",
   "execution_count": 50,
   "metadata": {
    "collapsed": false
   },
   "outputs": [
    {
     "name": "stdout",
     "output_type": "stream",
     "text": [
      "79400300.0349\n",
      "87939470.773\n",
      "80966698.676\n"
     ]
    }
   ],
   "source": [
    "ro_0 = sum(simple_feature_matrix[:,0]*(output-prediction+weights[0]*simple_feature_matrix[:,0]))\n",
    "print(ro_0)\n",
    "ro_1 = sum(simple_feature_matrix[:,1]*(output-prediction+weights[1]*simple_feature_matrix[:,1]))\n",
    "print(ro_1)\n",
    "ro_2 = sum(simple_feature_matrix[:,2]*(output-prediction+weights[2]*simple_feature_matrix[:,2]))\n",
    "print(ro_2)"
   ]
  },
  {
   "cell_type": "markdown",
   "metadata": {},
   "source": [
    "***QUIZ QUESTION***\n",
    "\n",
    "Recall that, whenever `ro[i]` falls between `-l1_penalty/2` and `l1_penalty/2`, the corresponding weight `w[i]` is sent to zero. Now suppose we were to take one step of coordinate descent on either feature 1 or feature 2. What range of values of `l1_penalty` **would not** set `w[1]` zero, but **would** set `w[2]` to zero, if we were to take a step in that coordinate? "
   ]
  },
  {
   "cell_type": "code",
   "execution_count": 53,
   "metadata": {
    "collapsed": false
   },
   "outputs": [
    {
     "name": "stdout",
     "output_type": "stream",
     "text": [
      "('L1_penalty 1.4e8 weight=', 10966698.67596525)\n",
      "('L1_penalty 1.64e8 weight=', 0.0)\n",
      "('L1_penalty 1.73e8 weight=', 0.0)\n",
      "('L1_penalty 1.9e8 weight=', 0.0)\n",
      "('L1_penalty 2.3e8 weight=', 0.0)\n"
     ]
    }
   ],
   "source": [
    "w_2_1 = lasso_coordinate_descent_step(2,simple_feature_matrix,output,weights,1.4e8)\n",
    "print(\"L1_penalty 1.4e8 weight=\",w_2_1)\n",
    "w_2_2 = lasso_coordinate_descent_step(2,simple_feature_matrix,output,weights,1.64e8)\n",
    "print(\"L1_penalty 1.64e8 weight=\",w_2_2)\n",
    "w_2_3 = lasso_coordinate_descent_step(2,simple_feature_matrix,output,weights,1.73e8)\n",
    "print(\"L1_penalty 1.73e8 weight=\",w_2_3)\n",
    "w_2_4 = lasso_coordinate_descent_step(2,simple_feature_matrix,output,weights,1.9e8)\n",
    "print(\"L1_penalty 1.9e8 weight=\",w_2_4)\n",
    "w_2_5 = lasso_coordinate_descent_step(2,simple_feature_matrix,output,weights,2.3e8)\n",
    "print(\"L1_penalty 2.3e8 weight=\",w_2_5)"
   ]
  },
  {
   "cell_type": "markdown",
   "metadata": {},
   "source": [
    "***QUIZ QUESTION***\n",
    "\n",
    "What range of values of `l1_penalty` would set **both** `w[1]` and `w[2]` to zero, if we were to take a step in that coordinate? "
   ]
  },
  {
   "cell_type": "code",
   "execution_count": 54,
   "metadata": {
    "collapsed": false
   },
   "outputs": [
    {
     "name": "stdout",
     "output_type": "stream",
     "text": [
      "('L1_penalty 1.4e8 weight=', 17939470.772990793)\n",
      "('L1_penalty 1.64e8 weight=', 5939470.772990793)\n",
      "('L1_penalty 1.73e8 weight=', 1439470.772990793)\n",
      "('L1_penalty 1.9e8 weight=', 0.0)\n",
      "('L1_penalty 2.3e8 weight=', 0.0)\n"
     ]
    }
   ],
   "source": [
    "w_1_1 = lasso_coordinate_descent_step(1,simple_feature_matrix,output,weights,1.4e8)\n",
    "print(\"L1_penalty 1.4e8 weight=\",w_1_1)\n",
    "w_1_2 = lasso_coordinate_descent_step(1,simple_feature_matrix,output,weights,1.64e8)\n",
    "print(\"L1_penalty 1.64e8 weight=\",w_1_2)\n",
    "w_1_3 = lasso_coordinate_descent_step(1,simple_feature_matrix,output,weights,1.73e8)\n",
    "print(\"L1_penalty 1.73e8 weight=\",w_1_3)\n",
    "w_1_4 = lasso_coordinate_descent_step(1,simple_feature_matrix,output,weights,1.9e8)\n",
    "print(\"L1_penalty 1.9e8 weight=\",w_1_4)\n",
    "w_1_5 = lasso_coordinate_descent_step(1,simple_feature_matrix,output,weights,2.3e8)\n",
    "print(\"L1_penalty 2.3e8 weight=\",w_1_5)"
   ]
  },
  {
   "cell_type": "markdown",
   "metadata": {},
   "source": [
    "So we can say that `ro[i]` quantifies the significance of the i-th feature: the larger `ro[i]` is, the more likely it is for the i-th feature to be retained."
   ]
  },
  {
   "cell_type": "markdown",
   "metadata": {},
   "source": [
    "## Single Coordinate Descent Step"
   ]
  },
  {
   "cell_type": "markdown",
   "metadata": {},
   "source": [
    "Using the formula above, implement coordinate descent that minimizes the cost function over a single feature i. Note that the intercept (weight 0) is not regularized. The function should accept feature matrix, output, current weights, l1 penalty, and index of feature to optimize over. The function should return new weight for feature i."
   ]
  },
  {
   "cell_type": "code",
   "execution_count": 52,
   "metadata": {
    "collapsed": false
   },
   "outputs": [],
   "source": [
    "def lasso_coordinate_descent_step(i, feature_matrix, output, weights, l1_penalty):\n",
    "    # compute prediction\n",
    "    prediction = predict_output(feature_matrix,weights)\n",
    "    # compute ro[i] = SUM[ [feature_i]*(output - prediction + weight[i]*[feature_i]) ]\n",
    "    ro_i = sum(feature_matrix[:,i] * ( output-prediction+ weights[i]* feature_matrix[:,i]) )\n",
    "\n",
    "    if i == 0 : # intercept -- do not regularize\n",
    "        new_weight_i = ro_i \n",
    "    elif ro_i < -l1_penalty/2.:\n",
    "        new_weight_i = ro_i + -l1_penalty/2\n",
    "    elif ro_i > l1_penalty/2.:\n",
    "        new_weight_i = ro_i - l1_penalty/2\n",
    "    else:\n",
    "        new_weight_i = 0.\n",
    "    \n",
    "    return new_weight_i"
   ]
  },
  {
   "cell_type": "markdown",
   "metadata": {},
   "source": [
    "To test the function, run the following cell:"
   ]
  },
  {
   "cell_type": "code",
   "execution_count": 55,
   "metadata": {
    "collapsed": false
   },
   "outputs": [
    {
     "name": "stdout",
     "output_type": "stream",
     "text": [
      "0.425558846691\n"
     ]
    }
   ],
   "source": [
    "# should print 0.425558846691\n",
    "import math\n",
    "print lasso_coordinate_descent_step(1, np.array([[3./math.sqrt(13),1./math.sqrt(10)],[2./math.sqrt(13),3./math.sqrt(10)]]), \n",
    "                                   np.array([1., 1.]), np.array([1., 4.]), 0.1)"
   ]
  },
  {
   "cell_type": "markdown",
   "metadata": {
    "collapsed": true
   },
   "source": [
    "## Cyclical coordinate descent "
   ]
  },
  {
   "cell_type": "markdown",
   "metadata": {},
   "source": [
    "Now that we have a function that optimizes the cost function over a single coordinate, let us implement cyclical coordinate descent where we optimize coordinates 0, 1, ..., (d-1) in order and repeat.\n",
    "\n",
    "When do we know to stop? Each time we scan all the coordinates (features) once, we measure the change in weight for each coordinate. If no coordinate changes by more than a specified threshold, we stop."
   ]
  },
  {
   "cell_type": "markdown",
   "metadata": {},
   "source": [
    "For each iteration:\n",
    "1. As you loop over features in order and perform coordinate descent, measure how much each coordinate changes.\n",
    "2. After the loop, if the maximum change across all coordinates is falls below the tolerance, stop. Otherwise, go back to step 1.\n",
    "\n",
    "Return weights\n",
    "\n",
    "**IMPORTANT: when computing a new weight for coordinate i, make sure to incorporate the new weights for coordinates 0, 1, ..., i-1. One good way is to update your weights variable in-place. See following pseudocode for illustration.**\n",
    "```\n",
    "for i in range(len(weights)):\n",
    "    old_weights_i = weights[i] # remember old value of weight[i], as it will be overwritten\n",
    "    # the following line uses new values for weight[0], weight[1], ..., weight[i-1]\n",
    "    #     and old values for weight[i], ..., weight[d-1]\n",
    "    weights[i] = lasso_coordinate_descent_step(i, feature_matrix, output, weights, l1_penalty)\n",
    "    \n",
    "    # use old_weights_i to compute change in coordinate\n",
    "    ...\n",
    "```"
   ]
  },
  {
   "cell_type": "code",
   "execution_count": 62,
   "metadata": {
    "collapsed": false
   },
   "outputs": [],
   "source": [
    "def lasso_cyclical_coordinate_descent(feature_matrix, output, initial_weights, l1_penalty, tolerance):\n",
    "    for i in range(len(initial_weights)):\n",
    "        print i\n",
    "        change = tolerance + 1\n",
    "        print \"change at start\",change\n",
    "        while ( change > tolerance ):\n",
    "            old_weights_i = initial_weights[i] # remember old value of weight[i], as it will be overwritten\n",
    "            print \"old_weights_i\",old_weights_i\n",
    "            initial_weights[i] = lasso_coordinate_descent_step(i, feature_matrix, output, initial_weights, l1_penalty)\n",
    "            print \"weights\",initial_weights[i] \n",
    "            change = initial_weights[i] - old_weights_i\n",
    "            print \"change during iterations\",change\n",
    "        if ( i == len(initial_weights)-1  ):\n",
    "            return initial_weights"
   ]
  },
  {
   "cell_type": "markdown",
   "metadata": {},
   "source": [
    "Using the following parameters, learn the weights on the sales dataset. "
   ]
  },
  {
   "cell_type": "code",
   "execution_count": 63,
   "metadata": {
    "collapsed": false
   },
   "outputs": [],
   "source": [
    "simple_features = ['sqft_living', 'bedrooms']\n",
    "my_output = 'price'\n",
    "initial_weights = np.zeros(3)\n",
    "l1_penalty = 1e7\n",
    "tolerance = 1.0"
   ]
  },
  {
   "cell_type": "markdown",
   "metadata": {},
   "source": [
    "First create a normalized version of the feature matrix, `normalized_simple_feature_matrix`."
   ]
  },
  {
   "cell_type": "code",
   "execution_count": 64,
   "metadata": {
    "collapsed": true
   },
   "outputs": [],
   "source": [
    "(simple_feature_matrix, simple_output) = get_numpy_data(sales, simple_features, my_output)\n",
    "(normalized_simple_feature_matrix, simple_norms) = normalize_features(simple_feature_matrix) # normalize features"
   ]
  },
  {
   "cell_type": "markdown",
   "metadata": {},
   "source": [
    "Then, run your implementation of LASSO coordinate descent:"
   ]
  },
  {
   "cell_type": "code",
   "execution_count": 65,
   "metadata": {
    "collapsed": false
   },
   "outputs": [
    {
     "name": "stdout",
     "output_type": "stream",
     "text": [
      "0\n",
      "change at start 2.0\n",
      "old_weights_i 0.0\n",
      "weights 79400304.6581\n",
      "change during iterations 79400304.6581\n",
      "old_weights_i 79400304.6581\n",
      "weights 79400304.6581\n",
      "change during iterations 0.0\n",
      "1\n",
      "change at start 2.0\n",
      "old_weights_i 0.0\n",
      "weights 10305258.636\n",
      "change during iterations 10305258.636\n",
      "old_weights_i 10305258.636\n",
      "weights 10305258.636\n",
      "change during iterations -3.72529029846e-09\n",
      "2\n",
      "change at start 2.0\n",
      "old_weights_i 0.0\n",
      "weights -10299724.1145\n",
      "change during iterations -10299724.1145\n"
     ]
    },
    {
     "data": {
      "text/plain": [
       "array([ 79400304.65805142,  10305258.63602065, -10299724.1144988 ])"
      ]
     },
     "execution_count": 65,
     "metadata": {},
     "output_type": "execute_result"
    }
   ],
   "source": [
    "weights = lasso_cyclical_coordinate_descent(normalized_simple_feature_matrix, simple_output,\n",
    "                                            initial_weights, l1_penalty, tolerance)\n",
    "weights"
   ]
  },
  {
   "cell_type": "markdown",
   "metadata": {},
   "source": [
    "***QUIZ QUESTIONS***\n",
    "1. What is the RSS of the learned model on the normalized dataset? (Hint: use the normalized feature matrix when you make predictions.)\n",
    "2. Which features had weight zero at convergence?"
   ]
  },
  {
   "cell_type": "code",
   "execution_count": null,
   "metadata": {
    "collapsed": false
   },
   "outputs": [],
   "source": [
    "model_normal = graphlab.linear_regression.create(sales, target='price', features=simple_features,\n",
    "                                              validation_set=None, \n",
    "                                              l2_penalty=0, l1_penalty=l1_penalty)\n"
   ]
  },
  {
   "cell_type": "code",
   "execution_count": null,
   "metadata": {
    "collapsed": false
   },
   "outputs": [],
   "source": [
    "\n",
    "#pred = model_normal.predict(normalized_simple_feature_matrix)\n"
   ]
  },
  {
   "cell_type": "markdown",
   "metadata": {},
   "source": [
    "# Evaluating LASSO fit with more features"
   ]
  },
  {
   "cell_type": "markdown",
   "metadata": {},
   "source": [
    "Let us split the sales dataset into training and test sets."
   ]
  },
  {
   "cell_type": "code",
   "execution_count": 67,
   "metadata": {
    "collapsed": true
   },
   "outputs": [],
   "source": [
    "train_data,test_data = sales.random_split(.8,seed=0)"
   ]
  },
  {
   "cell_type": "markdown",
   "metadata": {},
   "source": [
    "Let us consider the following set of features."
   ]
  },
  {
   "cell_type": "code",
   "execution_count": 68,
   "metadata": {
    "collapsed": true
   },
   "outputs": [],
   "source": [
    "all_features = ['bedrooms',\n",
    "                'bathrooms',\n",
    "                'sqft_living',\n",
    "                'sqft_lot',\n",
    "                'floors',\n",
    "                'waterfront', \n",
    "                'view', \n",
    "                'condition', \n",
    "                'grade',\n",
    "                'sqft_above',\n",
    "                'sqft_basement',\n",
    "                'yr_built', \n",
    "                'yr_renovated']"
   ]
  },
  {
   "cell_type": "markdown",
   "metadata": {},
   "source": [
    "First, create a normalized feature matrix from the TRAINING data with these features.  (Make you store the norms for the normalization, since we'll use them later)"
   ]
  },
  {
   "cell_type": "code",
   "execution_count": 69,
   "metadata": {
    "collapsed": false
   },
   "outputs": [
    {
     "name": "stdout",
     "output_type": "stream",
     "text": [
      "(17384L, 14L)\n",
      "(17384L,)\n"
     ]
    }
   ],
   "source": [
    "(training_matrix, train_output) = get_numpy_data(train_data, all_features, 'price')\n",
    "(normalized_training_feature_matrix, training_norms) = normalize_features(training_matrix) # normalize features\n",
    "print np.shape(normalized_training_feature_matrix)\n",
    "print np.shape(train_output)"
   ]
  },
  {
   "cell_type": "markdown",
   "metadata": {},
   "source": [
    "First, learn the weights with `l1_penalty=1e7`, on the training data. Initialize weights to all zeros, and set the `tolerance=1`.  Call resulting weights `weights1e7`, you will need them later."
   ]
  },
  {
   "cell_type": "code",
   "execution_count": 70,
   "metadata": {
    "collapsed": false
   },
   "outputs": [
    {
     "name": "stdout",
     "output_type": "stream",
     "text": [
      "0\n",
      "change at start 2.0\n",
      "old_weights_i 0.0\n",
      "weights 71114625.7528\n",
      "change during iterations 71114625.7528\n",
      "old_weights_i 71114625.7528\n",
      "weights 71114625.7528\n",
      "change during iterations 0.0\n",
      "1\n",
      "change at start 2.0\n",
      "old_weights_i 0.0\n",
      "weights 0.0\n",
      "change during iterations 0.0\n",
      "2\n",
      "change at start 2.0\n",
      "old_weights_i 0.0\n",
      "weights 3743972.43192\n",
      "change during iterations 3743972.43192\n",
      "old_weights_i 3743972.43192\n",
      "weights 3743972.43192\n",
      "change during iterations -1.86264514923e-09\n",
      "3\n",
      "change at start 2.0\n",
      "old_weights_i 0.0\n",
      "weights 5271064.34696\n",
      "change during iterations 5271064.34696\n",
      "old_weights_i 5271064.34696\n",
      "weights 5271064.34696\n",
      "change during iterations 1.86264514923e-09\n",
      "4\n",
      "change at start 2.0\n",
      "old_weights_i 0.0\n",
      "weights 0.0\n",
      "change during iterations 0.0\n",
      "5\n",
      "change at start 2.0\n",
      "old_weights_i 0.0\n",
      "weights 0.0\n",
      "change during iterations 0.0\n",
      "6\n",
      "change at start 2.0\n",
      "old_weights_i 0.0\n",
      "weights 7173100.28481\n",
      "change during iterations 7173100.28481\n",
      "old_weights_i 7173100.28481\n",
      "weights 7173100.28481\n",
      "change during iterations 0.0\n",
      "7\n",
      "change at start 2.0\n",
      "old_weights_i 0.0\n",
      "weights 7025132.06643\n",
      "change during iterations 7025132.06643\n",
      "old_weights_i 7025132.06643\n",
      "weights 7025132.06643\n",
      "change during iterations -1.86264514923e-09\n",
      "8\n",
      "change at start 2.0\n",
      "old_weights_i 0.0\n",
      "weights -15530804.6569\n",
      "change during iterations -15530804.6569\n",
      "9\n",
      "change at start 2.0\n",
      "old_weights_i 0.0\n",
      "weights 3316951.20872\n",
      "change during iterations 3316951.20872\n",
      "old_weights_i 3316951.20872\n",
      "weights 3316951.20872\n",
      "change during iterations 2.79396772385e-09\n",
      "10\n",
      "change at start 2.0\n",
      "old_weights_i 0.0\n",
      "weights 6050534.40948\n",
      "change during iterations 6050534.40948\n",
      "old_weights_i 6050534.40948\n",
      "weights 6050534.40948\n",
      "change during iterations 3.72529029846e-09\n",
      "11\n",
      "change at start 2.0\n",
      "old_weights_i 0.0\n",
      "weights 3302775.74349\n",
      "change during iterations 3302775.74349\n",
      "old_weights_i 3302775.74349\n",
      "weights 3302775.74349\n",
      "change during iterations -1.86264514923e-09\n",
      "12\n",
      "change at start 2.0\n",
      "old_weights_i 0.0\n",
      "weights -11359031.1261\n",
      "change during iterations -11359031.1261\n",
      "13\n",
      "change at start 2.0\n",
      "old_weights_i 0.0\n",
      "weights 0.0\n",
      "change during iterations 0.0\n"
     ]
    },
    {
     "data": {
      "text/plain": [
       "array([ 71114625.75280942,         0.        ,   3743972.43191667,\n",
       "         5271064.34696081,         0.        ,         0.        ,\n",
       "         7173100.28480827,   7025132.06642578, -15530804.65691784,\n",
       "         3316951.20871612,   6050534.40948002,   3302775.74349345,\n",
       "       -11359031.12605251,         0.        ])"
      ]
     },
     "execution_count": 70,
     "metadata": {},
     "output_type": "execute_result"
    }
   ],
   "source": [
    "l1_penalty = 1e7 \n",
    "tolerance = 1.0\n",
    "weigths = np.zeros(14)\n",
    "weights1e7 = lasso_cyclical_coordinate_descent(normalized_training_feature_matrix, train_output,\n",
    "                                            weigths, l1_penalty, tolerance)\n",
    "weights1e7"
   ]
  },
  {
   "cell_type": "markdown",
   "metadata": {},
   "source": [
    "***QUIZ QUESTION***\n",
    "\n",
    "What features had non-zero weight in this case?"
   ]
  },
  {
   "cell_type": "markdown",
   "metadata": {
    "collapsed": true
   },
   "source": [
    "Next, learn the weights with `l1_penalty=1e8`, on the training data. Initialize weights to all zeros, and set the `tolerance=1`.  Call resulting weights `weights1e8`, you will need them later."
   ]
  },
  {
   "cell_type": "code",
   "execution_count": 71,
   "metadata": {
    "collapsed": false
   },
   "outputs": [
    {
     "name": "stdout",
     "output_type": "stream",
     "text": [
      "0\n",
      "change at start 2.0\n",
      "old_weights_i 0.0\n",
      "weights 71114625.7528\n",
      "change during iterations 71114625.7528\n",
      "old_weights_i 71114625.7528\n",
      "weights 71114625.7528\n",
      "change during iterations 0.0\n",
      "1\n",
      "change at start 2.0\n",
      "old_weights_i 0.0\n",
      "weights 0.0\n",
      "change during iterations 0.0\n",
      "2\n",
      "change at start 2.0\n",
      "old_weights_i 0.0\n",
      "weights 0.0\n",
      "change during iterations 0.0\n",
      "3\n",
      "change at start 2.0\n",
      "old_weights_i 0.0\n",
      "weights 0.0\n",
      "change during iterations 0.0\n",
      "4\n",
      "change at start 2.0\n",
      "old_weights_i 0.0\n",
      "weights 0.0\n",
      "change during iterations 0.0\n",
      "5\n",
      "change at start 2.0\n",
      "old_weights_i 0.0\n",
      "weights 0.0\n",
      "change during iterations 0.0\n",
      "6\n",
      "change at start 2.0\n",
      "old_weights_i 0.0\n",
      "weights 0.0\n",
      "change during iterations 0.0\n",
      "7\n",
      "change at start 2.0\n",
      "old_weights_i 0.0\n",
      "weights 0.0\n",
      "change during iterations 0.0\n",
      "8\n",
      "change at start 2.0\n",
      "old_weights_i 0.0\n",
      "weights 0.0\n",
      "change during iterations 0.0\n",
      "9\n",
      "change at start 2.0\n",
      "old_weights_i 0.0\n",
      "weights 0.0\n",
      "change during iterations 0.0\n",
      "10\n",
      "change at start 2.0\n",
      "old_weights_i 0.0\n",
      "weights 0.0\n",
      "change during iterations 0.0\n",
      "11\n",
      "change at start 2.0\n",
      "old_weights_i 0.0\n",
      "weights 0.0\n",
      "change during iterations 0.0\n",
      "12\n",
      "change at start 2.0\n",
      "old_weights_i 0.0\n",
      "weights 0.0\n",
      "change during iterations 0.0\n",
      "13\n",
      "change at start 2.0\n",
      "old_weights_i 0.0\n",
      "weights 0.0\n",
      "change during iterations 0.0\n"
     ]
    },
    {
     "data": {
      "text/plain": [
       "array([ 71114625.75280942,         0.        ,         0.        ,\n",
       "               0.        ,         0.        ,         0.        ,\n",
       "               0.        ,         0.        ,         0.        ,\n",
       "               0.        ,         0.        ,         0.        ,\n",
       "               0.        ,         0.        ])"
      ]
     },
     "execution_count": 71,
     "metadata": {},
     "output_type": "execute_result"
    }
   ],
   "source": [
    "l1_penalty = 1e8 \n",
    "tolerance = 1.0\n",
    "weigths = np.zeros(14)\n",
    "weights1e8 = lasso_cyclical_coordinate_descent(normalized_training_feature_matrix, train_output,\n",
    "                                            weigths, l1_penalty, tolerance)\n",
    "weights1e8"
   ]
  },
  {
   "cell_type": "markdown",
   "metadata": {},
   "source": [
    "***QUIZ QUESTION***\n",
    "\n",
    "What features had non-zero weight in this case?"
   ]
  },
  {
   "cell_type": "markdown",
   "metadata": {},
   "source": [
    "Finally, learn the weights with `l1_penalty=1e4`, on the training data. Initialize weights to all zeros, and set the `tolerance=5e5`.  Call resulting weights `weights1e4`, you will need them later.  (This case will take quite a bit longer to converge than the others above.)"
   ]
  },
  {
   "cell_type": "code",
   "execution_count": 72,
   "metadata": {
    "collapsed": false
   },
   "outputs": [
    {
     "name": "stdout",
     "output_type": "stream",
     "text": [
      "0\n",
      "change at start 2.0\n",
      "old_weights_i 0.0\n",
      "weights 71114625.7528\n",
      "change during iterations 71114625.7528\n",
      "old_weights_i 71114625.7528\n",
      "weights 71114625.7528\n",
      "change during iterations 0.0\n",
      "1\n",
      "change at start 2.0\n",
      "old_weights_i 0.0\n",
      "weights 3956380.1017\n",
      "change during iterations 3956380.1017\n",
      "old_weights_i 3956380.1017\n",
      "weights 3956380.1017\n",
      "change during iterations -4.65661287308e-09\n",
      "2\n",
      "change at start 2.0\n",
      "old_weights_i 0.0\n",
      "weights 4963442.4709\n",
      "change during iterations 4963442.4709\n",
      "old_weights_i 4963442.4709\n",
      "weights 4963442.4709\n",
      "change during iterations 0.0\n",
      "3\n",
      "change at start 2.0\n",
      "old_weights_i 0.0\n",
      "weights 5351785.20245\n",
      "change during iterations 5351785.20245\n",
      "old_weights_i 5351785.20245\n",
      "weights 5351785.20245\n",
      "change during iterations 9.31322574615e-10\n",
      "4\n",
      "change at start 2.0\n",
      "old_weights_i 0.0\n",
      "weights -1039778.70128\n",
      "change during iterations -1039778.70128\n",
      "5\n",
      "change at start 2.0\n",
      "old_weights_i 0.0\n",
      "weights -8777011.38804\n",
      "change during iterations -8777011.38804\n",
      "6\n",
      "change at start 2.0\n",
      "old_weights_i 0.0\n",
      "weights 12532539.8661\n",
      "change during iterations 12532539.8661\n",
      "old_weights_i 12532539.8661\n",
      "weights 12532539.8661\n",
      "change during iterations -1.86264514923e-09\n",
      "7\n",
      "change at start 2.0\n",
      "old_weights_i 0.0\n",
      "weights 10822058.5931\n",
      "change during iterations 10822058.5931\n",
      "old_weights_i 10822058.5931\n",
      "weights 10822058.5931\n",
      "change during iterations 0.0\n",
      "8\n",
      "change at start 2.0\n",
      "old_weights_i 0.0\n",
      "weights -8853758.72853\n",
      "change during iterations -8853758.72853\n",
      "9\n",
      "change at start 2.0\n",
      "old_weights_i 0.0\n",
      "weights 3701394.85152\n",
      "change during iterations 3701394.85152\n",
      "old_weights_i 3701394.85152\n",
      "weights 3701394.85152\n",
      "change during iterations 2.32830643654e-09\n",
      "10\n",
      "change at start 2.0\n",
      "old_weights_i 0.0\n",
      "weights 6553209.86071\n",
      "change during iterations 6553209.86071\n",
      "old_weights_i 6553209.86071\n",
      "weights 6553209.86071\n",
      "change during iterations -1.86264514923e-09\n",
      "11\n",
      "change at start 2.0\n",
      "old_weights_i 0.0\n",
      "weights 2944872.4612\n",
      "change during iterations 2944872.4612\n",
      "old_weights_i 2944872.4612\n",
      "weights 2944872.4612\n",
      "change during iterations -1.39698386192e-09\n",
      "12\n",
      "change at start 2.0\n",
      "old_weights_i 0.0\n",
      "weights -11597561.6641\n",
      "change during iterations -11597561.6641\n",
      "13\n",
      "change at start 2.0\n",
      "old_weights_i 0.0\n",
      "weights 3045173.22934\n",
      "change during iterations 3045173.22934\n",
      "old_weights_i 3045173.22934\n",
      "weights 3045173.22934\n",
      "change during iterations 4.65661287308e-10\n"
     ]
    },
    {
     "data": {
      "text/plain": [
       "array([ 71114625.75280942,   3956380.10169748,   4963442.47090494,\n",
       "         5351785.20244834,  -1039778.70127717,  -8777011.38803522,\n",
       "        12532539.86605723,  10822058.59305906,  -8853758.72853293,\n",
       "         3701394.85151556,   6553209.8607113 ,   2944872.46119943,\n",
       "       -11597561.6640607 ,   3045173.2293374 ])"
      ]
     },
     "execution_count": 72,
     "metadata": {},
     "output_type": "execute_result"
    }
   ],
   "source": [
    "l1_penalty = 1e4\n",
    "tolerance = 1.0\n",
    "weigths = np.zeros(14)\n",
    "weights1e4 = lasso_cyclical_coordinate_descent(normalized_training_feature_matrix, train_output,\n",
    "                                            weigths, l1_penalty, tolerance)\n",
    "weights1e4"
   ]
  },
  {
   "cell_type": "markdown",
   "metadata": {},
   "source": [
    "***QUIZ QUESTION***\n",
    "\n",
    "What features had non-zero weight in this case?"
   ]
  },
  {
   "cell_type": "markdown",
   "metadata": {},
   "source": [
    "## Rescaling learned weights"
   ]
  },
  {
   "cell_type": "markdown",
   "metadata": {},
   "source": [
    "Recall that we normalized our feature matrix, before learning the weights.  To use these weights on a test set, we must normalize the test data in the same way.\n",
    "\n",
    "Alternatively, we can rescale the learned weights to include the normalization, so we never have to worry about normalizing the test data: \n",
    "\n",
    "In this case, we must scale the resulting weights so that we can make predictions with *original* features:\n",
    " 1. Store the norms of the original features to a vector called `norms`:\n",
    "```\n",
    "features, norms = normalize_features(features)\n",
    "```\n",
    " 2. Run Lasso on the normalized features and obtain a `weights` vector\n",
    " 3. Compute the weights for the original features by performing element-wise division, i.e.\n",
    "```\n",
    "weights_normalized = weights / norms\n",
    "```\n",
    "Now, we can apply `weights_normalized` to the test data, without normalizing it!"
   ]
  },
  {
   "cell_type": "markdown",
   "metadata": {},
   "source": [
    "Create a normalized version of each of the weights learned above. (`weights1e4`, `weights1e7`, `weights1e8`)."
   ]
  },
  {
   "cell_type": "code",
   "execution_count": null,
   "metadata": {
    "collapsed": true
   },
   "outputs": [],
   "source": []
  },
  {
   "cell_type": "markdown",
   "metadata": {},
   "source": [
    "To check your results, if you call `normalized_weights1e7` the normalized version of `weights1e7`, then:\n",
    "```\n",
    "print normalized_weights1e7[3]\n",
    "```\n",
    "should return 161.31745624837794."
   ]
  },
  {
   "cell_type": "markdown",
   "metadata": {},
   "source": [
    "## Evaluating each of the learned models on the test data"
   ]
  },
  {
   "cell_type": "markdown",
   "metadata": {},
   "source": [
    "Let's now evaluate the three models on the test data:"
   ]
  },
  {
   "cell_type": "code",
   "execution_count": null,
   "metadata": {
    "collapsed": true
   },
   "outputs": [],
   "source": [
    "(test_feature_matrix, test_output) = get_numpy_data(test_data, all_features, 'price')"
   ]
  },
  {
   "cell_type": "markdown",
   "metadata": {},
   "source": [
    "Compute the RSS of each of the three normalized weights on the (unnormalized) `test_feature_matrix`:"
   ]
  },
  {
   "cell_type": "code",
   "execution_count": null,
   "metadata": {
    "collapsed": true
   },
   "outputs": [],
   "source": []
  },
  {
   "cell_type": "code",
   "execution_count": null,
   "metadata": {
    "collapsed": true
   },
   "outputs": [],
   "source": []
  },
  {
   "cell_type": "code",
   "execution_count": null,
   "metadata": {
    "collapsed": true
   },
   "outputs": [],
   "source": []
  },
  {
   "cell_type": "markdown",
   "metadata": {},
   "source": [
    "***QUIZ QUESTION***\n",
    "\n",
    "Which model performed best on the test data?"
   ]
  }
 ],
 "metadata": {
  "kernelspec": {
   "display_name": "Python 3",
   "language": "python",
   "name": "python3"
  },
  "language_info": {
   "codemirror_mode": {
    "name": "ipython",
    "version": 3
   },
   "file_extension": ".py",
   "mimetype": "text/x-python",
   "name": "python",
   "nbconvert_exporter": "python",
   "pygments_lexer": "ipython3",
   "version": "3.6.0"
  }
 },
 "nbformat": 4,
 "nbformat_minor": 0
}
