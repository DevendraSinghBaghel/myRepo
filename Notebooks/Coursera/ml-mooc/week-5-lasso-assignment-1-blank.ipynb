{
 "cells": [
  {
   "cell_type": "markdown",
   "metadata": {},
   "source": [
    "# Regression Week 5: Feature Selection and LASSO (Interpretation)"
   ]
  },
  {
   "cell_type": "code",
   "execution_count": 76,
   "metadata": {
    "collapsed": true
   },
   "outputs": [],
   "source": [
    "import sys\n",
    "sys.path.append('C:\\Anaconda2\\envs\\gl-env\\Lib\\site-packages')"
   ]
  },
  {
   "cell_type": "markdown",
   "metadata": {},
   "source": [
    "In this notebook, you will use LASSO to select features, building on a pre-implemented solver for LASSO (using GraphLab Create, though you can use other solvers). You will:\n",
    "* Run LASSO with different L1 penalties.\n",
    "* Choose best L1 penalty using a validation set.\n",
    "* Choose best L1 penalty using a validation set, with additional constraint on the size of subset.\n",
    "\n",
    "In the second notebook, you will implement your own LASSO solver, using coordinate descent. "
   ]
  },
  {
   "cell_type": "markdown",
   "metadata": {},
   "source": [
    "# Fire up graphlab create"
   ]
  },
  {
   "cell_type": "code",
   "execution_count": 77,
   "metadata": {
    "collapsed": true
   },
   "outputs": [],
   "source": [
    "import graphlab\n",
    "import numpy as np"
   ]
  },
  {
   "cell_type": "markdown",
   "metadata": {},
   "source": [
    "# Load in house sales data\n",
    "\n",
    "Dataset is from house sales in King County, the region where the city of Seattle, WA is located."
   ]
  },
  {
   "cell_type": "code",
   "execution_count": 78,
   "metadata": {
    "collapsed": false,
    "scrolled": true
   },
   "outputs": [],
   "source": [
    "sales = graphlab.SFrame('kc_house_data.gl/')"
   ]
  },
  {
   "cell_type": "markdown",
   "metadata": {},
   "source": [
    "# Create new features"
   ]
  },
  {
   "cell_type": "markdown",
   "metadata": {},
   "source": [
    "As in Week 2, we consider features that are some transformations of inputs."
   ]
  },
  {
   "cell_type": "code",
   "execution_count": 79,
   "metadata": {
    "collapsed": true
   },
   "outputs": [],
   "source": [
    "from math import log, sqrt\n",
    "sales['sqft_living_sqrt'] = sales['sqft_living'].apply(sqrt)\n",
    "sales['sqft_lot_sqrt'] = sales['sqft_lot'].apply(sqrt)\n",
    "sales['bedrooms_square'] = sales['bedrooms']*sales['bedrooms']\n",
    "\n",
    "# In the dataset, 'floors' was defined with type string, \n",
    "# so we'll convert them to float, before creating a new feature.\n",
    "sales['floors'] = sales['floors'].astype(float) \n",
    "sales['floors_square'] = sales['floors']*sales['floors']"
   ]
  },
  {
   "cell_type": "markdown",
   "metadata": {},
   "source": [
    "* Squaring bedrooms will increase the separation between not many bedrooms (e.g. 1) and lots of bedrooms (e.g. 4) since 1^2 = 1 but 4^2 = 16. Consequently this variable will mostly affect houses with many bedrooms.\n",
    "* On the other hand, taking square root of sqft_living will decrease the separation between big house and small house. The owner may not be exactly twice as happy for getting a house that is twice as big."
   ]
  },
  {
   "cell_type": "markdown",
   "metadata": {},
   "source": [
    "# Learn regression weights with L1 penalty"
   ]
  },
  {
   "cell_type": "markdown",
   "metadata": {},
   "source": [
    "Let us fit a model with all the features available, plus the features we just created above."
   ]
  },
  {
   "cell_type": "code",
   "execution_count": 80,
   "metadata": {
    "collapsed": false
   },
   "outputs": [],
   "source": [
    "all_features = ['bedrooms', 'bedrooms_square',\n",
    "            'bathrooms',\n",
    "            'sqft_living', 'sqft_living_sqrt',\n",
    "            'sqft_lot', 'sqft_lot_sqrt',\n",
    "            'floors', 'floors_square',\n",
    "            'waterfront', 'view', 'condition', 'grade',\n",
    "            'sqft_above',\n",
    "            'sqft_basement',\n",
    "            'yr_built', 'yr_renovated']"
   ]
  },
  {
   "cell_type": "markdown",
   "metadata": {},
   "source": [
    "Applying L1 penalty requires adding an extra parameter (`l1_penalty`) to the linear regression call in GraphLab Create. (Other tools may have separate implementations of LASSO.)  Note that it's important to set `l2_penalty=0` to ensure we don't introduce an additional L2 penalty."
   ]
  },
  {
   "cell_type": "code",
   "execution_count": 81,
   "metadata": {
    "collapsed": false
   },
   "outputs": [
    {
     "data": {
      "text/html": [
       "<pre>Linear regression:</pre>"
      ],
      "text/plain": [
       "Linear regression:"
      ]
     },
     "metadata": {},
     "output_type": "display_data"
    },
    {
     "data": {
      "text/html": [
       "<pre>--------------------------------------------------------</pre>"
      ],
      "text/plain": [
       "--------------------------------------------------------"
      ]
     },
     "metadata": {},
     "output_type": "display_data"
    },
    {
     "data": {
      "text/html": [
       "<pre>Number of examples          : 21613</pre>"
      ],
      "text/plain": [
       "Number of examples          : 21613"
      ]
     },
     "metadata": {},
     "output_type": "display_data"
    },
    {
     "data": {
      "text/html": [
       "<pre>Number of features          : 17</pre>"
      ],
      "text/plain": [
       "Number of features          : 17"
      ]
     },
     "metadata": {},
     "output_type": "display_data"
    },
    {
     "data": {
      "text/html": [
       "<pre>Number of unpacked features : 17</pre>"
      ],
      "text/plain": [
       "Number of unpacked features : 17"
      ]
     },
     "metadata": {},
     "output_type": "display_data"
    },
    {
     "data": {
      "text/html": [
       "<pre>Number of coefficients    : 18</pre>"
      ],
      "text/plain": [
       "Number of coefficients    : 18"
      ]
     },
     "metadata": {},
     "output_type": "display_data"
    },
    {
     "data": {
      "text/html": [
       "<pre>Starting Accelerated Gradient (FISTA)</pre>"
      ],
      "text/plain": [
       "Starting Accelerated Gradient (FISTA)"
      ]
     },
     "metadata": {},
     "output_type": "display_data"
    },
    {
     "data": {
      "text/html": [
       "<pre>--------------------------------------------------------</pre>"
      ],
      "text/plain": [
       "--------------------------------------------------------"
      ]
     },
     "metadata": {},
     "output_type": "display_data"
    },
    {
     "data": {
      "text/html": [
       "<pre>+-----------+----------+-----------+--------------+--------------------+---------------+</pre>"
      ],
      "text/plain": [
       "+-----------+----------+-----------+--------------+--------------------+---------------+"
      ]
     },
     "metadata": {},
     "output_type": "display_data"
    },
    {
     "data": {
      "text/html": [
       "<pre>| Iteration | Passes   | Step size | Elapsed Time | Training-max_error | Training-rmse |</pre>"
      ],
      "text/plain": [
       "| Iteration | Passes   | Step size | Elapsed Time | Training-max_error | Training-rmse |"
      ]
     },
     "metadata": {},
     "output_type": "display_data"
    },
    {
     "data": {
      "text/html": [
       "<pre>+-----------+----------+-----------+--------------+--------------------+---------------+</pre>"
      ],
      "text/plain": [
       "+-----------+----------+-----------+--------------+--------------------+---------------+"
      ]
     },
     "metadata": {},
     "output_type": "display_data"
    },
    {
     "data": {
      "text/html": [
       "<pre>Tuning step size. First iteration could take longer than subsequent iterations.</pre>"
      ],
      "text/plain": [
       "Tuning step size. First iteration could take longer than subsequent iterations."
      ]
     },
     "metadata": {},
     "output_type": "display_data"
    },
    {
     "data": {
      "text/html": [
       "<pre>| 1         | 2        | 0.000002  | 0.332029     | 6962915.603493     | 426631.749026 |</pre>"
      ],
      "text/plain": [
       "| 1         | 2        | 0.000002  | 0.332029     | 6962915.603493     | 426631.749026 |"
      ]
     },
     "metadata": {},
     "output_type": "display_data"
    },
    {
     "data": {
      "text/html": [
       "<pre>| 2         | 3        | 0.000002  | 0.361031     | 6843144.200219     | 392488.929838 |</pre>"
      ],
      "text/plain": [
       "| 2         | 3        | 0.000002  | 0.361031     | 6843144.200219     | 392488.929838 |"
      ]
     },
     "metadata": {},
     "output_type": "display_data"
    },
    {
     "data": {
      "text/html": [
       "<pre>| 3         | 4        | 0.000002  | 0.389534     | 6831900.032123     | 385340.166783 |</pre>"
      ],
      "text/plain": [
       "| 3         | 4        | 0.000002  | 0.389534     | 6831900.032123     | 385340.166783 |"
      ]
     },
     "metadata": {},
     "output_type": "display_data"
    },
    {
     "data": {
      "text/html": [
       "<pre>| 4         | 5        | 0.000002  | 0.420538     | 6847166.848958     | 384842.383767 |</pre>"
      ],
      "text/plain": [
       "| 4         | 5        | 0.000002  | 0.420538     | 6847166.848958     | 384842.383767 |"
      ]
     },
     "metadata": {},
     "output_type": "display_data"
    },
    {
     "data": {
      "text/html": [
       "<pre>| 5         | 6        | 0.000002  | 0.453542     | 6869667.895833     | 385998.458623 |</pre>"
      ],
      "text/plain": [
       "| 5         | 6        | 0.000002  | 0.453542     | 6869667.895833     | 385998.458623 |"
      ]
     },
     "metadata": {},
     "output_type": "display_data"
    },
    {
     "data": {
      "text/html": [
       "<pre>| 6         | 7        | 0.000002  | 0.485046     | 6847177.773672     | 380824.455891 |</pre>"
      ],
      "text/plain": [
       "| 6         | 7        | 0.000002  | 0.485046     | 6847177.773672     | 380824.455891 |"
      ]
     },
     "metadata": {},
     "output_type": "display_data"
    },
    {
     "data": {
      "text/html": [
       "<pre>+-----------+----------+-----------+--------------+--------------------+---------------+</pre>"
      ],
      "text/plain": [
       "+-----------+----------+-----------+--------------+--------------------+---------------+"
      ]
     },
     "metadata": {},
     "output_type": "display_data"
    },
    {
     "data": {
      "text/html": [
       "<pre>TERMINATED: Iteration limit reached.</pre>"
      ],
      "text/plain": [
       "TERMINATED: Iteration limit reached."
      ]
     },
     "metadata": {},
     "output_type": "display_data"
    },
    {
     "data": {
      "text/html": [
       "<pre>This model may not be optimal. To improve it, consider increasing `max_iterations`.</pre>"
      ],
      "text/plain": [
       "This model may not be optimal. To improve it, consider increasing `max_iterations`."
      ]
     },
     "metadata": {},
     "output_type": "display_data"
    }
   ],
   "source": [
    "model_all = graphlab.linear_regression.create(sales, target='price', features=all_features,\n",
    "                                              validation_set=None, \n",
    "                                              l2_penalty=0, l1_penalty=1e10)"
   ]
  },
  {
   "cell_type": "markdown",
   "metadata": {},
   "source": [
    "Find what features had non-zero weight."
   ]
  },
  {
   "cell_type": "code",
   "execution_count": 74,
   "metadata": {
    "collapsed": false
   },
   "outputs": [
    {
     "name": "stdout",
     "output_type": "stream",
     "text": [
      "+------------------+-------+---------------+--------+\n",
      "|       name       | index |     value     | stderr |\n",
      "+------------------+-------+---------------+--------+\n",
      "|   (intercept)    |  None |  274873.05595 |  None  |\n",
      "|     bedrooms     |  None |      0.0      |  None  |\n",
      "| bedrooms_square  |  None |      0.0      |  None  |\n",
      "|    bathrooms     |  None | 8468.53108691 |  None  |\n",
      "|   sqft_living    |  None | 24.4207209824 |  None  |\n",
      "| sqft_living_sqrt |  None | 350.060553386 |  None  |\n",
      "|     sqft_lot     |  None |      0.0      |  None  |\n",
      "|  sqft_lot_sqrt   |  None |      0.0      |  None  |\n",
      "|      floors      |  None |      0.0      |  None  |\n",
      "|  floors_square   |  None |      0.0      |  None  |\n",
      "|    waterfront    |  None |      0.0      |  None  |\n",
      "|       view       |  None |      0.0      |  None  |\n",
      "|    condition     |  None |      0.0      |  None  |\n",
      "|      grade       |  None | 842.068034898 |  None  |\n",
      "|    sqft_above    |  None | 20.0247224171 |  None  |\n",
      "|  sqft_basement   |  None |      0.0      |  None  |\n",
      "|     yr_built     |  None |      0.0      |  None  |\n",
      "|   yr_renovated   |  None |      0.0      |  None  |\n",
      "+------------------+-------+---------------+--------+\n",
      "[18 rows x 4 columns]\n",
      "\n"
     ]
    }
   ],
   "source": [
    "model_all.coefficients.print_rows(num_rows=18)\n"
   ]
  },
  {
   "cell_type": "markdown",
   "metadata": {},
   "source": [
    "Note that a majority of the weights have been set to zero. So by setting an L1 penalty that's large enough, we are performing a subset selection. \n",
    "\n",
    "***QUIZ QUESTION***:\n",
    "According to this list of weights, which of the features have been chosen? "
   ]
  },
  {
   "cell_type": "markdown",
   "metadata": {},
   "source": [
    "# Selecting an L1 penalty"
   ]
  },
  {
   "cell_type": "markdown",
   "metadata": {},
   "source": [
    "To find a good L1 penalty, we will explore multiple values using a validation set. Let us do three way split into train, validation, and test sets:\n",
    "* Split our sales data into 2 sets: training and test\n",
    "* Further split our training data into two sets: train, validation\n",
    "\n",
    "Be *very* careful that you use seed = 1 to ensure you get the same answer!"
   ]
  },
  {
   "cell_type": "code",
   "execution_count": 8,
   "metadata": {
    "collapsed": true
   },
   "outputs": [],
   "source": [
    "(training_and_validation, testing) = sales.random_split(.9,seed=1) # initial train/test split\n",
    "(training, validation) = training_and_validation.random_split(0.5, seed=1) # split training into train and validate"
   ]
  },
  {
   "cell_type": "markdown",
   "metadata": {},
   "source": [
    "Next, we write a loop that does the following:\n",
    "* For `l1_penalty` in [10^1, 10^1.5, 10^2, 10^2.5, ..., 10^7] (to get this in Python, type `np.logspace(1, 7, num=13)`.)\n",
    "    * Fit a regression model with a given `l1_penalty` on TRAIN data. Specify `l1_penalty=l1_penalty` and `l2_penalty=0.` in the parameter list.\n",
    "    * Compute the RSS on VALIDATION data (here you will want to use `.predict()`) for that `l1_penalty`\n",
    "* Report which `l1_penalty` produced the lowest RSS on validation data.\n",
    "\n",
    "When you call `linear_regression.create()` make sure you set `validation_set = None`.\n",
    "\n",
    "Note: you can turn off the print out of `linear_regression.create()` with `verbose = False`"
   ]
  },
  {
   "cell_type": "code",
   "execution_count": 67,
   "metadata": {
    "collapsed": false
   },
   "outputs": [
    {
     "name": "stdout",
     "output_type": "stream",
     "text": [
      "RSS for l1_penalty 10.000000 is 625766285142461.250000\n",
      "+------------------+-------+------------------+--------+\n",
      "|       name       | index |      value       | stderr |\n",
      "+------------------+-------+------------------+--------+\n",
      "|   (intercept)    |  None |  18993.4272128   |  None  |\n",
      "|     bedrooms     |  None |  7936.96767903   |  None  |\n",
      "| bedrooms_square  |  None |  936.993368193   |  None  |\n",
      "|    bathrooms     |  None |  25409.5889341   |  None  |\n",
      "|   sqft_living    |  None |  39.1151363797   |  None  |\n",
      "| sqft_living_sqrt |  None |  1124.65021281   |  None  |\n",
      "|     sqft_lot     |  None | 0.00348361822299 |  None  |\n",
      "|  sqft_lot_sqrt   |  None |  148.258391011   |  None  |\n",
      "|      floors      |  None |   21204.335467   |  None  |\n",
      "|  floors_square   |  None |  12915.5243361   |  None  |\n",
      "+------------------+-------+------------------+--------+\n",
      "[18 rows x 4 columns]\n",
      "Note: Only the head of the SFrame is printed.\n",
      "You can use print_rows(num_rows=m, num_columns=n) to print more rows and columns.\n",
      "RSS for l1_penalty 31.622777 is 625766285362395.250000\n",
      "+------------------+-------+------------------+--------+\n",
      "|       name       | index |      value       | stderr |\n",
      "+------------------+-------+------------------+--------+\n",
      "|   (intercept)    |  None |  18993.4285345   |  None  |\n",
      "|     bedrooms     |  None |  7936.96764801   |  None  |\n",
      "| bedrooms_square  |  None |   936.99334899   |  None  |\n",
      "|    bathrooms     |  None |  25409.5888977   |  None  |\n",
      "|   sqft_living    |  None |  39.1151363649   |  None  |\n",
      "| sqft_living_sqrt |  None |   1124.6502113   |  None  |\n",
      "|     sqft_lot     |  None | 0.00348360549025 |  None  |\n",
      "|  sqft_lot_sqrt   |  None |  148.258390148   |  None  |\n",
      "|      floors      |  None |  21204.3353589   |  None  |\n",
      "|  floors_square   |  None |  12915.5242399   |  None  |\n",
      "+------------------+-------+------------------+--------+\n",
      "[18 rows x 4 columns]\n",
      "Note: Only the head of the SFrame is printed.\n",
      "You can use print_rows(num_rows=m, num_columns=n) to print more rows and columns.\n",
      "RSS for l1_penalty 100.000000 is 625766286057887.000000\n",
      "+------------------+-------+-----------------+--------+\n",
      "|       name       | index |      value      | stderr |\n",
      "+------------------+-------+-----------------+--------+\n",
      "|   (intercept)    |  None |  18993.4327144  |  None  |\n",
      "|     bedrooms     |  None |   7936.9675499  |  None  |\n",
      "| bedrooms_square  |  None |  936.993288262  |  None  |\n",
      "|    bathrooms     |  None |  25409.5887825  |  None  |\n",
      "|   sqft_living    |  None |  39.1151363182  |  None  |\n",
      "| sqft_living_sqrt |  None |  1124.65020653  |  None  |\n",
      "|     sqft_lot     |  None | 0.0034835652258 |  None  |\n",
      "|  sqft_lot_sqrt   |  None |  148.258387417  |  None  |\n",
      "|      floors      |  None |  21204.3350171  |  None  |\n",
      "|  floors_square   |  None |  12915.5239357  |  None  |\n",
      "+------------------+-------+-----------------+--------+\n",
      "[18 rows x 4 columns]\n",
      "Note: Only the head of the SFrame is printed.\n",
      "You can use print_rows(num_rows=m, num_columns=n) to print more rows and columns.\n",
      "RSS for l1_penalty 316.227766 is 625766288257224.875000\n",
      "+------------------+-------+------------------+--------+\n",
      "|       name       | index |      value       | stderr |\n",
      "+------------------+-------+------------------+--------+\n",
      "|   (intercept)    |  None |  18993.4459322   |  None  |\n",
      "|     bedrooms     |  None |  7936.96723967   |  None  |\n",
      "| bedrooms_square  |  None |  936.993096225   |  None  |\n",
      "|    bathrooms     |  None |  25409.5884183   |  None  |\n",
      "|   sqft_living    |  None |  39.1151361705   |  None  |\n",
      "| sqft_living_sqrt |  None |  1124.65019144   |  None  |\n",
      "|     sqft_lot     |  None | 0.00348343789842 |  None  |\n",
      "|  sqft_lot_sqrt   |  None |  148.258378783   |  None  |\n",
      "|      floors      |  None |  21204.3339364   |  None  |\n",
      "|  floors_square   |  None |  12915.5229739   |  None  |\n",
      "+------------------+-------+------------------+--------+\n",
      "[18 rows x 4 columns]\n",
      "Note: Only the head of the SFrame is printed.\n",
      "You can use print_rows(num_rows=m, num_columns=n) to print more rows and columns.\n",
      "RSS for l1_penalty 1000.000000 is 625766295212186.000000\n",
      "+------------------+-------+------------------+--------+\n",
      "|       name       | index |      value       | stderr |\n",
      "+------------------+-------+------------------+--------+\n",
      "|   (intercept)    |  None |  18993.4877305   |  None  |\n",
      "|     bedrooms     |  None |  7936.96625863   |  None  |\n",
      "| bedrooms_square  |  None |  936.992488952   |  None  |\n",
      "|    bathrooms     |  None |  25409.5872664   |  None  |\n",
      "|   sqft_living    |  None |  39.1151357034   |  None  |\n",
      "| sqft_living_sqrt |  None |  1124.65014372   |  None  |\n",
      "|     sqft_lot     |  None | 0.00348303525386 |  None  |\n",
      "|  sqft_lot_sqrt   |  None |  148.258351477   |  None  |\n",
      "|      floors      |  None |  21204.3305187   |  None  |\n",
      "|  floors_square   |  None |  12915.5199324   |  None  |\n",
      "+------------------+-------+------------------+--------+\n",
      "[18 rows x 4 columns]\n",
      "Note: Only the head of the SFrame is printed.\n",
      "You can use print_rows(num_rows=m, num_columns=n) to print more rows and columns.\n",
      "RSS for l1_penalty 3162.277660 is 625766317206077.750000\n",
      "+------------------+-------+------------------+--------+\n",
      "|       name       | index |      value       | stderr |\n",
      "+------------------+-------+------------------+--------+\n",
      "|   (intercept)    |  None |  18993.6199083   |  None  |\n",
      "|     bedrooms     |  None |  7936.96315631   |  None  |\n",
      "| bedrooms_square  |  None |  936.990568583   |  None  |\n",
      "|    bathrooms     |  None |  25409.5836239   |  None  |\n",
      "|   sqft_living    |  None |  39.1151342262   |  None  |\n",
      "| sqft_living_sqrt |  None |  1124.64999282   |  None  |\n",
      "|     sqft_lot     |  None | 0.00348176198003 |  None  |\n",
      "|  sqft_lot_sqrt   |  None |  148.258265129   |  None  |\n",
      "|      floors      |  None |  21204.3197113   |  None  |\n",
      "|  floors_square   |  None |  12915.5103143   |  None  |\n",
      "+------------------+-------+------------------+--------+\n",
      "[18 rows x 4 columns]\n",
      "Note: Only the head of the SFrame is printed.\n",
      "You can use print_rows(num_rows=m, num_columns=n) to print more rows and columns.\n",
      "RSS for l1_penalty 10000.000000 is 625766386760661.500000\n",
      "+------------------+-------+------------------+--------+\n",
      "|       name       | index |      value       | stderr |\n",
      "+------------------+-------+------------------+--------+\n",
      "|   (intercept)    |  None |  18994.0378912   |  None  |\n",
      "|     bedrooms     |  None |  7936.95334592   |  None  |\n",
      "| bedrooms_square  |  None |  936.984495845   |  None  |\n",
      "|    bathrooms     |  None |  25409.5721055   |  None  |\n",
      "|   sqft_living    |  None |   39.115129555   |  None  |\n",
      "| sqft_living_sqrt |  None |  1124.64951563   |  None  |\n",
      "|     sqft_lot     |  None | 0.00347773553446 |  None  |\n",
      "|  sqft_lot_sqrt   |  None |  148.257992074   |  None  |\n",
      "|      floors      |  None |   21204.285535   |  None  |\n",
      "|  floors_square   |  None |  12915.4798991   |  None  |\n",
      "+------------------+-------+------------------+--------+\n",
      "[18 rows x 4 columns]\n",
      "Note: Only the head of the SFrame is printed.\n",
      "You can use print_rows(num_rows=m, num_columns=n) to print more rows and columns.\n",
      "RSS for l1_penalty 31622.776602 is 625766606749281.375000\n",
      "+------------------+-------+-----------------+--------+\n",
      "|       name       | index |      value      | stderr |\n",
      "+------------------+-------+-----------------+--------+\n",
      "|   (intercept)    |  None |  18995.3596694  |  None  |\n",
      "|     bedrooms     |  None |  7936.92232272  |  None  |\n",
      "| bedrooms_square  |  None |  936.965292161  |  None  |\n",
      "|    bathrooms     |  None |  25409.5356808  |  None  |\n",
      "|   sqft_living    |  None |  39.1151147834  |  None  |\n",
      "| sqft_living_sqrt |  None |  1124.64800663  |  None  |\n",
      "|     sqft_lot     |  None | 0.0034650027953 |  None  |\n",
      "|  sqft_lot_sqrt   |  None |  148.257128596  |  None  |\n",
      "|      floors      |  None |  21204.1774601  |  None  |\n",
      "|  floors_square   |  None |  12915.3837177  |  None  |\n",
      "+------------------+-------+-----------------+--------+\n",
      "[18 rows x 4 columns]\n",
      "Note: Only the head of the SFrame is printed.\n",
      "You can use print_rows(num_rows=m, num_columns=n) to print more rows and columns.\n",
      "RSS for l1_penalty 100000.000000 is 625767302791633.375000\n",
      "+------------------+-------+------------------+--------+\n",
      "|       name       | index |      value       | stderr |\n",
      "+------------------+-------+------------------+--------+\n",
      "|   (intercept)    |  None |   18999.539499   |  None  |\n",
      "|     bedrooms     |  None |  7936.82421875   |  None  |\n",
      "| bedrooms_square  |  None |  936.904564783   |  None  |\n",
      "|    bathrooms     |  None |  25409.4204959   |  None  |\n",
      "|   sqft_living    |  None |  39.1150680714   |  None  |\n",
      "| sqft_living_sqrt |  None |  1124.64323476   |  None  |\n",
      "|     sqft_lot     |  None | 0.00342473834052 |  None  |\n",
      "|  sqft_lot_sqrt   |  None |  148.254398041   |  None  |\n",
      "|      floors      |  None |  21203.8356975   |  None  |\n",
      "|  floors_square   |  None |  12915.0795655   |  None  |\n",
      "+------------------+-------+------------------+--------+\n",
      "[18 rows x 4 columns]\n",
      "Note: Only the head of the SFrame is printed.\n",
      "You can use print_rows(num_rows=m, num_columns=n) to print more rows and columns.\n",
      "RSS for l1_penalty 316227.766017 is 625769507643885.125000\n",
      "+------------------+-------+------------------+--------+\n",
      "|       name       | index |      value       | stderr |\n",
      "+------------------+-------+------------------+--------+\n",
      "|   (intercept)    |  None |  19012.7572816   |  None  |\n",
      "|     bedrooms     |  None |  7936.51398675   |  None  |\n",
      "| bedrooms_square  |  None |  936.712527935   |  None  |\n",
      "|    bathrooms     |  None |  25409.0562492   |  None  |\n",
      "|   sqft_living    |  None |  39.1149203552   |  None  |\n",
      "| sqft_living_sqrt |  None |  1124.62814478   |  None  |\n",
      "|     sqft_lot     |  None | 0.00329741094431 |  None  |\n",
      "|  sqft_lot_sqrt   |  None |  148.245763265   |  None  |\n",
      "|      floors      |  None |   21202.754949   |  None  |\n",
      "|  floors_square   |  None |  12914.1177518   |  None  |\n",
      "+------------------+-------+------------------+--------+\n",
      "[18 rows x 4 columns]\n",
      "Note: Only the head of the SFrame is printed.\n",
      "You can use print_rows(num_rows=m, num_columns=n) to print more rows and columns.\n",
      "RSS for l1_penalty 1000000.000000 is 625776517727025.750000\n",
      "+------------------+-------+------------------+--------+\n",
      "|       name       | index |      value       | stderr |\n",
      "+------------------+-------+------------------+--------+\n",
      "|   (intercept)    |  None |  19054.5555764   |  None  |\n",
      "|     bedrooms     |  None |  7935.53294712   |  None  |\n",
      "| bedrooms_square  |  None |  936.105254156   |  None  |\n",
      "|    bathrooms     |  None |  25407.9044002   |  None  |\n",
      "|   sqft_living    |  None |  39.1144532356   |  None  |\n",
      "| sqft_living_sqrt |  None |  1124.58042608   |  None  |\n",
      "|     sqft_lot     |  None | 0.00289476640108 |  None  |\n",
      "|  sqft_lot_sqrt   |  None |  148.218457709   |  None  |\n",
      "|      floors      |  None |  21199.3373226   |  None  |\n",
      "|  floors_square   |  None |  12911.0762302   |  None  |\n",
      "+------------------+-------+------------------+--------+\n",
      "[18 rows x 4 columns]\n",
      "Note: Only the head of the SFrame is printed.\n",
      "You can use print_rows(num_rows=m, num_columns=n) to print more rows and columns.\n",
      "RSS for l1_penalty 3162277.660168 is 625799062845466.875000\n",
      "+------------------+-------+------------------+--------+\n",
      "|       name       | index |      value       | stderr |\n",
      "+------------------+-------+------------------+--------+\n",
      "|   (intercept)    |  None |  19186.7333988   |  None  |\n",
      "|     bedrooms     |  None |   7932.4306272   |  None  |\n",
      "| bedrooms_square  |  None |   934.18488573   |  None  |\n",
      "|    bathrooms     |  None |  25404.2619334   |  None  |\n",
      "|   sqft_living    |  None |  39.1129760734   |  None  |\n",
      "| sqft_living_sqrt |  None |  1124.42952628   |  None  |\n",
      "|     sqft_lot     |  None | 0.00162149247578 |  None  |\n",
      "|  sqft_lot_sqrt   |  None |  148.132109954   |  None  |\n",
      "|      floors      |  None |  21188.5298383   |  None  |\n",
      "|  floors_square   |  None |  12901.4580936   |  None  |\n",
      "+------------------+-------+------------------+--------+\n",
      "[18 rows x 4 columns]\n",
      "Note: Only the head of the SFrame is printed.\n",
      "You can use print_rows(num_rows=m, num_columns=n) to print more rows and columns.\n",
      "RSS for l1_penalty 10000000.000000 is 625883719085424.500000\n",
      "+------------------+-------+--------------------+--------+\n",
      "|       name       | index |       value        | stderr |\n",
      "+------------------+-------+--------------------+--------+\n",
      "|   (intercept)    |  None |   19604.7163508    |  None  |\n",
      "|     bedrooms     |  None |   7922.62023075    |  None  |\n",
      "| bedrooms_square  |  None |   928.112147889    |  None  |\n",
      "|    bathrooms     |  None |    25392.743443    |  None  |\n",
      "|   sqft_living    |  None |   39.1083048767    |  None  |\n",
      "| sqft_living_sqrt |  None |   1123.95233925    |  None  |\n",
      "|     sqft_lot     |  None | -0.000823987151992 |  None  |\n",
      "|  sqft_lot_sqrt   |  None |   147.859054391    |  None  |\n",
      "|      floors      |  None |    21154.353574    |  None  |\n",
      "|  floors_square   |  None |    12871.042877    |  None  |\n",
      "+------------------+-------+--------------------+--------+\n",
      "[18 rows x 4 columns]\n",
      "Note: Only the head of the SFrame is printed.\n",
      "You can use print_rows(num_rows=m, num_columns=n) to print more rows and columns.\n"
     ]
    }
   ],
   "source": [
    "resid_dict={}\n",
    "for l1_penalty in np.logspace(1, 7, num=13):\n",
    "    model=graphlab.linear_regression.create(training, target = 'price', \n",
    "                                                features = all_features,l1_penalty=l1_penalty, l2_penalty=0, \n",
    "                                                validation_set = None , verbose = False)\n",
    "    pred=model.predict(validation)\n",
    "    resid=pred-validation['price']\n",
    "    squared_resid=resid * resid\n",
    "    RSS=sum(squared_resid)\n",
    "    resid_dict[RSS] = l1_penalty\n",
    "    print \"RSS for l1_penalty %2f is %2f\" % ( l1_penalty,RSS)\n",
    "    print model.coefficients"
   ]
  },
  {
   "cell_type": "code",
   "execution_count": 20,
   "metadata": {
    "collapsed": false
   },
   "outputs": [
    {
     "name": "stdout",
     "output_type": "stream",
     "text": [
      "The best value for l1_penalty is 10.000000 and RSS for this penalty is 625766285142461.250000\n"
     ]
    }
   ],
   "source": [
    "resid_list = resid_dict.keys()\n",
    "best_resid=min(resid_list)\n",
    "#print best_resid\n",
    "print \"The best value for l1_penalty is %2f and RSS for this penalty is %2f\" %(resid_dict[best_resid],best_resid)"
   ]
  },
  {
   "cell_type": "markdown",
   "metadata": {},
   "source": [
    "*** QUIZ QUESTIONS ***\n",
    "1. What was the best value for the `l1_penalty`?\n",
    "2. What is the RSS on TEST data of the model with the best `l1_penalty`?"
   ]
  },
  {
   "cell_type": "code",
   "execution_count": 30,
   "metadata": {
    "collapsed": false
   },
   "outputs": [],
   "source": [
    "#\n",
    "model_best_penalty = graphlab.linear_regression.create(sales, target='price', features=all_features,\n",
    "                                              validation_set=None, \n",
    "                                              l2_penalty=0, l1_penalty=resid_dict[best_resid], verbose = False)"
   ]
  },
  {
   "cell_type": "markdown",
   "metadata": {},
   "source": [
    "***QUIZ QUESTION***\n",
    "Also, using this value of L1 penalty, how many nonzero weights do you have?"
   ]
  },
  {
   "cell_type": "code",
   "execution_count": 75,
   "metadata": {
    "collapsed": false
   },
   "outputs": [
    {
     "name": "stdout",
     "output_type": "stream",
     "text": [
      "+------------------+-------+------------------+--------+\n",
      "|       name       | index |      value       | stderr |\n",
      "+------------------+-------+------------------+--------+\n",
      "|   (intercept)    |  None |  20459.2475219   |  None  |\n",
      "|     bedrooms     |  None |  8155.38098737   |  None  |\n",
      "| bedrooms_square  |  None |  1479.73787423   |  None  |\n",
      "|    bathrooms     |  None |  24576.2383172   |  None  |\n",
      "|   sqft_living    |  None |  37.4911504798   |  None  |\n",
      "| sqft_living_sqrt |  None |  1109.39597073   |  None  |\n",
      "|     sqft_lot     |  None | -0.0168499198461 |  None  |\n",
      "|  sqft_lot_sqrt   |  None |  149.569423985   |  None  |\n",
      "|      floors      |  None |  20983.5137368   |  None  |\n",
      "|  floors_square   |  None |  12278.1023451   |  None  |\n",
      "|    waterfront    |  None |  581971.306649   |  None  |\n",
      "|       view       |  None |  92988.9899686   |  None  |\n",
      "|    condition     |  None |  6924.28719657   |  None  |\n",
      "|      grade       |  None |  6205.64105779   |  None  |\n",
      "|    sqft_above    |  None |  41.3497390696   |  None  |\n",
      "|  sqft_basement   |  None |   118.23242135   |  None  |\n",
      "|     yr_built     |  None |  10.1881669529   |  None  |\n",
      "|   yr_renovated   |  None |  58.7115840166   |  None  |\n",
      "+------------------+-------+------------------+--------+\n",
      "[18 rows x 4 columns]\n",
      "\n"
     ]
    }
   ],
   "source": [
    "model_best_penalty.coefficients.print_rows(num_rows=18)"
   ]
  },
  {
   "cell_type": "markdown",
   "metadata": {},
   "source": [
    "# Limit the number of nonzero weights\n",
    "\n",
    "What if we absolutely wanted to limit ourselves to, say, 7 features? This may be important if we want to derive \"a rule of thumb\" --- an interpretable model that has only a few features in them."
   ]
  },
  {
   "cell_type": "markdown",
   "metadata": {},
   "source": [
    "In this section, you are going to implement a simple, two phase procedure to achive this goal:\n",
    "1. Explore a large range of `l1_penalty` values to find a narrow region of `l1_penalty` values where models are likely to have the desired number of non-zero weights.\n",
    "2. Further explore the narrow region you found to find a good value for `l1_penalty` that achieves the desired sparsity.  Here, we will again use a validation set to choose the best value for `l1_penalty`."
   ]
  },
  {
   "cell_type": "code",
   "execution_count": 32,
   "metadata": {
    "collapsed": true
   },
   "outputs": [],
   "source": [
    "max_nonzeros = 7"
   ]
  },
  {
   "cell_type": "markdown",
   "metadata": {},
   "source": [
    "## Exploring the larger range of values to find a narrow range with the desired sparsity\n",
    "\n",
    "Let's define a wide range of possible `l1_penalty_values`:"
   ]
  },
  {
   "cell_type": "code",
   "execution_count": 27,
   "metadata": {
    "collapsed": false
   },
   "outputs": [],
   "source": [
    "l1_penalty_values = np.logspace(8, 10, num=20) "
   ]
  },
  {
   "cell_type": "markdown",
   "metadata": {},
   "source": [
    "Now, implement a loop that search through this space of possible `l1_penalty` values:\n",
    "\n",
    "* For `l1_penalty` in `np.logspace(8, 10, num=20)`:\n",
    "    * Fit a regression model with a given `l1_penalty` on TRAIN data. Specify `l1_penalty=l1_penalty` and `l2_penalty=0.` in the parameter list. When you call `linear_regression.create()` make sure you set `validation_set = None`\n",
    "    * Extract the weights of the model and count the number of nonzeros. Save the number of nonzeros to a list.\n",
    "        * *Hint: `model['coefficients']['value']` gives you an SArray with the parameters you learned.  If you call the method `.nnz()` on it, you will find the number of non-zero parameters!* "
   ]
  },
  {
   "cell_type": "code",
   "execution_count": 50,
   "metadata": {
    "collapsed": false
   },
   "outputs": [
    {
     "data": {
      "text/plain": [
       "[(100000000.0, 18),\n",
       " (127427498.57031322, 18),\n",
       " (162377673.91887242, 18),\n",
       " (206913808.11147901, 18),\n",
       " (263665089.87303555, 17),\n",
       " (335981828.62837881, 17),\n",
       " (428133239.8719396, 17),\n",
       " (545559478.11685145, 17),\n",
       " (695192796.17755914, 17),\n",
       " (885866790.41008317, 16),\n",
       " (1128837891.6846883, 15),\n",
       " (1438449888.2876658, 15),\n",
       " (1832980710.8324375, 13),\n",
       " (2335721469.0901213, 12),\n",
       " (2976351441.6313128, 10),\n",
       " (3792690190.7322536, 6),\n",
       " (4832930238.5717525, 5),\n",
       " (6158482110.6602545, 3),\n",
       " (7847599703.5146227, 1),\n",
       " (10000000000.0, 1)]"
      ]
     },
     "execution_count": 50,
     "metadata": {},
     "output_type": "execute_result"
    }
   ],
   "source": [
    "non_zeros_list=[]\n",
    "min_penalty=0\n",
    "max_penalty=0\n",
    "for l1_penalty in l1_penalty_values:\n",
    "    model=graphlab.linear_regression.create(training, target = 'price', \n",
    "                                                features = all_features,l1_penalty=l1_penalty, l2_penalty=0, \n",
    "                                                validation_set = None , verbose = False)\n",
    "    nonzeros=model['coefficients']['value'].nnz()\n",
    "    val = l1_penalty,nonzeros\n",
    "    non_zeros_list.append(val)\n",
    "non_zeros_list\n",
    "\n",
    "  "
   ]
  },
  {
   "cell_type": "markdown",
   "metadata": {},
   "source": [
    "Out of this large range, we want to find the two ends of our desired narrow range of `l1_penalty`.  At one end, we will have `l1_penalty` values that have too few non-zeros, and at the other end, we will have an `l1_penalty` that has too many non-zeros.  \n",
    "\n",
    "More formally, find:\n",
    "* The largest `l1_penalty` that has more non-zeros than `max_nonzero` (if we pick a penalty smaller than this value, we will definitely have too many non-zero weights)\n",
    "    * Store this value in the variable `l1_penalty_min` (we will use it later)\n",
    "* The smallest `l1_penalty` that has fewer non-zeros than `max_nonzero` (if we pick a penalty larger than this value, we will definitely have too few non-zero weights)\n",
    "    * Store this value in the variable `l1_penalty_max` (we will use it later)\n",
    "\n",
    "\n",
    "*Hint: there are many ways to do this, e.g.:*\n",
    "* Programmatically within the loop above\n",
    "* Creating a list with the number of non-zeros for each value of `l1_penalty` and inspecting it to find the appropriate boundaries."
   ]
  },
  {
   "cell_type": "code",
   "execution_count": 62,
   "metadata": {
    "collapsed": false
   },
   "outputs": [
    {
     "name": "stdout",
     "output_type": "stream",
     "text": [
      "7847599703.51\n",
      "206913808.111\n"
     ]
    }
   ],
   "source": [
    "list_max=[100000000.0,127427498.57031322,162377673.91887242,206913808.11147901]\n",
    "list_min=[10000000000.0,7847599703.5146227]\n",
    "\n",
    "l1_penalty_min =min(list_min)\n",
    "l1_penalty_max =max(list_max)\n",
    "print l1_penalty_min\n",
    "print l1_penalty_max"
   ]
  },
  {
   "cell_type": "markdown",
   "metadata": {},
   "source": [
    "***QUIZ QUESTIONS***\n",
    "\n",
    "What values did you find for `l1_penalty_min` and`l1_penalty_max`? "
   ]
  },
  {
   "cell_type": "markdown",
   "metadata": {},
   "source": [
    "## Exploring the narrow range of values to find the solution with the right number of non-zeros that has lowest RSS on the validation set \n",
    "\n",
    "We will now explore the narrow region of `l1_penalty` values we found:"
   ]
  },
  {
   "cell_type": "code",
   "execution_count": 63,
   "metadata": {
    "collapsed": true
   },
   "outputs": [],
   "source": [
    "l1_penalty_values = np.linspace(l1_penalty_min,l1_penalty_max,20)"
   ]
  },
  {
   "cell_type": "markdown",
   "metadata": {},
   "source": [
    "* For `l1_penalty` in `np.linspace(l1_penalty_min,l1_penalty_max,20)`:\n",
    "    * Fit a regression model with a given `l1_penalty` on TRAIN data. Specify `l1_penalty=l1_penalty` and `l2_penalty=0.` in the parameter list. When you call `linear_regression.create()` make sure you set `validation_set = None`\n",
    "    * Measure the RSS of the learned model on the VALIDATION set\n",
    "\n",
    "Find the model that the lowest RSS on the VALIDATION set and has sparsity *equal* to `max_nonzero`."
   ]
  },
  {
   "cell_type": "code",
   "execution_count": 66,
   "metadata": {
    "collapsed": false
   },
   "outputs": [
    {
     "name": "stdout",
     "output_type": "stream",
     "text": [
      "RSS for l1_penalty 7847599703.514623 is 1230794720455639.750000 and the sparsity is  1\n",
      "+------------------+-------+---------------+--------+\n",
      "|       name       | index |     value     | stderr |\n",
      "+------------------+-------+---------------+--------+\n",
      "|   (intercept)    |  None | 507987.962744 |  None  |\n",
      "|     bedrooms     |  None |      0.0      |  None  |\n",
      "| bedrooms_square  |  None |      0.0      |  None  |\n",
      "|    bathrooms     |  None |      0.0      |  None  |\n",
      "|   sqft_living    |  None |      0.0      |  None  |\n",
      "| sqft_living_sqrt |  None |      0.0      |  None  |\n",
      "|     sqft_lot     |  None |      0.0      |  None  |\n",
      "|  sqft_lot_sqrt   |  None |      0.0      |  None  |\n",
      "|      floors      |  None |      0.0      |  None  |\n",
      "|  floors_square   |  None |      0.0      |  None  |\n",
      "+------------------+-------+---------------+--------+\n",
      "[18 rows x 4 columns]\n",
      "Note: Only the head of the SFrame is printed.\n",
      "You can use print_rows(num_rows=m, num_columns=n) to print more rows and columns.\n",
      "RSS for l1_penalty 7445458340.598668 is 1234945276324210.000000 and the sparsity is  1\n",
      "+------------------+-------+---------------+--------+\n",
      "|       name       | index |     value     | stderr |\n",
      "+------------------+-------+---------------+--------+\n",
      "|   (intercept)    |  None | 501463.668177 |  None  |\n",
      "|     bedrooms     |  None |      0.0      |  None  |\n",
      "| bedrooms_square  |  None |      0.0      |  None  |\n",
      "|    bathrooms     |  None |      0.0      |  None  |\n",
      "|   sqft_living    |  None |      0.0      |  None  |\n",
      "| sqft_living_sqrt |  None |      0.0      |  None  |\n",
      "|     sqft_lot     |  None |      0.0      |  None  |\n",
      "|  sqft_lot_sqrt   |  None |      0.0      |  None  |\n",
      "|      floors      |  None |      0.0      |  None  |\n",
      "|  floors_square   |  None |      0.0      |  None  |\n",
      "+------------------+-------+---------------+--------+\n",
      "[18 rows x 4 columns]\n",
      "Note: Only the head of the SFrame is printed.\n",
      "You can use print_rows(num_rows=m, num_columns=n) to print more rows and columns.\n",
      "RSS for l1_penalty 7043316977.682713 is 1241290765528483.000000 and the sparsity is  1\n",
      "+------------------+-------+---------------+--------+\n",
      "|       name       | index |     value     | stderr |\n",
      "+------------------+-------+---------------+--------+\n",
      "|   (intercept)    |  None | 493303.849158 |  None  |\n",
      "|     bedrooms     |  None |      0.0      |  None  |\n",
      "| bedrooms_square  |  None |      0.0      |  None  |\n",
      "|    bathrooms     |  None |      0.0      |  None  |\n",
      "|   sqft_living    |  None |      0.0      |  None  |\n",
      "| sqft_living_sqrt |  None |      0.0      |  None  |\n",
      "|     sqft_lot     |  None |      0.0      |  None  |\n",
      "|  sqft_lot_sqrt   |  None |      0.0      |  None  |\n",
      "|      floors      |  None |      0.0      |  None  |\n",
      "|  floors_square   |  None |      0.0      |  None  |\n",
      "+------------------+-------+---------------+--------+\n",
      "[18 rows x 4 columns]\n",
      "Note: Only the head of the SFrame is printed.\n",
      "You can use print_rows(num_rows=m, num_columns=n) to print more rows and columns.\n",
      "RSS for l1_penalty 6641175614.766758 is 1425254664089937.750000 and the sparsity is  2\n",
      "+------------------+-------+---------------+--------+\n",
      "|       name       | index |     value     | stderr |\n",
      "+------------------+-------+---------------+--------+\n",
      "|   (intercept)    |  None | 371339.820246 |  None  |\n",
      "|     bedrooms     |  None |      0.0      |  None  |\n",
      "| bedrooms_square  |  None |      0.0      |  None  |\n",
      "|    bathrooms     |  None |      0.0      |  None  |\n",
      "|   sqft_living    |  None |  5.9409169889 |  None  |\n",
      "| sqft_living_sqrt |  None |      0.0      |  None  |\n",
      "|     sqft_lot     |  None |      0.0      |  None  |\n",
      "|  sqft_lot_sqrt   |  None |      0.0      |  None  |\n",
      "|      floors      |  None |      0.0      |  None  |\n",
      "|  floors_square   |  None |      0.0      |  None  |\n",
      "+------------------+-------+---------------+--------+\n",
      "[18 rows x 4 columns]\n",
      "Note: Only the head of the SFrame is printed.\n",
      "You can use print_rows(num_rows=m, num_columns=n) to print more rows and columns.\n",
      "RSS for l1_penalty 6239034251.850803 is 1393461129647986.750000 and the sparsity is  3\n",
      "+------------------+-------+---------------+--------+\n",
      "|       name       | index |     value     | stderr |\n",
      "+------------------+-------+---------------+--------+\n",
      "|   (intercept)    |  None | 355550.826984 |  None  |\n",
      "|     bedrooms     |  None |      0.0      |  None  |\n",
      "| bedrooms_square  |  None |      0.0      |  None  |\n",
      "|    bathrooms     |  None |      0.0      |  None  |\n",
      "|   sqft_living    |  None |  10.579676369 |  None  |\n",
      "| sqft_living_sqrt |  None |      0.0      |  None  |\n",
      "|     sqft_lot     |  None |      0.0      |  None  |\n",
      "|  sqft_lot_sqrt   |  None |      0.0      |  None  |\n",
      "|      floors      |  None |      0.0      |  None  |\n",
      "|  floors_square   |  None |      0.0      |  None  |\n",
      "+------------------+-------+---------------+--------+\n",
      "[18 rows x 4 columns]\n",
      "Note: Only the head of the SFrame is printed.\n",
      "You can use print_rows(num_rows=m, num_columns=n) to print more rows and columns.\n",
      "RSS for l1_penalty 5836892888.934848 is 1362827217871111.750000 and the sparsity is  3\n",
      "+------------------+-------+---------------+--------+\n",
      "|       name       | index |     value     | stderr |\n",
      "+------------------+-------+---------------+--------+\n",
      "|   (intercept)    |  None | 338411.422334 |  None  |\n",
      "|     bedrooms     |  None |      0.0      |  None  |\n",
      "| bedrooms_square  |  None |      0.0      |  None  |\n",
      "|    bathrooms     |  None |      0.0      |  None  |\n",
      "|   sqft_living    |  None | 14.6419590082 |  None  |\n",
      "| sqft_living_sqrt |  None |      0.0      |  None  |\n",
      "|     sqft_lot     |  None |      0.0      |  None  |\n",
      "|  sqft_lot_sqrt   |  None |      0.0      |  None  |\n",
      "|      floors      |  None |      0.0      |  None  |\n",
      "|  floors_square   |  None |      0.0      |  None  |\n",
      "+------------------+-------+---------------+--------+\n",
      "[18 rows x 4 columns]\n",
      "Note: Only the head of the SFrame is printed.\n",
      "You can use print_rows(num_rows=m, num_columns=n) to print more rows and columns.\n",
      "RSS for l1_penalty 5434751526.018893 is 1334883722509689.500000 and the sparsity is  4\n",
      "+------------------+-------+---------------+--------+\n",
      "|       name       | index |     value     | stderr |\n",
      "+------------------+-------+---------------+--------+\n",
      "|   (intercept)    |  None | 320295.620628 |  None  |\n",
      "|     bedrooms     |  None |      0.0      |  None  |\n",
      "| bedrooms_square  |  None |      0.0      |  None  |\n",
      "|    bathrooms     |  None | 1044.52272369 |  None  |\n",
      "|   sqft_living    |  None | 18.2872711796 |  None  |\n",
      "| sqft_living_sqrt |  None |      0.0      |  None  |\n",
      "|     sqft_lot     |  None |      0.0      |  None  |\n",
      "|  sqft_lot_sqrt   |  None |      0.0      |  None  |\n",
      "|      floors      |  None |      0.0      |  None  |\n",
      "|  floors_square   |  None |      0.0      |  None  |\n",
      "+------------------+-------+---------------+--------+\n",
      "[18 rows x 4 columns]\n",
      "Note: Only the head of the SFrame is printed.\n",
      "You can use print_rows(num_rows=m, num_columns=n) to print more rows and columns.\n",
      "RSS for l1_penalty 5032610163.102938 is 1274425792050294.250000 and the sparsity is  5\n",
      "+------------------+-------+---------------+--------+\n",
      "|       name       | index |     value     | stderr |\n",
      "+------------------+-------+---------------+--------+\n",
      "|   (intercept)    |  None | 301315.389701 |  None  |\n",
      "|     bedrooms     |  None |      0.0      |  None  |\n",
      "| bedrooms_square  |  None |      0.0      |  None  |\n",
      "|    bathrooms     |  None | 4459.44359174 |  None  |\n",
      "|   sqft_living    |  None | 21.5886079008 |  None  |\n",
      "| sqft_living_sqrt |  None | 134.547810527 |  None  |\n",
      "|     sqft_lot     |  None |      0.0      |  None  |\n",
      "|  sqft_lot_sqrt   |  None |      0.0      |  None  |\n",
      "|      floors      |  None |      0.0      |  None  |\n",
      "|  floors_square   |  None |      0.0      |  None  |\n",
      "+------------------+-------+---------------+--------+\n",
      "[18 rows x 4 columns]\n",
      "Note: Only the head of the SFrame is printed.\n",
      "You can use print_rows(num_rows=m, num_columns=n) to print more rows and columns.\n",
      "RSS for l1_penalty 4630468800.186983 is 1206918203420759.750000 and the sparsity is  6\n",
      "+------------------+-------+---------------+--------+\n",
      "|       name       | index |     value     | stderr |\n",
      "+------------------+-------+---------------+--------+\n",
      "|   (intercept)    |  None | 282046.694979 |  None  |\n",
      "|     bedrooms     |  None |      0.0      |  None  |\n",
      "| bedrooms_square  |  None |      0.0      |  None  |\n",
      "|    bathrooms     |  None | 7741.53642032 |  None  |\n",
      "|   sqft_living    |  None | 24.7492615047 |  None  |\n",
      "| sqft_living_sqrt |  None | 295.195855457 |  None  |\n",
      "|     sqft_lot     |  None |      0.0      |  None  |\n",
      "|  sqft_lot_sqrt   |  None |      0.0      |  None  |\n",
      "|      floors      |  None |      0.0      |  None  |\n",
      "|  floors_square   |  None |      0.0      |  None  |\n",
      "+------------------+-------+---------------+--------+\n",
      "[18 rows x 4 columns]\n",
      "Note: Only the head of the SFrame is printed.\n",
      "You can use print_rows(num_rows=m, num_columns=n) to print more rows and columns.\n",
      "RSS for l1_penalty 4228327437.271028 is 1136859387334648.250000 and the sparsity is  6\n",
      "+------------------+-------+---------------+--------+\n",
      "|       name       | index |     value     | stderr |\n",
      "+------------------+-------+---------------+--------+\n",
      "|   (intercept)    |  None |  262398.14936 |  None  |\n",
      "|     bedrooms     |  None |      0.0      |  None  |\n",
      "| bedrooms_square  |  None |      0.0      |  None  |\n",
      "|    bathrooms     |  None |  10862.737159 |  None  |\n",
      "|   sqft_living    |  None |  27.746961455 |  None  |\n",
      "| sqft_living_sqrt |  None | 447.428398818 |  None  |\n",
      "|     sqft_lot     |  None |      0.0      |  None  |\n",
      "|  sqft_lot_sqrt   |  None |      0.0      |  None  |\n",
      "|      floors      |  None |      0.0      |  None  |\n",
      "|  floors_square   |  None |      0.0      |  None  |\n",
      "+------------------+-------+---------------+--------+\n",
      "[18 rows x 4 columns]\n",
      "Note: Only the head of the SFrame is printed.\n",
      "You can use print_rows(num_rows=m, num_columns=n) to print more rows and columns.\n",
      "RSS for l1_penalty 3826186074.355073 is 1085334503093305.000000 and the sparsity is  6\n",
      "+------------------+-------+---------------+--------+\n",
      "|       name       | index |     value     | stderr |\n",
      "+------------------+-------+---------------+--------+\n",
      "|   (intercept)    |  None | 242042.276437 |  None  |\n",
      "|     bedrooms     |  None |      0.0      |  None  |\n",
      "| bedrooms_square  |  None |      0.0      |  None  |\n",
      "|    bathrooms     |  None | 13628.2648277 |  None  |\n",
      "|   sqft_living    |  None | 30.3612615954 |  None  |\n",
      "| sqft_living_sqrt |  None | 581.933357601 |  None  |\n",
      "|     sqft_lot     |  None |      0.0      |  None  |\n",
      "|  sqft_lot_sqrt   |  None |      0.0      |  None  |\n",
      "|      floors      |  None |      0.0      |  None  |\n",
      "|  floors_square   |  None |      0.0      |  None  |\n",
      "+------------------+-------+---------------+--------+\n",
      "[18 rows x 4 columns]\n",
      "Note: Only the head of the SFrame is printed.\n",
      "You can use print_rows(num_rows=m, num_columns=n) to print more rows and columns.\n",
      "RSS for l1_penalty 3424044711.439118 is 1044917964832727.125000 and the sparsity is  7\n",
      "+------------------+-------+---------------+--------+\n",
      "|       name       | index |     value     | stderr |\n",
      "+------------------+-------+---------------+--------+\n",
      "|   (intercept)    |  None | 220905.678163 |  None  |\n",
      "|     bedrooms     |  None |  750.87574334 |  None  |\n",
      "| bedrooms_square  |  None |      0.0      |  None  |\n",
      "|    bathrooms     |  None | 15999.1708621 |  None  |\n",
      "|   sqft_living    |  None | 32.5179051834 |  None  |\n",
      "| sqft_living_sqrt |  None | 696.113506892 |  None  |\n",
      "|     sqft_lot     |  None |      0.0      |  None  |\n",
      "|  sqft_lot_sqrt   |  None |      0.0      |  None  |\n",
      "|      floors      |  None |      0.0      |  None  |\n",
      "|  floors_square   |  None |      0.0      |  None  |\n",
      "+------------------+-------+---------------+--------+\n",
      "[18 rows x 4 columns]\n",
      "Note: Only the head of the SFrame is printed.\n",
      "You can use print_rows(num_rows=m, num_columns=n) to print more rows and columns.\n",
      "RSS for l1_penalty 3021903348.523164 is 974448934124819.375000 and the sparsity is 10\n",
      "+------------------+-------+---------------+--------+\n",
      "|       name       | index |     value     | stderr |\n",
      "+------------------+-------+---------------+--------+\n",
      "|   (intercept)    |  None | 198711.485067 |  None  |\n",
      "|     bedrooms     |  None | 2060.11957736 |  None  |\n",
      "| bedrooms_square  |  None |      0.0      |  None  |\n",
      "|    bathrooms     |  None |  17801.218786 |  None  |\n",
      "|   sqft_living    |  None | 34.0142290495 |  None  |\n",
      "| sqft_living_sqrt |  None | 781.752655128 |  None  |\n",
      "|     sqft_lot     |  None |      0.0      |  None  |\n",
      "|  sqft_lot_sqrt   |  None |      0.0      |  None  |\n",
      "|      floors      |  None | 3339.67695061 |  None  |\n",
      "|  floors_square   |  None |      0.0      |  None  |\n",
      "+------------------+-------+---------------+--------+\n",
      "[18 rows x 4 columns]\n",
      "Note: Only the head of the SFrame is printed.\n",
      "You can use print_rows(num_rows=m, num_columns=n) to print more rows and columns.\n",
      "RSS for l1_penalty 2619761985.607208 is 913641680992877.250000 and the sparsity is 11\n",
      "+------------------+-------+---------------+--------+\n",
      "|       name       | index |     value     | stderr |\n",
      "+------------------+-------+---------------+--------+\n",
      "|   (intercept)    |  None | 175369.475348 |  None  |\n",
      "|     bedrooms     |  None | 3045.39167447 |  None  |\n",
      "| bedrooms_square  |  None |      0.0      |  None  |\n",
      "|    bathrooms     |  None | 19102.0334783 |  None  |\n",
      "|   sqft_living    |  None | 35.0235611054 |  None  |\n",
      "| sqft_living_sqrt |  None | 842.116577836 |  None  |\n",
      "|     sqft_lot     |  None |      0.0      |  None  |\n",
      "|  sqft_lot_sqrt   |  None |      0.0      |  None  |\n",
      "|      floors      |  None | 6046.80561904 |  None  |\n",
      "|  floors_square   |  None | 479.574812005 |  None  |\n",
      "+------------------+-------+---------------+--------+\n",
      "[18 rows x 4 columns]\n",
      "Note: Only the head of the SFrame is printed.\n",
      "You can use print_rows(num_rows=m, num_columns=n) to print more rows and columns.\n",
      "RSS for l1_penalty 2217620622.691254 is 849982040203361.500000 and the sparsity is 12\n",
      "+------------------+-------+---------------+--------+\n",
      "|       name       | index |     value     | stderr |\n",
      "+------------------+-------+---------------+--------+\n",
      "|   (intercept)    |  None | 151905.913397 |  None  |\n",
      "|     bedrooms     |  None | 3982.77934641 |  None  |\n",
      "| bedrooms_square  |  None |      0.0      |  None  |\n",
      "|    bathrooms     |  None | 20353.7507307 |  None  |\n",
      "|   sqft_living    |  None |  35.977690123 |  None  |\n",
      "| sqft_living_sqrt |  None | 899.712415839 |  None  |\n",
      "|     sqft_lot     |  None |      0.0      |  None  |\n",
      "|  sqft_lot_sqrt   |  None |      0.0      |  None  |\n",
      "|      floors      |  None |  8699.0803851 |  None  |\n",
      "|  floors_square   |  None | 2528.61570037 |  None  |\n",
      "+------------------+-------+---------------+--------+\n",
      "[18 rows x 4 columns]\n",
      "Note: Only the head of the SFrame is printed.\n",
      "You can use print_rows(num_rows=m, num_columns=n) to print more rows and columns.\n",
      "RSS for l1_penalty 1815479259.775298 is 793956426237547.125000 and the sparsity is 13\n",
      "+------------------+-------+---------------+--------+\n",
      "|       name       | index |     value     | stderr |\n",
      "+------------------+-------+---------------+--------+\n",
      "|   (intercept)    |  None | 128147.700857 |  None  |\n",
      "|     bedrooms     |  None | 4822.05224115 |  None  |\n",
      "| bedrooms_square  |  None |      0.0      |  None  |\n",
      "|    bathrooms     |  None |  21466.503334 |  None  |\n",
      "|   sqft_living    |  None | 36.7800308954 |  None  |\n",
      "| sqft_living_sqrt |  None | 950.174053783 |  None  |\n",
      "|     sqft_lot     |  None |      0.0      |  None  |\n",
      "|  sqft_lot_sqrt   |  None |      0.0      |  None  |\n",
      "|      floors      |  None |  11176.302853 |  None  |\n",
      "|  floors_square   |  None | 4501.82699737 |  None  |\n",
      "+------------------+-------+---------------+--------+\n",
      "[18 rows x 4 columns]\n",
      "Note: Only the head of the SFrame is printed.\n",
      "You can use print_rows(num_rows=m, num_columns=n) to print more rows and columns.\n",
      "RSS for l1_penalty 1413337896.859344 is 734291272144301.000000 and the sparsity is 15\n",
      "+------------------+-------+---------------+--------+\n",
      "|       name       | index |     value     | stderr |\n",
      "+------------------+-------+---------------+--------+\n",
      "|   (intercept)    |  None | 104358.311395 |  None  |\n",
      "|     bedrooms     |  None | 5640.46221025 |  None  |\n",
      "| bedrooms_square  |  None |      0.0      |  None  |\n",
      "|    bathrooms     |  None | 22526.6973744 |  None  |\n",
      "|   sqft_living    |  None | 37.4927280592 |  None  |\n",
      "| sqft_living_sqrt |  None | 998.128775815 |  None  |\n",
      "|     sqft_lot     |  None |      0.0      |  None  |\n",
      "|  sqft_lot_sqrt   |  None | 31.7594191152 |  None  |\n",
      "|      floors      |  None | 13622.0706074 |  None  |\n",
      "|  floors_square   |  None | 6457.23463763 |  None  |\n",
      "+------------------+-------+---------------+--------+\n",
      "[18 rows x 4 columns]\n",
      "Note: Only the head of the SFrame is printed.\n",
      "You can use print_rows(num_rows=m, num_columns=n) to print more rows and columns.\n",
      "RSS for l1_penalty 1011196533.943389 is 689408481347853.500000 and the sparsity is 16\n",
      "+------------------+-------+---------------+--------+\n",
      "|       name       | index |     value     | stderr |\n",
      "+------------------+-------+---------------+--------+\n",
      "|   (intercept)    |  None | 80204.9016167 |  None  |\n",
      "|     bedrooms     |  None | 6329.93536351 |  None  |\n",
      "| bedrooms_square  |  None | 20.8317737332 |  None  |\n",
      "|    bathrooms     |  None | 23415.5324831 |  None  |\n",
      "|   sqft_living    |  None | 38.0336749157 |  None  |\n",
      "| sqft_living_sqrt |  None | 1037.61148164 |  None  |\n",
      "|     sqft_lot     |  None |      0.0      |  None  |\n",
      "|  sqft_lot_sqrt   |  None | 71.2411277689 |  None  |\n",
      "|      floors      |  None | 15847.1406001 |  None  |\n",
      "|  floors_square   |  None |  8315.142228  |  None  |\n",
      "+------------------+-------+---------------+--------+\n",
      "[18 rows x 4 columns]\n",
      "Note: Only the head of the SFrame is printed.\n",
      "You can use print_rows(num_rows=m, num_columns=n) to print more rows and columns.\n",
      "RSS for l1_penalty 609055171.027433 is 653769798188250.875000 and the sparsity is 17\n",
      "+------------------+-------+---------------+--------+\n",
      "|       name       | index |     value     | stderr |\n",
      "+------------------+-------+---------------+--------+\n",
      "|   (intercept)    |  None | 55887.8297908 |  None  |\n",
      "|     bedrooms     |  None | 6973.52771051 |  None  |\n",
      "| bedrooms_square  |  None | 384.967821062 |  None  |\n",
      "|    bathrooms     |  None | 24225.5263436 |  None  |\n",
      "|   sqft_living    |  None | 38.4970654599 |  None  |\n",
      "| sqft_living_sqrt |  None | 1073.32273863 |  None  |\n",
      "|     sqft_lot     |  None |      0.0      |  None  |\n",
      "|  sqft_lot_sqrt   |  None |  107.54262074 |  None  |\n",
      "|      floors      |  None | 17982.3673037 |  None  |\n",
      "|  floors_square   |  None | 10140.3598997 |  None  |\n",
      "+------------------+-------+---------------+--------+\n",
      "[18 rows x 4 columns]\n",
      "Note: Only the head of the SFrame is printed.\n",
      "You can use print_rows(num_rows=m, num_columns=n) to print more rows and columns.\n",
      "RSS for l1_penalty 206913808.111479 is 630650082718672.500000 and the sparsity is 18\n",
      "+------------------+-------+------------------+--------+\n",
      "|       name       | index |      value       | stderr |\n",
      "+------------------+-------+------------------+--------+\n",
      "|   (intercept)    |  None |  31564.6064733   |  None  |\n",
      "|     bedrooms     |  None |  7618.56776464   |  None  |\n",
      "| bedrooms_square  |  None |  750.170954883   |  None  |\n",
      "|    bathrooms     |  None |  25026.1774076   |  None  |\n",
      "|   sqft_living    |  None |  38.9359152531   |  None  |\n",
      "| sqft_living_sqrt |  None |  1108.38631937   |  None  |\n",
      "|     sqft_lot     |  None | -0.0177447627514 |  None  |\n",
      "|  sqft_lot_sqrt   |  None |  138.385325946   |  None  |\n",
      "|      floors      |  None |   20124.74672    |  None  |\n",
      "|  floors_square   |  None |  11975.4977617   |  None  |\n",
      "+------------------+-------+------------------+--------+\n",
      "[18 rows x 4 columns]\n",
      "Note: Only the head of the SFrame is printed.\n",
      "You can use print_rows(num_rows=m, num_columns=n) to print more rows and columns.\n"
     ]
    }
   ],
   "source": [
    "for l1_penalty in l1_penalty_values:\n",
    "    model=graphlab.linear_regression.create(training, target = 'price', \n",
    "                                                features = all_features,l1_penalty=l1_penalty, l2_penalty=0, \n",
    "                                                validation_set = None , verbose = False)\n",
    "    nonzeros=model['coefficients']['value'].nnz()\n",
    "    \n",
    "    pred=model.predict(validation)\n",
    "    resid=pred-validation['price']\n",
    "    squared_resid=resid * resid\n",
    "    RSS=sum(squared_resid)\n",
    "    \n",
    "    print \"RSS for l1_penalty %2f is %2f and the sparsity is %2d\" % ( l1_penalty,RSS,nonzeros)\n",
    "    print model['coefficients']"
   ]
  },
  {
   "cell_type": "markdown",
   "metadata": {},
   "source": [
    "***QUIZ QUESTIONS***\n",
    "1. What value of `l1_penalty` in our narrow range has the lowest RSS on the VALIDATION set and has sparsity *equal* to `max_nonzeros`?\n",
    "2. What features in this model have non-zero coefficients?"
   ]
  },
  {
   "cell_type": "code",
   "execution_count": null,
   "metadata": {
    "collapsed": false
   },
   "outputs": [],
   "source": []
  }
 ],
 "metadata": {
  "kernelspec": {
   "display_name": "Python 2",
   "language": "python",
   "name": "python2"
  },
  "language_info": {
   "codemirror_mode": {
    "name": "ipython",
    "version": 2
   },
   "file_extension": ".py",
   "mimetype": "text/x-python",
   "name": "python",
   "nbconvert_exporter": "python",
   "pygments_lexer": "ipython2",
   "version": "2.7.12"
  }
 },
 "nbformat": 4,
 "nbformat_minor": 0
}
