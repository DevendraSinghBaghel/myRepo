{
 "cells": [
  {
   "cell_type": "markdown",
   "metadata": {},
   "source": [
    "# Geocoder Application\n",
    "\n"
   ]
  },
  {
   "cell_type": "markdown",
   "metadata": {},
   "source": [
    "The application is mainly serviced by a class which taken in the following parameters:\n",
    "1. An address in the following format:\n",
    "       Resident Name,\n",
    "       Road or Local Area Name,\n",
    "       Townland,   \n",
    "       County\n",
    " \n",
    "2. The second parameter mention the type of lookup that is sought after\n",
    "       'T' - do a townsend lookup aginst the townsend data\n",
    "       'C' - do a county lookup against the county data\n",
    "       default value for this parameter is 'C'\n",
    "       \n",
    "Data Structures\n",
    "\n",
    "1. A dictionary into which the comma seprated list is split and stored\n",
    "2. The lookup data which is 2 csv files are stored in 2 pandas dataframe"
   ]
  },
  {
   "cell_type": "code",
   "execution_count": 1,
   "metadata": {
    "collapsed": true
   },
   "outputs": [],
   "source": [
    "import pandas as pd"
   ]
  },
  {
   "cell_type": "code",
   "execution_count": 151,
   "metadata": {
    "collapsed": false
   },
   "outputs": [],
   "source": [
    "class geoCoder:\n",
    "         \n",
    "    \n",
    "    #the class constructor which intialises the instance with \n",
    "    #a commn separted address and fill the address_dict\n",
    "   \n",
    "    def __init__(self,address,lookup='C'):\n",
    "       \n",
    "        __address_dict = {} # private variable used to the split address \n",
    "        self.address = address\n",
    "        self.lookup = lookup\n",
    "        self.__setAdressDict()\n",
    "    \n",
    "    #This private method will build the adress dictionary from the comma separted address\n",
    "    def __setAdressDict(self):\n",
    "        \n",
    "        my_address_params =['resident_name','local_area_name','townland','county'] \n",
    "        my_addr = self.address.split(',')\n",
    "        self.__address_dict =  {k:v for (k,v) in zip(my_address_params,my_addr)}\n",
    "\n",
    "    #This method will provide the adress dictionary to the caller     \n",
    "    def getAddressDict(self):\n",
    "        \n",
    "        return self.__address_dict\n",
    "    \n",
    "    #This function do a the gocode lookup in the appropriate dataset\n",
    "    def getGeoCode(self):\n",
    "        \n",
    "        geoCode_df=''\n",
    "        #first determine the dataset on which lookup is performed \n",
    "        #and then do the geocode lookup\n",
    "        if ( self.lookup == 'T'):\n",
    "            lookup_data = pd.read_csv('Townlands__OSi_National_Placenames_Gazetteer.csv',index_col=False)\n",
    "            geoCode_df= lookup_data[(lookup_data.English_Name == self.__address_dict['townland'].upper() )  & \n",
    "                                 (lookup_data.Local_Government_Area == self.__address_dict['county'].upper() ) ]\n",
    "             \n",
    "        else:\n",
    "            lookup_data = pd.read_csv('Counties__OSi_National_Placenames_Gazetteer.csv',index_col=False)\n",
    "            geoCode_df= lookup_data[(lookup_data.English_Name == self.__address_dict['county'].upper() ) ]\n",
    "        \n",
    "        if(geoCode_df.shape[0] > 0 ):\n",
    "            return ( geoCode_df.iloc[0]['X'], geoCode_df.iloc[0]['Y'] )\n",
    "        else:\n",
    "            return 'No GeoCode for this Address'\n",
    "        \n",
    "        \n",
    "        \n",
    "         \n",
    "        \n",
    "         \n",
    "        \n",
    "    "
   ]
  },
  {
   "cell_type": "code",
   "execution_count": 152,
   "metadata": {
    "collapsed": false
   },
   "outputs": [],
   "source": [
    "geo_coder_county_lookup = geoCoder('Bijith,Pembroke,passage west,waterford')"
   ]
  },
  {
   "cell_type": "code",
   "execution_count": 153,
   "metadata": {
    "collapsed": false
   },
   "outputs": [
    {
     "data": {
      "text/plain": [
       "(-7.7171343431488824, 52.196446803830156)"
      ]
     },
     "execution_count": 153,
     "metadata": {},
     "output_type": "execute_result"
    }
   ],
   "source": [
    "geo_coder_county_lookup.getGeoCode()"
   ]
  },
  {
   "cell_type": "code",
   "execution_count": 154,
   "metadata": {
    "collapsed": false
   },
   "outputs": [],
   "source": [
    "geo_coder_townland_lookup = geoCoder('Bijith,Pembroke,passage west,waterford','T')"
   ]
  },
  {
   "cell_type": "code",
   "execution_count": 155,
   "metadata": {
    "collapsed": false
   },
   "outputs": [
    {
     "name": "stderr",
     "output_type": "stream",
     "text": [
      "C:\\Anaconda2\\envs\\py35\\lib\\site-packages\\IPython\\core\\interactiveshell.py:2815: DtypeWarning: Columns (24) have mixed types. Specify dtype option on import or set low_memory=False.\n",
      "  if self.run_code(code, result):\n"
     ]
    },
    {
     "data": {
      "text/plain": [
       "(-6.9737169615217498, 52.239353265139741)"
      ]
     },
     "execution_count": 155,
     "metadata": {},
     "output_type": "execute_result"
    }
   ],
   "source": [
    "geo_coder_townland_lookup.getGeoCode() "
   ]
  },
  {
   "cell_type": "code",
   "execution_count": null,
   "metadata": {
    "collapsed": true
   },
   "outputs": [],
   "source": []
  }
 ],
 "metadata": {
  "kernelspec": {
   "display_name": "Python 3",
   "language": "python",
   "name": "python3"
  },
  "language_info": {
   "codemirror_mode": {
    "name": "ipython",
    "version": 3
   },
   "file_extension": ".py",
   "mimetype": "text/x-python",
   "name": "python",
   "nbconvert_exporter": "python",
   "pygments_lexer": "ipython3",
   "version": "3.5.2"
  }
 },
 "nbformat": 4,
 "nbformat_minor": 0
}
