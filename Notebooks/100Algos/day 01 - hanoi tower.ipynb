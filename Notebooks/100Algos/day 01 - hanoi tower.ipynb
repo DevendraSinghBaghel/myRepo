{
 "cells": [
  {
   "cell_type": "markdown",
   "metadata": {},
   "source": [
    "## algorithm"
   ]
  },
  {
   "cell_type": "code",
   "execution_count": 4,
   "metadata": {},
   "outputs": [],
   "source": [
    "def hanoi(height, left='left', right='right', middle='middle'):\n",
    "    if height:\n",
    "        print(\"entering\")\n",
    "        print (height)\n",
    "        hanoi(height - 1, left, middle, right)\n",
    "        print(left, '=>', right)\n",
    "        hanoi(height - 1, middle, right, left)"
   ]
  },
  {
   "cell_type": "markdown",
   "metadata": {},
   "source": [
    "## run"
   ]
  },
  {
   "cell_type": "code",
   "execution_count": 5,
   "metadata": {},
   "outputs": [
    {
     "name": "stdout",
     "output_type": "stream",
     "text": [
      "entering\n",
      "1\n",
      "left => right\n"
     ]
    }
   ],
   "source": [
    "hanoi(1)"
   ]
  },
  {
   "cell_type": "code",
   "execution_count": 6,
   "metadata": {},
   "outputs": [
    {
     "name": "stdout",
     "output_type": "stream",
     "text": [
      "entering\n",
      "2\n",
      "entering\n",
      "1\n",
      "left => middle\n",
      "left => right\n",
      "entering\n",
      "1\n",
      "middle => right\n"
     ]
    }
   ],
   "source": [
    "hanoi(2)"
   ]
  },
  {
   "cell_type": "code",
   "execution_count": 7,
   "metadata": {},
   "outputs": [
    {
     "name": "stdout",
     "output_type": "stream",
     "text": [
      "entering\n",
      "3\n",
      "entering\n",
      "2\n",
      "entering\n",
      "1\n",
      "left => right\n",
      "left => middle\n",
      "entering\n",
      "1\n",
      "right => middle\n",
      "left => right\n",
      "entering\n",
      "2\n",
      "entering\n",
      "1\n",
      "middle => left\n",
      "middle => right\n",
      "entering\n",
      "1\n",
      "left => right\n"
     ]
    }
   ],
   "source": [
    "hanoi(3)"
   ]
  },
  {
   "cell_type": "code",
   "execution_count": null,
   "metadata": {
    "collapsed": true
   },
   "outputs": [],
   "source": []
  }
 ],
 "metadata": {
  "kernelspec": {
   "display_name": "Python 3",
   "language": "python",
   "name": "python3"
  },
  "language_info": {
   "codemirror_mode": {
    "name": "ipython",
    "version": 3
   },
   "file_extension": ".py",
   "mimetype": "text/x-python",
   "name": "python",
   "nbconvert_exporter": "python",
   "pygments_lexer": "ipython3",
   "version": "3.6.0"
  }
 },
 "nbformat": 4,
 "nbformat_minor": 2
}
