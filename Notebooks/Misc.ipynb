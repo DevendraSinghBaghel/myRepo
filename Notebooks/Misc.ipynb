{
 "cells": [
  {
   "cell_type": "code",
   "execution_count": 1,
   "metadata": {
    "collapsed": true
   },
   "outputs": [],
   "source": [
    "file_handle = open(\"Sqlite3_cmds.txt\",\"r\")"
   ]
  },
  {
   "cell_type": "code",
   "execution_count": 2,
   "metadata": {
    "collapsed": false
   },
   "outputs": [
    {
     "name": "stdout",
     "output_type": "stream",
     "text": [
      "sqlite3 test.db < insert_default_data.en.sql\n",
      "\n",
      "-run the sql cmds in the file *.sql into test.db\n",
      "\n",
      "\n",
      "\n",
      "sqlite3 test.db\n",
      "\n",
      "-give sqlite3 prompt for DB test.db\n",
      "\n",
      "\n",
      "\n",
      ".tables\n",
      "\n",
      "-List of tables in a DB\n",
      "\n",
      "\n",
      "\n",
      ".schema <tablename>\n",
      "\n",
      "-to get the schema of a table\n",
      "\n",
      "\n",
      "\n"
     ]
    }
   ],
   "source": [
    "for line in file_handle:\n",
    "    print line"
   ]
  },
  {
   "cell_type": "code",
   "execution_count": null,
   "metadata": {
    "collapsed": true
   },
   "outputs": [],
   "source": []
  }
 ],
 "metadata": {
  "kernelspec": {
   "display_name": "Python 2",
   "language": "python",
   "name": "python2"
  },
  "language_info": {
   "codemirror_mode": {
    "name": "ipython",
    "version": 2
   },
   "file_extension": ".py",
   "mimetype": "text/x-python",
   "name": "python",
   "nbconvert_exporter": "python",
   "pygments_lexer": "ipython2",
   "version": "2.7.10"
  }
 },
 "nbformat": 4,
 "nbformat_minor": 0
}
