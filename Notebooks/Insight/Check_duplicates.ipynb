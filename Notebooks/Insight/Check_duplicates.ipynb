{
 "cells": [
  {
   "cell_type": "code",
   "execution_count": 1,
   "metadata": {
    "collapsed": true
   },
   "outputs": [],
   "source": [
    "import pandas as pd"
   ]
  },
  {
   "cell_type": "code",
   "execution_count": 13,
   "metadata": {},
   "outputs": [],
   "source": [
    "df=pd.read_csv('C:\\\\vm\\\\host\\\\temp\\\\GPS\\\\gps.csv',header=0)"
   ]
  },
  {
   "cell_type": "code",
   "execution_count": 14,
   "metadata": {},
   "outputs": [
    {
     "data": {
      "text/plain": [
       "(6686594, 5)"
      ]
     },
     "execution_count": 14,
     "metadata": {},
     "output_type": "execute_result"
    }
   ],
   "source": [
    "df.shape"
   ]
  },
  {
   "cell_type": "code",
   "execution_count": 4,
   "metadata": {
    "collapsed": true
   },
   "outputs": [],
   "source": [
    "df_nodup = df.drop_duplicates()"
   ]
  },
  {
   "cell_type": "code",
   "execution_count": 5,
   "metadata": {},
   "outputs": [
    {
     "data": {
      "text/plain": [
       "(6686594, 5)"
      ]
     },
     "execution_count": 5,
     "metadata": {},
     "output_type": "execute_result"
    }
   ],
   "source": [
    "df_nodup.shape"
   ]
  },
  {
   "cell_type": "code",
   "execution_count": 6,
   "metadata": {},
   "outputs": [
    {
     "data": {
      "text/html": [
       "<div>\n",
       "<table border=\"1\" class=\"dataframe\">\n",
       "  <thead>\n",
       "    <tr style=\"text-align: right;\">\n",
       "      <th></th>\n",
       "      <th>Substarte</th>\n",
       "      <th>Site</th>\n",
       "      <th>Kinase</th>\n",
       "      <th>Score</th>\n",
       "      <th>CuttOff</th>\n",
       "    </tr>\n",
       "  </thead>\n",
       "  <tbody>\n",
       "    <tr>\n",
       "      <th>0</th>\n",
       "      <td>O43312</td>\n",
       "      <td>S97</td>\n",
       "      <td>Q15746</td>\n",
       "      <td>1.250</td>\n",
       "      <td>0.718</td>\n",
       "    </tr>\n",
       "    <tr>\n",
       "      <th>1</th>\n",
       "      <td>O43312</td>\n",
       "      <td>S272</td>\n",
       "      <td>Q15746</td>\n",
       "      <td>5.000</td>\n",
       "      <td>0.718</td>\n",
       "    </tr>\n",
       "    <tr>\n",
       "      <th>2</th>\n",
       "      <td>O43312</td>\n",
       "      <td>S275</td>\n",
       "      <td>Q15746</td>\n",
       "      <td>0.750</td>\n",
       "      <td>0.718</td>\n",
       "    </tr>\n",
       "    <tr>\n",
       "      <th>3</th>\n",
       "      <td>O43312</td>\n",
       "      <td>S279</td>\n",
       "      <td>Q15746</td>\n",
       "      <td>3.167</td>\n",
       "      <td>0.718</td>\n",
       "    </tr>\n",
       "    <tr>\n",
       "      <th>4</th>\n",
       "      <td>O43312</td>\n",
       "      <td>S290</td>\n",
       "      <td>Q15746</td>\n",
       "      <td>1.083</td>\n",
       "      <td>0.718</td>\n",
       "    </tr>\n",
       "  </tbody>\n",
       "</table>\n",
       "</div>"
      ],
      "text/plain": [
       "  Substarte  Site  Kinase  Score  CuttOff\n",
       "0    O43312   S97  Q15746  1.250    0.718\n",
       "1    O43312  S272  Q15746  5.000    0.718\n",
       "2    O43312  S275  Q15746  0.750    0.718\n",
       "3    O43312  S279  Q15746  3.167    0.718\n",
       "4    O43312  S290  Q15746  1.083    0.718"
      ]
     },
     "execution_count": 6,
     "metadata": {},
     "output_type": "execute_result"
    }
   ],
   "source": [
    "df_nodup.head()"
   ]
  },
  {
   "cell_type": "code",
   "execution_count": 8,
   "metadata": {},
   "outputs": [],
   "source": [
    "sub_df = df_nodup['Substarte']"
   ]
  },
  {
   "cell_type": "code",
   "execution_count": 9,
   "metadata": {},
   "outputs": [
    {
     "data": {
      "text/plain": [
       "0          O43312\n",
       "1          O43312\n",
       "2          O43312\n",
       "3          O43312\n",
       "4          O43312\n",
       "5          O43312\n",
       "6          O43312\n",
       "7          O43312\n",
       "8          O43312\n",
       "9          O43312\n",
       "10         O43312\n",
       "11         O43312\n",
       "12         O43312\n",
       "13         O43312\n",
       "14         O43312\n",
       "15         O43312\n",
       "16         O43312\n",
       "17         O43312\n",
       "18         O43312\n",
       "19         O43312\n",
       "20         O43312\n",
       "21         O43312\n",
       "22         O43312\n",
       "23         O43312\n",
       "24         O43312\n",
       "25         O43312\n",
       "26         O43312\n",
       "27         O43312\n",
       "28         O43312\n",
       "29         O43312\n",
       "            ...  \n",
       "6691552    P08567\n",
       "6691553    P08567\n",
       "6691554    P08567\n",
       "6691555    P08567\n",
       "6691556    P08567\n",
       "6691557    P08567\n",
       "6691558    P08567\n",
       "6691559    P08567\n",
       "6691560    P08567\n",
       "6691561    P08567\n",
       "6691562    P08567\n",
       "6691563    P08567\n",
       "6691564    P08567\n",
       "6691565    P08567\n",
       "6691566    P08567\n",
       "6691567    P08567\n",
       "6691568    P08567\n",
       "6691569    P08567\n",
       "6691570    P08567\n",
       "6691571    P08567\n",
       "6691572    P08567\n",
       "6691573    P08567\n",
       "6691574    P08567\n",
       "6691575    P08567\n",
       "6691576    P08567\n",
       "6691577    P08567\n",
       "6691578    P08567\n",
       "6691579    P08567\n",
       "6691580    P08567\n",
       "6691581    P08567\n",
       "Name: Substarte, dtype: object"
      ]
     },
     "execution_count": 9,
     "metadata": {},
     "output_type": "execute_result"
    }
   ],
   "source": [
    "sub_df"
   ]
  },
  {
   "cell_type": "code",
   "execution_count": 10,
   "metadata": {},
   "outputs": [
    {
     "data": {
      "text/plain": [
       "(2231,)"
      ]
     },
     "execution_count": 10,
     "metadata": {},
     "output_type": "execute_result"
    }
   ],
   "source": [
    "sub_df.drop_duplicates().shape"
   ]
  },
  {
   "cell_type": "code",
   "execution_count": 11,
   "metadata": {
    "collapsed": true
   },
   "outputs": [],
   "source": [
    "df_nodup.to_csv('C:\\\\vm\\\\host\\\\temp\\\\GPS\\\\gps.csv',index=0)"
   ]
  },
  {
   "cell_type": "code",
   "execution_count": null,
   "metadata": {
    "collapsed": true
   },
   "outputs": [],
   "source": []
  }
 ],
 "metadata": {
  "kernelspec": {
   "display_name": "Python 3",
   "language": "python",
   "name": "python3"
  },
  "language_info": {
   "codemirror_mode": {
    "name": "ipython",
    "version": 3
   },
   "file_extension": ".py",
   "mimetype": "text/x-python",
   "name": "python",
   "nbconvert_exporter": "python",
   "pygments_lexer": "ipython3",
   "version": "3.6.0"
  }
 },
 "nbformat": 4,
 "nbformat_minor": 2
}
