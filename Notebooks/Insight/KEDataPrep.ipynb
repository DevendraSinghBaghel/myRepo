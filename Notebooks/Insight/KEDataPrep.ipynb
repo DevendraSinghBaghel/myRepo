{
 "cells": [
  {
   "cell_type": "code",
   "execution_count": 12,
   "metadata": {
    "collapsed": true
   },
   "outputs": [],
   "source": [
    "import pandas as pd"
   ]
  },
  {
   "cell_type": "code",
   "execution_count": 13,
   "metadata": {},
   "outputs": [],
   "source": [
    "df=pd.read_csv('C:\\\\Users\\\\Bijith\\\\ownCloud\\\\tomoe-data\\\\data-wp-tomoe-kinases\\\\interim\\\\SOA_Data\\\\Kinomexplorer\\\\networkin_human_predictions.tsv', \n",
    "           sep='\\t',header=0)"
   ]
  },
  {
   "cell_type": "code",
   "execution_count": null,
   "metadata": {},
   "outputs": [],
   "source": []
  },
  {
   "cell_type": "code",
   "execution_count": 15,
   "metadata": {},
   "outputs": [
    {
     "data": {
      "text/html": [
       "<div>\n",
       "<table border=\"1\" class=\"dataframe\">\n",
       "  <thead>\n",
       "    <tr style=\"text-align: right;\">\n",
       "      <th></th>\n",
       "      <th>#substrate</th>\n",
       "      <th>position</th>\n",
       "      <th>id</th>\n",
       "      <th>networkin_score</th>\n",
       "      <th>tree</th>\n",
       "      <th>netphorest_group</th>\n",
       "      <th>netphorest_score</th>\n",
       "      <th>string_identifier</th>\n",
       "      <th>string_score</th>\n",
       "      <th>substrate_name</th>\n",
       "      <th>sequence</th>\n",
       "      <th>string_path</th>\n",
       "    </tr>\n",
       "  </thead>\n",
       "  <tbody>\n",
       "    <tr>\n",
       "      <th>0</th>\n",
       "      <td>A1CF (ENSP00000363105)</td>\n",
       "      <td>154</td>\n",
       "      <td>ACTR2</td>\n",
       "      <td>0.1659</td>\n",
       "      <td>KIN</td>\n",
       "      <td>ACTR2_ACTR2B_TGFbR2_group</td>\n",
       "      <td>0.0485</td>\n",
       "      <td>ENSP00000282641</td>\n",
       "      <td>0.0860</td>\n",
       "      <td>A1CF</td>\n",
       "      <td>REEILsEMKKV</td>\n",
       "      <td>ENSP00000241416, 0.5192 ENSP00000256759, 0.480...</td>\n",
       "    </tr>\n",
       "    <tr>\n",
       "      <th>1</th>\n",
       "      <td>A1CF (ENSP00000363105)</td>\n",
       "      <td>154</td>\n",
       "      <td>ACTR2B</td>\n",
       "      <td>0.1659</td>\n",
       "      <td>KIN</td>\n",
       "      <td>ACTR2_ACTR2B_TGFbR2_group</td>\n",
       "      <td>0.0485</td>\n",
       "      <td>ENSP00000282641</td>\n",
       "      <td>0.0837</td>\n",
       "      <td>A1CF</td>\n",
       "      <td>REEILsEMKKV</td>\n",
       "      <td>ENSP00000340361, 0.5192 ENSP00000256759, 0.480...</td>\n",
       "    </tr>\n",
       "    <tr>\n",
       "      <th>2</th>\n",
       "      <td>A1CF (ENSP00000363105)</td>\n",
       "      <td>154</td>\n",
       "      <td>AMPKa1</td>\n",
       "      <td>0.0145</td>\n",
       "      <td>KIN</td>\n",
       "      <td>AMPK_group</td>\n",
       "      <td>0.0061</td>\n",
       "      <td>ENSP00000282641</td>\n",
       "      <td>0.0960</td>\n",
       "      <td>A1CF</td>\n",
       "      <td>REEILsEMKKV</td>\n",
       "      <td>ENSP00000346148, 0.6272 ENSP00000233242, 0.213...</td>\n",
       "    </tr>\n",
       "    <tr>\n",
       "      <th>3</th>\n",
       "      <td>A1CF (ENSP00000363105)</td>\n",
       "      <td>154</td>\n",
       "      <td>AMPKa2</td>\n",
       "      <td>0.0145</td>\n",
       "      <td>KIN</td>\n",
       "      <td>AMPK_group</td>\n",
       "      <td>0.0061</td>\n",
       "      <td>ENSP00000282641</td>\n",
       "      <td>0.1564</td>\n",
       "      <td>A1CF</td>\n",
       "      <td>REEILsEMKKV</td>\n",
       "      <td>ENSP00000360290, 0.7304 ENSP00000385269, 0.675...</td>\n",
       "    </tr>\n",
       "    <tr>\n",
       "      <th>4</th>\n",
       "      <td>A1CF (ENSP00000363105)</td>\n",
       "      <td>154</td>\n",
       "      <td>ARAF</td>\n",
       "      <td>0.2307</td>\n",
       "      <td>KIN</td>\n",
       "      <td>ARAF_BRAF_RAF1_group</td>\n",
       "      <td>0.0877</td>\n",
       "      <td>ENSP00000282641</td>\n",
       "      <td>0.1414</td>\n",
       "      <td>A1CF</td>\n",
       "      <td>REEILsEMKKV</td>\n",
       "      <td>ENSP00000366244, 0.76 ENSP00000356520, 0.688 E...</td>\n",
       "    </tr>\n",
       "  </tbody>\n",
       "</table>\n",
       "</div>"
      ],
      "text/plain": [
       "               #substrate  position      id  networkin_score tree  \\\n",
       "0  A1CF (ENSP00000363105)       154   ACTR2           0.1659  KIN   \n",
       "1  A1CF (ENSP00000363105)       154  ACTR2B           0.1659  KIN   \n",
       "2  A1CF (ENSP00000363105)       154  AMPKa1           0.0145  KIN   \n",
       "3  A1CF (ENSP00000363105)       154  AMPKa2           0.0145  KIN   \n",
       "4  A1CF (ENSP00000363105)       154    ARAF           0.2307  KIN   \n",
       "\n",
       "            netphorest_group  netphorest_score string_identifier  \\\n",
       "0  ACTR2_ACTR2B_TGFbR2_group            0.0485   ENSP00000282641   \n",
       "1  ACTR2_ACTR2B_TGFbR2_group            0.0485   ENSP00000282641   \n",
       "2                 AMPK_group            0.0061   ENSP00000282641   \n",
       "3                 AMPK_group            0.0061   ENSP00000282641   \n",
       "4       ARAF_BRAF_RAF1_group            0.0877   ENSP00000282641   \n",
       "\n",
       "   string_score substrate_name     sequence  \\\n",
       "0        0.0860           A1CF  REEILsEMKKV   \n",
       "1        0.0837           A1CF  REEILsEMKKV   \n",
       "2        0.0960           A1CF  REEILsEMKKV   \n",
       "3        0.1564           A1CF  REEILsEMKKV   \n",
       "4        0.1414           A1CF  REEILsEMKKV   \n",
       "\n",
       "                                         string_path  \n",
       "0  ENSP00000241416, 0.5192 ENSP00000256759, 0.480...  \n",
       "1  ENSP00000340361, 0.5192 ENSP00000256759, 0.480...  \n",
       "2  ENSP00000346148, 0.6272 ENSP00000233242, 0.213...  \n",
       "3  ENSP00000360290, 0.7304 ENSP00000385269, 0.675...  \n",
       "4  ENSP00000366244, 0.76 ENSP00000356520, 0.688 E...  "
      ]
     },
     "execution_count": 15,
     "metadata": {},
     "output_type": "execute_result"
    }
   ],
   "source": [
    "df.head()"
   ]
  },
  {
   "cell_type": "code",
   "execution_count": 16,
   "metadata": {
    "collapsed": true
   },
   "outputs": [],
   "source": [
    "substartes=df['#substrate']"
   ]
  },
  {
   "cell_type": "code",
   "execution_count": 17,
   "metadata": {},
   "outputs": [
    {
     "data": {
      "text/plain": [
       "5193537"
      ]
     },
     "execution_count": 17,
     "metadata": {},
     "output_type": "execute_result"
    }
   ],
   "source": [
    "substartes.size"
   ]
  },
  {
   "cell_type": "code",
   "execution_count": 18,
   "metadata": {
    "collapsed": true
   },
   "outputs": [],
   "source": [
    "substartes_nodupe = df['#substrate'].drop_duplicates()"
   ]
  },
  {
   "cell_type": "code",
   "execution_count": 19,
   "metadata": {},
   "outputs": [
    {
     "data": {
      "text/plain": [
       "6697"
      ]
     },
     "execution_count": 19,
     "metadata": {},
     "output_type": "execute_result"
    }
   ],
   "source": [
    "substartes_nodupe.size"
   ]
  },
  {
   "cell_type": "code",
   "execution_count": 20,
   "metadata": {
    "collapsed": true
   },
   "outputs": [],
   "source": [
    "kinase = df['id']\n"
   ]
  },
  {
   "cell_type": "code",
   "execution_count": 21,
   "metadata": {},
   "outputs": [
    {
     "data": {
      "text/plain": [
       "5193537"
      ]
     },
     "execution_count": 21,
     "metadata": {},
     "output_type": "execute_result"
    }
   ],
   "source": [
    "kinase.size"
   ]
  },
  {
   "cell_type": "code",
   "execution_count": 22,
   "metadata": {
    "collapsed": true
   },
   "outputs": [],
   "source": [
    "kinase_nodupe = df['id'].drop_duplicates()"
   ]
  },
  {
   "cell_type": "code",
   "execution_count": 23,
   "metadata": {},
   "outputs": [
    {
     "data": {
      "text/plain": [
       "208"
      ]
     },
     "execution_count": 23,
     "metadata": {},
     "output_type": "execute_result"
    }
   ],
   "source": [
    "kinase_nodupe.size"
   ]
  },
  {
   "cell_type": "code",
   "execution_count": 24,
   "metadata": {},
   "outputs": [
    {
     "data": {
      "text/plain": [
       "0            ACTR2\n",
       "1           ACTR2B\n",
       "2           AMPKa1\n",
       "3           AMPKa2\n",
       "4             ARAF\n",
       "5              ATM\n",
       "6              ATR\n",
       "7          AuroraA\n",
       "8          AuroraB\n",
       "9          AuroraC\n",
       "10           BCKDK\n",
       "11            CDK1\n",
       "12            CDK2\n",
       "13            CDK3\n",
       "14            CDK4\n",
       "15            CDK5\n",
       "16            CDK6\n",
       "17            CDK7\n",
       "18        CK1alpha\n",
       "19       CK1alpha2\n",
       "20        CK1delta\n",
       "21      CK1epsilon\n",
       "22       CK1gamma1\n",
       "23       CK1gamma2\n",
       "24       CK1gamma3\n",
       "25           CK2a2\n",
       "26        CK2alpha\n",
       "27            CLK1\n",
       "28            CLK2\n",
       "29            CLK3\n",
       "           ...    \n",
       "336      PDGFRbeta\n",
       "337            Ron\n",
       "338            Src\n",
       "340            Srm\n",
       "342           TRKA\n",
       "343           TRKB\n",
       "344           TRKC\n",
       "345            TXK\n",
       "347            Tec\n",
       "349           Tyk2\n",
       "350            Yes\n",
       "800         MAPK11\n",
       "801         MAPK12\n",
       "802         MAPK13\n",
       "803         MAPK14\n",
       "1326         DAPK1\n",
       "1327         DAPK2\n",
       "1328         DAPK3\n",
       "1346          LKB1\n",
       "1347           LOK\n",
       "1356        MAP4K4\n",
       "1357        MAP4K6\n",
       "1372          MST1\n",
       "1373          MST2\n",
       "1374          MST3\n",
       "1375          MST4\n",
       "1382           NRK\n",
       "1427           SLK\n",
       "1431          TNIK\n",
       "1433          YSK1\n",
       "Name: id, dtype: object"
      ]
     },
     "execution_count": 24,
     "metadata": {},
     "output_type": "execute_result"
    }
   ],
   "source": [
    "kinase_nodupe"
   ]
  },
  {
   "cell_type": "code",
   "execution_count": null,
   "metadata": {},
   "outputs": [],
   "source": [
    "substartes_nodupe"
   ]
  },
  {
   "cell_type": "code",
   "execution_count": 25,
   "metadata": {
    "collapsed": true
   },
   "outputs": [],
   "source": [
    "kinase_nodupe.to_csv('C:\\\\Users\\\\Bijith\\\\ownCloud\\\\tomoe-data\\\\data-wp-tomoe-kinases\\\\interim\\\\SOA_Data\\\\Kinomexplorer\\\\kinase_list.csv',index=0)"
   ]
  },
  {
   "cell_type": "code",
   "execution_count": null,
   "metadata": {
    "collapsed": true
   },
   "outputs": [],
   "source": []
  }
 ],
 "metadata": {
  "kernelspec": {
   "display_name": "Python 3",
   "language": "python",
   "name": "python3"
  },
  "language_info": {
   "codemirror_mode": {
    "name": "ipython",
    "version": 3
   },
   "file_extension": ".py",
   "mimetype": "text/x-python",
   "name": "python",
   "nbconvert_exporter": "python",
   "pygments_lexer": "ipython3",
   "version": "3.6.0"
  }
 },
 "nbformat": 4,
 "nbformat_minor": 2
}
