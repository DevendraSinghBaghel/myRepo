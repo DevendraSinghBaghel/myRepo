{
 "cells": [
  {
   "cell_type": "code",
   "execution_count": 18,
   "metadata": {
    "collapsed": false
   },
   "outputs": [],
   "source": [
    "num_list = [-7, 1, 5, 2, -4, 3, 0]\n",
    "right_sum = sum(num_list)\n",
    "left_sum=0"
   ]
  },
  {
   "cell_type": "code",
   "execution_count": 19,
   "metadata": {
    "collapsed": false
   },
   "outputs": [
    {
     "name": "stdout",
     "output_type": "stream",
     "text": [
      "0\n",
      "right:7\n",
      "left:-7\n",
      "1\n",
      "right:6\n",
      "left:-6\n",
      "2\n",
      "right:1\n",
      "left:-1\n",
      "3\n",
      "right:-1\n",
      "left:1\n",
      "4\n",
      "right:3\n",
      "left:-3\n",
      "5\n",
      "right:0\n",
      "left:0\n",
      "5 is a Equillibrum index\n",
      "6\n",
      "right:0\n",
      "left:0\n",
      "6 is a Equillibrum index\n"
     ]
    }
   ],
   "source": [
    "#1 The sum of all elements in the list and assigned to rigt_sum\n",
    "#2 Traverse through all elements in the list \n",
    "#     right_sum -= element in list\n",
    "#     left_sum += element in list\n",
    "#     if left_sum == right_sum: then the equilbrum index has reached\n",
    "    \n",
    "for i in range(0,len(num_list)):\n",
    "   print i\n",
    "   list_val = num_list[i]\n",
    "   right_sum -= list_val\n",
    "   print \"right:\"+str(right_sum) \n",
    "   left_sum  += list_val\n",
    "   print \"left:\"+str(left_sum)\n",
    "   if ( left_sum == right_sum):\n",
    "        print(str(i) +\" is a Equillibrum index\")\n",
    "    \n",
    "    "
   ]
  },
  {
   "cell_type": "code",
   "execution_count": null,
   "metadata": {
    "collapsed": true
   },
   "outputs": [],
   "source": []
  }
 ],
 "metadata": {
  "kernelspec": {
   "display_name": "Python 2",
   "language": "python",
   "name": "python2"
  },
  "language_info": {
   "codemirror_mode": {
    "name": "ipython",
    "version": 2
   },
   "file_extension": ".py",
   "mimetype": "text/x-python",
   "name": "python",
   "nbconvert_exporter": "python",
   "pygments_lexer": "ipython2",
   "version": "2.7.11"
  }
 },
 "nbformat": 4,
 "nbformat_minor": 0
}
